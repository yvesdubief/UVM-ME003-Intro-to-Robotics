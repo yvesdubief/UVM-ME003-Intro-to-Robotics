{
 "cells": [
  {
   "cell_type": "markdown",
   "metadata": {},
   "source": [
    "# **ME 003 - Introduction to Python Coding - Robotics - Answer Notebook:**\n",
    "***"
   ]
  },
  {
   "cell_type": "markdown",
   "metadata": {},
   "source": [
    "#### **Q1:** Define z with value 10 and cast it as an int following the above rubric for class/ data type definition:"
   ]
  },
  {
   "cell_type": "code",
   "execution_count": null,
   "metadata": {},
   "outputs": [],
   "source": [
    "z = int(10)"
   ]
  },
  {
   "cell_type": "markdown",
   "metadata": {},
   "source": [
    "#### **Q2:** Enter the name of this course as a string and assign it to the variable \"course_name\". Then verify its type is a string:"
   ]
  },
  {
   "cell_type": "code",
   "execution_count": null,
   "metadata": {},
   "outputs": [],
   "source": [
    "course_name = str(\"ME 003\")\n",
    "type(course_name)"
   ]
  },
  {
   "cell_type": "markdown",
   "metadata": {},
   "source": [
    "#### **Q3:** Type *import math* to import the math library. On the next line enter the dir command to see the methods in the math library. Then get help on the square root method. "
   ]
  },
  {
   "cell_type": "code",
   "execution_count": null,
   "metadata": {},
   "outputs": [],
   "source": [
    "import math\n",
    "dir(math)\n",
    "help(math.sqrt)"
   ]
  },
  {
   "cell_type": "markdown",
   "metadata": {},
   "source": [
    "#### **Q4:** Define a variable \"tasty\" with class float and value 3.14 . On the next line print the text \"The value of tasty is: \" followed by variable tasty's value using the { } syntax (not just entering 3.14)."
   ]
  },
  {
   "cell_type": "code",
   "execution_count": null,
   "metadata": {},
   "outputs": [],
   "source": [
    "tasty = float(3.14)\n",
    "print(f\"The value of tasty is: {tasty}\")"
   ]
  },
  {
   "cell_type": "markdown",
   "metadata": {},
   "source": [
    "#### **Q4.2:** Calculate the square root of 15129 using the math module and return the answer in a print statement \"The square root of 15129 is:\" "
   ]
  },
  {
   "cell_type": "code",
   "execution_count": null,
   "metadata": {},
   "outputs": [],
   "source": [
    "import math\n",
    "ans = int(math.sqrt(15129))\n",
    "print(f\"The square root of 15129 is: {ans}\")"
   ]
  },
  {
   "cell_type": "markdown",
   "metadata": {},
   "source": [
    "#### **Q5:** Calculate the area of a circle with radius r = 3 and suppress the output at 3 decimal places:"
   ]
  },
  {
   "cell_type": "code",
   "execution_count": null,
   "metadata": {},
   "outputs": [],
   "source": [
    "import math \n",
    "r = 3\n",
    "area = math.pi*r**2\n",
    "print(f\"The area of a circle with radius 3 is: {area:.3f}\")"
   ]
  },
  {
   "cell_type": "markdown",
   "metadata": {},
   "source": [
    "#### **Q6**: Create a list called calendar with the 24 elements being the name of each month of the year followed directly by the number of that specific month. Then print \"The months of the year are: (calendar list variable)\""
   ]
  },
  {
   "cell_type": "code",
   "execution_count": null,
   "metadata": {},
   "outputs": [],
   "source": [
    "calendar = [\"January\",1,\"February\",2,\"March\",3,\"April\",4,\"May\",5,\"June\",6,\"July\",7,\"August\",8,\"September\",9,\"October\",10,\"Novemeber\",11,\"December\",12]\n",
    "print(f\"The months of the year are: {calendar}\")"
   ]
  },
  {
   "cell_type": "markdown",
   "metadata": {},
   "source": [
    "#### **Q7:** Now make a list called \"me\" with elements of your name, birth year (yyyy) and college graduation year. Print the \"me\" list.<br>Then make a list called \"UVM\" with elements of the name of this university, the date of UVM's establishment (yyyy) and number of students in your class at UVM. Print the \"UVM\" list.<br> Then print the two lists concatenated. <br>Then print each list separately to confirm they were unchanged."
   ]
  },
  {
   "cell_type": "code",
   "execution_count": null,
   "metadata": {},
   "outputs": [],
   "source": [
    "me = [\"student's_name\", 2000, 2023]\n",
    "print(me)\n",
    "UVM = [\"The University of Vermont\", 1791, 2500]\n",
    "print(UVM)\n",
    "print(me+UVM)\n",
    "print(me)\n",
    "print(UVM)"
   ]
  },
  {
   "cell_type": "markdown",
   "metadata": {},
   "source": [
    "#### **Q8:** Create a NumPy array called np_A_1 using the range function with even numbers from 2 to 10 (inclusive). Then divide it by 2 and print the result:"
   ]
  },
  {
   "cell_type": "code",
   "execution_count": null,
   "metadata": {},
   "outputs": [],
   "source": [
    "import numpy as np\n",
    "np_A_1 = np.array(range(2,12,2))\n",
    "print(np_A_1)\n",
    "print(np_A_1/2)"
   ]
  },
  {
   "cell_type": "markdown",
   "metadata": {},
   "source": [
    "#### **Q9**: Print the 3rd index of L1. <br> Append to L1 the rest of the integers to 8 (inclusive) and then print the new version of L1:"
   ]
  },
  {
   "cell_type": "code",
   "execution_count": null,
   "metadata": {},
   "outputs": [],
   "source": [
    "L1 = [1,2,3,4]\n",
    "#your code here:\n",
    "print(L1[3])\n",
    "L1.append(5)\n",
    "L1.append(6)\n",
    "L1.append(7)\n",
    "L1.append(8)\n",
    "print(L1)"
   ]
  },
  {
   "cell_type": "markdown",
   "metadata": {},
   "source": [
    "#### **Q10:** Using the range function, Create an array named A_2 with values of 1 to 20. <br> Then slice the values from 3 to 13 (inclusive) into a new array called A_2_s and print the new array:"
   ]
  },
  {
   "cell_type": "code",
   "execution_count": null,
   "metadata": {},
   "outputs": [],
   "source": [
    "import numpy as np\n",
    "A_2 = np.array(range(1,21))\n",
    "print(A_2)\n",
    "A_2_s = A_2[3:13]\n",
    "print(A_2_s)"
   ]
  },
  {
   "cell_type": "markdown",
   "metadata": {},
   "source": [
    "#### **Q11:** Now make your own dictionary of the North Beach Park address called \"NBP_a\" using the dict() constructor with the same data structure as shown above *but omit the coordinates*. <br> Then add the coordinates using the above method. <br> Finally access the city value using its key."
   ]
  },
  {
   "cell_type": "code",
   "execution_count": null,
   "metadata": {},
   "outputs": [],
   "source": [
    "# building = \"North Beach Club House\"\n",
    "# number   = 1\n",
    "# street   = \"Institute Rd\"\n",
    "# city     = \"Burlington\"\n",
    "# state    = \"VT\"\n",
    "# zip      = 05401\n",
    "# coord    = (44.492228, -73.240930)\n",
    "NBP_a = dict(building = \"North Beach Club House\", number = 1,# \"n/a is also ok here\"\n",
    "            street = \"Institute Rd\", city = \"Burlington\", \n",
    "            state = \"VT\", zip = \"05401\",)\n"
   ]
  },
  {
   "cell_type": "markdown",
   "metadata": {},
   "source": [
    "#### **Q11.2:** Then add the coordinates using the square bracket method as described above."
   ]
  },
  {
   "cell_type": "code",
   "execution_count": null,
   "metadata": {},
   "outputs": [],
   "source": [
    "NBP_a[\"coord\"] = (44.492228, -73.240930)"
   ]
  },
  {
   "cell_type": "markdown",
   "metadata": {},
   "source": [
    "#### **Q11.3:** Finally verify the coordinates were correctly added by accessing the coord value using its key."
   ]
  },
  {
   "cell_type": "code",
   "execution_count": null,
   "metadata": {},
   "outputs": [],
   "source": [
    "NBP_a[\"coord\"]"
   ]
  },
  {
   "cell_type": "markdown",
   "metadata": {},
   "source": [
    "#### **Q12:** Write an if statement that takes user input for their GPA and determines if they made the Dean's list and congratulates the student if applicable. (UVM's Dean's list: not less than 3.00 GPA who stood in the top 20 percent of each class of their college/school during the preceding semester.\")"
   ]
  },
  {
   "cell_type": "code",
   "execution_count": null,
   "metadata": {},
   "outputs": [],
   "source": [
    "gpa = float(input(\"Enter your GPA: \"))\n",
    "if gpa >= 3.0:\n",
    "    print(\"Congratulations! You qualified for the Dean's list!\")"
   ]
  },
  {
   "cell_type": "markdown",
   "metadata": {},
   "source": [
    "#### **Q13:** Add to Q12, an else statement with a GPA difference calculator that prints to 2 decimal places and an incouraging statement if the student did not qualify for the Dean's List:"
   ]
  },
  {
   "cell_type": "code",
   "execution_count": null,
   "metadata": {},
   "outputs": [],
   "source": [
    "gpa = float(input(\"Enter your GPA: \"))\n",
    "if gpa >= 3.0:\n",
    "    print(\"Congratulations! You qualified for the Dean's list!\")\n",
    "else:\n",
    "    gpa_diff = 3.0 - gpa\n",
    "    print(f\"You were {gpa_diff:.2f} from making the Dean's List. Keep cranking & work smarter, not harder!\")\n",
    "        "
   ]
  },
  {
   "cell_type": "markdown",
   "metadata": {},
   "source": [
    "#### **Q14:** Create an exam letter grade calculator based upon the usual delineation: A >= 90, B >= 80, C >= 70, D >= 60, F < 60. It must take user input for the student's grade and print the corresponding letter grade. It must also produce an error message for entries greater than 100 and less than 0, say \"Error! Enter a number between 0 and 100.\""
   ]
  },
  {
   "cell_type": "code",
   "execution_count": null,
   "metadata": {},
   "outputs": [],
   "source": [
    "grade = int(input(\"Enter your exam grade: \"))\n",
    "if grade <= 100 and grade >= 90:\n",
    "    print(\"You earned an A!\")\n",
    "elif grade < 90 and grade >= 80:\n",
    "    print(\"You earned a B!\")\n",
    "elif grade <80 and grade >= 70:\n",
    "    print(\"You earned a C.\")\n",
    "elif grade <70 and grade >= 60:\n",
    "    print(\"You earned a D.\")\n",
    "elif grade < 60:\n",
    "    print(\"You failed.\")\n",
    "else:\n",
    "    print(\"Error! Enter a number between 0 and 100.\")"
   ]
  },
  {
   "cell_type": "markdown",
   "metadata": {},
   "source": [
    "#### **Q15:** Develop a for loop that fills a zeros-initialized array with the first 10 perfect squares and prints the array at each iteration:"
   ]
  },
  {
   "cell_type": "code",
   "execution_count": null,
   "metadata": {},
   "outputs": [],
   "source": [
    "import numpy as np\n",
    "A_square = np.array(np.zeros(10))\n",
    "for i in range(11):\n",
    "    square = i**2\n",
    "    A_square[i-1] = square\n",
    "    print(A_square)"
   ]
  },
  {
   "cell_type": "markdown",
   "metadata": {},
   "source": [
    "#### **Q16:** Develop code that solves the previous problem using a while loop. (Hint: if in Q15 you struggled to produce the 10th perfect square (100), think about your index number when filling the array.)"
   ]
  },
  {
   "cell_type": "code",
   "execution_count": null,
   "metadata": {},
   "outputs": [],
   "source": [
    "import numpy as np\n",
    "A_square = np.array(np.zeros(10))\n",
    "i = 0\n",
    "while i < 11:\n",
    "    square = i**2\n",
    "    A_square[i-1] = square \n",
    "    print(A_square)\n",
    "    i += 1"
   ]
  },
  {
   "cell_type": "markdown",
   "metadata": {},
   "source": [
    "#### **Q17:** Define your own function that takes input of radius r, and height h, and calculates the area of a right circular cone to two decimal places (only accept positive input). The formula for the area of a right circular cone is: A = Pi•r•(r+sqrt(h^2 + r^2)). Hint you will need to import a module and follow PEMDAS carefully. Good luck!"
   ]
  },
  {
   "cell_type": "code",
   "execution_count": null,
   "metadata": {},
   "outputs": [],
   "source": [
    "import math\n",
    "def r_cone(r,h):\n",
    "    r = float(input(\"Enter a radius: \"))\n",
    "    while r <= 0:\n",
    "        r = float(input(\"Enter a radius greater than 0: \"))\n",
    "    h = float(input(\"Enter a height: \"))\n",
    "    while h <= 0:\n",
    "        h = float(input(\"Enter a height greater than 0: \"))\n",
    "    A = math.pi*r*(r + math.sqrt(h**2 + r**2))\n",
    "    print(f\"The area of a right circular cone with radius {r} and height {h} is: {A:.2f} \")\n",
    "    "
   ]
  },
  {
   "cell_type": "markdown",
   "metadata": {},
   "source": [
    "#### **Q18:** Correctly call the function you wrote in question 17 and show that it handles erroneous entries and correctly calculates entries  within the appropriate bounds."
   ]
  },
  {
   "cell_type": "code",
   "execution_count": null,
   "metadata": {},
   "outputs": [],
   "source": [
    "r_cone(1,2)"
   ]
  },
  {
   "cell_type": "markdown",
   "metadata": {},
   "source": [
    "#### **Q19:** Now create a function that takes user input for file_name and then opens that file in read mode and prints the contents of the file. The present working directory is assumed to be Course-Documents. "
   ]
  },
  {
   "cell_type": "code",
   "execution_count": null,
   "metadata": {},
   "outputs": [],
   "source": [
    "def open_file(file_name):\n",
    "    \"\"\"open_file: Takes input argument of file_name (including file type) \n",
    "    and opens desired file.\"\"\"\n",
    "    f = open(file_name,\"r\")\n",
    "    for line in f:\n",
    "        print(line.strip())\n",
    "        \n",
    "open_file(\"Useful_websites.txt\")"
   ]
  },
  {
   "cell_type": "markdown",
   "metadata": {},
   "source": [
    "### **Q20:** Write your own class called Quad that has two methods: \\_\\_init\\_\\_ with attributes a, b and c, and one called quadratic that calculates the quadratic formula. (Hint: you will want to use the cmath module). "
   ]
  },
  {
   "cell_type": "code",
   "execution_count": null,
   "metadata": {},
   "outputs": [],
   "source": [
    "import cmath\n",
    "class Quad:\n",
    "    \"\"\"Class Quad calculates the quadratic formula based upon inputs of a, b and c for\n",
    "    a quadratic of the form ax^2 + bx + c = 0\"\"\"\n",
    "    def __init__(self, a, b, c):\n",
    "        \"\"\"This is the init method which initializes the attributes a, b and c\"\"\"\n",
    "        self.a = a\n",
    "        self.b = b\n",
    "        self.c = c\n",
    "    def quadratic(a,b,c):\n",
    "        \"\"\"The quadratic method takes inputs of a, b and c and calculates both the \n",
    "        positive and negative roots of a quadratic of the form ax^2 + bx + c = 0 and \n",
    "        returns both the real and imaginary roots while suppressing output to 2 decimal\n",
    "        places for the roots.\"\"\"\n",
    "        a = float(input(\"Enter the value of a: \"))\n",
    "        b = float(input(\"Enter the value of b: \"))\n",
    "        c = float(input(\"Enter the value of c: \"))\n",
    "        x_pos = (-b + cmath.sqrt((b**2) - (4*a*c)))/(2*a)\n",
    "        x_neg = (-b - cmath.sqrt((b**2) - (4*a*c)))/(2*a)\n",
    "        print(f\"The positive root of {a}x^2 + {b}x + {c} = 0 is: {x_pos:.2f} \\n The negative root of {a}x^2 + {b}x + {c} = 0 is: {x_neg:.2f}\")"
   ]
  },
  {
   "cell_type": "code",
   "execution_count": null,
   "metadata": {},
   "outputs": [],
   "source": [
    "#Example of Correct input:\n",
    "Q_F = Quad(2,3,4)\n",
    "Q_F.quadratic(2,3)"
   ]
  },
  {
   "cell_type": "code",
   "execution_count": null,
   "metadata": {},
   "outputs": [],
   "source": []
  }
 ],
 "metadata": {
  "kernelspec": {
   "display_name": "Python 3",
   "language": "python",
   "name": "python3"
  },
  "language_info": {
   "codemirror_mode": {
    "name": "ipython",
    "version": 3
   },
   "file_extension": ".py",
   "mimetype": "text/x-python",
   "name": "python",
   "nbconvert_exporter": "python",
   "pygments_lexer": "ipython3",
   "version": "3.6.8"
  }
 },
 "nbformat": 4,
 "nbformat_minor": 4
}
