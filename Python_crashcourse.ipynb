{
 "cells": [
  {
   "cell_type": "markdown",
   "metadata": {},
   "source": [
    "# ME 003 - Introduction to Python Coding - Robotics"
   ]
  },
  {
   "cell_type": "markdown",
   "metadata": {},
   "source": [
    "_“Strive for perfection in everything you do. Take the best that exists and make it better. When it does not exist, design it.”_\n",
    "_-Sir Henry Royce_ <br>\n",
    "\n",
    "_The power of engineering thought cannot be overrated. To have an understanding of the world's systems enables you to think up new ones - ones that are likely to work. Coding is not just another tool for your toolbox. It is a way of relating all tools to eachother and use them in an efficient fashion._ <br>\n",
    "\n",
    "_Our world is changing. We are not alone anymore. We work with a new intelligence. We have the technology. Machines work faster than we do. They don't sleep. They don't make mistakes. I can talk to machines. I tell them what to do. I speak their language. I code. Tomorrow's problems will be solved by machines. You have the opportunity to learn and create things that have never been dreamt till now._ <br>\n",
    "\n",
    "_In Mechanical Engineering, we seek to facilitate efficient systems of movement. To be efficient we require as much information as possible about the system. We gain this information through sensors and the output from these sensors is in code format. Therefore coding is critical to the success of an optomizable system._ <br>"
   ]
  },
  {
   "cell_type": "markdown",
   "metadata": {},
   "source": [
    "***"
   ]
  },
  {
   "cell_type": "markdown",
   "metadata": {},
   "source": [
    "Useful syntax:<br>\n",
    "the # denotes a commented section of code. If you want to add a comment in your code and not have that comment executed as code, put a # infront of your text and the rest of that line will not be run as code. "
   ]
  },
  {
   "cell_type": "markdown",
   "metadata": {},
   "source": [
    "## **Variable Assignment:**"
   ]
  },
  {
   "cell_type": "markdown",
   "metadata": {},
   "source": [
    "In most coding languages there are different ways of storing data called classes / data types. Classes enable classification of data and are the building blocks of code. The term data type, and class can be used interchangeably. For this course, we will focus on the following basic classes:"
   ]
  },
  {
   "cell_type": "markdown",
   "metadata": {},
   "source": [
    "![](in_doc_images/basic_py_classes.png)\n",
    "(From Basics of Object & Datatypes for PYTHON. (2019, January 08). Retrieved from http://technofission.com/basics-of-object-datatypes-for-python/)"
   ]
  },
  {
   "cell_type": "markdown",
   "metadata": {},
   "source": [
    "To assign a variable in Python you type the variable name followed by an equals sign and then the value assigned to that variable:"
   ]
  },
  {
   "cell_type": "code",
   "execution_count": 32,
   "metadata": {},
   "outputs": [],
   "source": [
    "x = 1"
   ]
  },
  {
   "cell_type": "markdown",
   "metadata": {},
   "source": [
    "When defining a variable with a specific class you use the same structure but type the class after the equals and put parenthesis around the value you are casting:"
   ]
  },
  {
   "cell_type": "code",
   "execution_count": 33,
   "metadata": {},
   "outputs": [],
   "source": [
    "y = int(2)"
   ]
  },
  {
   "cell_type": "markdown",
   "metadata": {},
   "source": [
    "To check we have correctly casted y as an integer with value 2 we enter:"
   ]
  },
  {
   "cell_type": "code",
   "execution_count": 34,
   "metadata": {},
   "outputs": [
    {
     "data": {
      "text/plain": [
       "int"
      ]
     },
     "execution_count": 34,
     "metadata": {},
     "output_type": "execute_result"
    }
   ],
   "source": [
    "type(y)"
   ]
  },
  {
   "cell_type": "markdown",
   "metadata": {},
   "source": [
    "And we see we have correctly cast y as an integer with value of 2. \n",
    "<br>\n",
    "<br>\n",
    "Now lets take a baby step and try assigning a variable as above:"
   ]
  },
  {
   "cell_type": "markdown",
   "metadata": {},
   "source": [
    "#### **Q1:** Define z with value 10 and cast it as an int following the above rubric for class/ data type definition:"
   ]
  },
  {
   "cell_type": "code",
   "execution_count": 36,
   "metadata": {},
   "outputs": [],
   "source": [
    "#type your code on the next line\n"
   ]
  },
  {
   "cell_type": "markdown",
   "metadata": {},
   "source": [
    "Now we will practice with other classes. For strings you need to put quotes around your text. If you fail to do so you will get an error:"
   ]
  },
  {
   "cell_type": "code",
   "execution_count": 43,
   "metadata": {},
   "outputs": [
    {
     "name": "stdout",
     "output_type": "stream",
     "text": [
      "The name entered was bob\n"
     ]
    },
    {
     "data": {
      "text/plain": [
       "str"
      ]
     },
     "execution_count": 43,
     "metadata": {},
     "output_type": "execute_result"
    }
   ],
   "source": [
    "#correct string definition:\n",
    "name = str(\"bob\")\n",
    "#printing the entered string\n",
    "print(f\"The name entered was {name}\")\n",
    "#checking the data type of name variable\n",
    "type(name)"
   ]
  },
  {
   "cell_type": "markdown",
   "metadata": {},
   "source": [
    "Now showing what would happen if you failed to enclose bob in parenthesis:"
   ]
  },
  {
   "cell_type": "code",
   "execution_count": 45,
   "metadata": {},
   "outputs": [
    {
     "ename": "NameError",
     "evalue": "name 'bob' is not defined",
     "output_type": "error",
     "traceback": [
      "\u001b[0;31m---------------------------------------------------------------------------\u001b[0m",
      "\u001b[0;31mNameError\u001b[0m                                 Traceback (most recent call last)",
      "\u001b[0;32m<ipython-input-45-fa9d0039874b>\u001b[0m in \u001b[0;36m<module>\u001b[0;34m()\u001b[0m\n\u001b[0;32m----> 1\u001b[0;31m \u001b[0mname\u001b[0m \u001b[0;34m=\u001b[0m \u001b[0mstr\u001b[0m\u001b[0;34m(\u001b[0m\u001b[0mbob\u001b[0m\u001b[0;34m)\u001b[0m\u001b[0;34m\u001b[0m\u001b[0;34m\u001b[0m\u001b[0m\n\u001b[0m",
      "\u001b[0;31mNameError\u001b[0m: name 'bob' is not defined"
     ]
    }
   ],
   "source": [
    "name = str(bob)"
   ]
  },
  {
   "cell_type": "markdown",
   "metadata": {},
   "source": [
    "#### **Q2:** Enter the name of this course as a string and assign it to the variable \"course_name\". Then verify its type is a string:"
   ]
  },
  {
   "cell_type": "code",
   "execution_count": null,
   "metadata": {},
   "outputs": [],
   "source": [
    "#your code here\n"
   ]
  },
  {
   "cell_type": "markdown",
   "metadata": {},
   "source": [
    "***"
   ]
  },
  {
   "cell_type": "markdown",
   "metadata": {},
   "source": [
    "## The **Print** Statement:\n",
    "In the above example you have seen me type print( ) with some strange syntax in between parenthesis. This is called the **print** statement and you will use it prolifically. I wish I had been taught it early on when I first learned to code so I am going to teach it to you right off the bat.\n",
    "<br>\n",
    "<br>\n",
    "There are a few different types of formats you can use with the print statement but my favorite and the most convenient is as follows: <br>\n",
    "**print(f\"Text {variable}\")**\n",
    "<br>\n",
    "In this case, the f lets print know you are formatting, the \" lets it know you are entering text, the { } encloses the variable so its value is inserted there, and the 2nd \" and ) close the statement. For now this will be sufficient and you will see this format used very often in these notebooks. \n",
    "<br>\n",
    "Ex:"
   ]
  },
  {
   "cell_type": "code",
   "execution_count": 64,
   "metadata": {},
   "outputs": [
    {
     "name": "stdout",
     "output_type": "stream",
     "text": [
      "The class of b is int and the value of b is: 64\n"
     ]
    }
   ],
   "source": [
    "b = int(64)\n",
    "print(f\"The class of b is int and the value of b is: {b}\")"
   ]
  },
  {
   "cell_type": "markdown",
   "metadata": {},
   "source": [
    "#### **Q3:** Define a variable \"tasty\" with class float and value 3.14 . On the next line print the text \"The value of a is: \" followed by variable tasty's value using the { } system (not just entering 3.14)."
   ]
  },
  {
   "cell_type": "code",
   "execution_count": 54,
   "metadata": {},
   "outputs": [],
   "source": [
    "#your code here\n"
   ]
  },
  {
   "cell_type": "markdown",
   "metadata": {},
   "source": [
    "***"
   ]
  },
  {
   "cell_type": "markdown",
   "metadata": {},
   "source": [
    "## **Simple mathematical processes:** \n"
   ]
  },
  {
   "cell_type": "code",
   "execution_count": null,
   "metadata": {},
   "outputs": [],
   "source": []
  },
  {
   "cell_type": "code",
   "execution_count": 70,
   "metadata": {},
   "outputs": [
    {
     "name": "stdout",
     "output_type": "stream",
     "text": [
      "c = 3\n",
      "ab = 2\n",
      "exp = 4\n",
      "The square root of d = 2\n"
     ]
    }
   ],
   "source": [
    "import math\n",
    "a = 1\n",
    "b = 2\n",
    "c = 1+2 \n",
    "print(f\"c = {c}\")\n",
    "ab = a*b \n",
    "print(f\"ab = {ab}\")\n",
    "#raising to exponent: \n",
    "d = b**2\n",
    "print(f\"exp = {exp}\")\n",
    "square = int(math.sqrt(d))\n",
    "print(f\"The square root of 4 = {square}\")"
   ]
  },
  {
   "cell_type": "markdown",
   "metadata": {},
   "source": [
    "![](in_doc_images/python_math_operators.png)\n",
    "From Starting Out With Python - 3rd Edition - Tony Gaddis. 2015 by Pearson Education Limited."
   ]
  },
  {
   "cell_type": "markdown",
   "metadata": {},
   "source": [
    "#### **Q4:** Calculate the square root of 15129 using the math module and return the answer in a print statement \"The square root of 15129 is: \" . Hint: you will have to import a library."
   ]
  },
  {
   "cell_type": "code",
   "execution_count": null,
   "metadata": {},
   "outputs": [],
   "source": [
    "#your code here\n"
   ]
  },
  {
   "cell_type": "markdown",
   "metadata": {},
   "source": [
    "***"
   ]
  },
  {
   "cell_type": "markdown",
   "metadata": {},
   "source": [
    "## **Interractive help:**\n",
    "Interractive help enables you to quickly learn about classes, functions, and modules right in the python console. \n",
    "<br>\n",
    "type the command dir() (which is short for \"directory\") and press enter. Python will return a collection of available objects:\n",
    "<br>"
   ]
  },
  {
   "cell_type": "markdown",
   "metadata": {},
   "source": [
    "## **Interractive help:**\n",
    "Interractive help enables you to quickly learn about classes, functions, and modules right in the python console. \n",
    "<br>\n",
    "type the command dir() (which is short for \"directory\") and press enter. Python will return a collection of available objects:\n",
    "<br>"
   ]
  },
  {
   "cell_type": "markdown",
   "metadata": {},
   "source": [
    "As an example we will focus on the \"__builtins__\" module: which contains a collection of common objects that are always avaialble to you. To see these objects, call the directory function and pass __builtins__ to it: "
   ]
  },
  {
   "cell_type": "code",
   "execution_count": 73,
   "metadata": {},
   "outputs": [
    {
     "data": {
      "text/plain": [
       "['ArithmeticError',\n",
       " 'AssertionError',\n",
       " 'AttributeError',\n",
       " 'BaseException',\n",
       " 'BlockingIOError',\n",
       " 'BrokenPipeError',\n",
       " 'BufferError',\n",
       " 'BytesWarning',\n",
       " 'ChildProcessError',\n",
       " 'ConnectionAbortedError',\n",
       " 'ConnectionError',\n",
       " 'ConnectionRefusedError',\n",
       " 'ConnectionResetError',\n",
       " 'DeprecationWarning',\n",
       " 'EOFError',\n",
       " 'Ellipsis',\n",
       " 'EnvironmentError',\n",
       " 'Exception',\n",
       " 'False',\n",
       " 'FileExistsError',\n",
       " 'FileNotFoundError',\n",
       " 'FloatingPointError',\n",
       " 'FutureWarning',\n",
       " 'GeneratorExit',\n",
       " 'IOError',\n",
       " 'ImportError',\n",
       " 'ImportWarning',\n",
       " 'IndentationError',\n",
       " 'IndexError',\n",
       " 'InterruptedError',\n",
       " 'IsADirectoryError',\n",
       " 'KeyError',\n",
       " 'KeyboardInterrupt',\n",
       " 'LookupError',\n",
       " 'MemoryError',\n",
       " 'ModuleNotFoundError',\n",
       " 'NameError',\n",
       " 'None',\n",
       " 'NotADirectoryError',\n",
       " 'NotImplemented',\n",
       " 'NotImplementedError',\n",
       " 'OSError',\n",
       " 'OverflowError',\n",
       " 'PendingDeprecationWarning',\n",
       " 'PermissionError',\n",
       " 'ProcessLookupError',\n",
       " 'RecursionError',\n",
       " 'ReferenceError',\n",
       " 'ResourceWarning',\n",
       " 'RuntimeError',\n",
       " 'RuntimeWarning',\n",
       " 'StopAsyncIteration',\n",
       " 'StopIteration',\n",
       " 'SyntaxError',\n",
       " 'SyntaxWarning',\n",
       " 'SystemError',\n",
       " 'SystemExit',\n",
       " 'TabError',\n",
       " 'TimeoutError',\n",
       " 'True',\n",
       " 'TypeError',\n",
       " 'UnboundLocalError',\n",
       " 'UnicodeDecodeError',\n",
       " 'UnicodeEncodeError',\n",
       " 'UnicodeError',\n",
       " 'UnicodeTranslateError',\n",
       " 'UnicodeWarning',\n",
       " 'UserWarning',\n",
       " 'ValueError',\n",
       " 'Warning',\n",
       " 'ZeroDivisionError',\n",
       " '__IPYTHON__',\n",
       " '__build_class__',\n",
       " '__debug__',\n",
       " '__doc__',\n",
       " '__import__',\n",
       " '__loader__',\n",
       " '__name__',\n",
       " '__package__',\n",
       " '__spec__',\n",
       " 'abs',\n",
       " 'all',\n",
       " 'any',\n",
       " 'ascii',\n",
       " 'bin',\n",
       " 'bool',\n",
       " 'bytearray',\n",
       " 'bytes',\n",
       " 'callable',\n",
       " 'chr',\n",
       " 'classmethod',\n",
       " 'compile',\n",
       " 'complex',\n",
       " 'copyright',\n",
       " 'credits',\n",
       " 'delattr',\n",
       " 'dict',\n",
       " 'dir',\n",
       " 'display',\n",
       " 'divmod',\n",
       " 'enumerate',\n",
       " 'eval',\n",
       " 'exec',\n",
       " 'filter',\n",
       " 'float',\n",
       " 'format',\n",
       " 'frozenset',\n",
       " 'get_ipython',\n",
       " 'getattr',\n",
       " 'globals',\n",
       " 'hasattr',\n",
       " 'hash',\n",
       " 'help',\n",
       " 'hex',\n",
       " 'id',\n",
       " 'input',\n",
       " 'int',\n",
       " 'isinstance',\n",
       " 'issubclass',\n",
       " 'iter',\n",
       " 'len',\n",
       " 'license',\n",
       " 'list',\n",
       " 'locals',\n",
       " 'map',\n",
       " 'max',\n",
       " 'memoryview',\n",
       " 'min',\n",
       " 'next',\n",
       " 'object',\n",
       " 'oct',\n",
       " 'open',\n",
       " 'ord',\n",
       " 'pow',\n",
       " 'print',\n",
       " 'property',\n",
       " 'range',\n",
       " 'repr',\n",
       " 'reversed',\n",
       " 'round',\n",
       " 'set',\n",
       " 'setattr',\n",
       " 'slice',\n",
       " 'sorted',\n",
       " 'staticmethod',\n",
       " 'str',\n",
       " 'sum',\n",
       " 'super',\n",
       " 'tuple',\n",
       " 'type',\n",
       " 'vars',\n",
       " 'zip']"
      ]
     },
     "execution_count": 73,
     "metadata": {},
     "output_type": "execute_result"
    }
   ],
   "source": [
    "dir(__builtins__)"
   ]
  },
  {
   "cell_type": "code",
   "execution_count": 69,
   "metadata": {},
   "outputs": [
    {
     "name": "stdout",
     "output_type": "stream",
     "text": [
      "Help on built-in function pow in module builtins:\n",
      "\n",
      "pow(x, y, z=None, /)\n",
      "    Equivalent to x**y (with two arguments) or x**y % z (with three arguments)\n",
      "    \n",
      "    Some types, such as ints, are able to use a more efficient algorithm when\n",
      "    invoked using the three argument form.\n",
      "\n"
     ]
    },
    {
     "data": {
      "text/plain": [
       "9"
      ]
     },
     "execution_count": 69,
     "metadata": {},
     "output_type": "execute_result"
    }
   ],
   "source": [
    "help(pow) #asking for help on the pow function\n",
    "pow(3,2) #correctly using the pow function"
   ]
  },
  {
   "cell_type": "markdown",
   "metadata": {},
   "source": [
    "#### **Q5:** Type *import math* and press enter to import the math library. Then enter the command below to see the modules in the math module. Then get help on the atan method. "
   ]
  },
  {
   "cell_type": "code",
   "execution_count": 72,
   "metadata": {},
   "outputs": [],
   "source": [
    "#your code here\n"
   ]
  },
  {
   "cell_type": "markdown",
   "metadata": {},
   "source": [
    "## **List Assignments:**\n",
    "A list (in Python) is an ordered sequence of heterogeneous elements. A list is analagous to a container for storing multiple data types/ classes in the same list in Python. Lists are mutable meaning you can alter them after creation. Each entry in the list is reffered to as an element and can be accessed by a technique called indexing. *Lists are not Arrays*\n",
    "There are two ways to create a list: <br>"
   ]
  },
  {
   "cell_type": "code",
   "execution_count": null,
   "metadata": {},
   "outputs": [],
   "source": [
    "L1 = list([1, 2, 3, 4])\n",
    "print(f\"L1: {L1}\")"
   ]
  },
  {
   "cell_type": "code",
   "execution_count": 6,
   "metadata": {},
   "outputs": [
    {
     "name": "stdout",
     "output_type": "stream",
     "text": [
      "L2: [5, 6, 7, 8]\n"
     ]
    }
   ],
   "source": [
    "L2 = [5, 6, 7, 8]\n",
    "print(f\"L2: {L2}\")"
   ]
  },
  {
   "cell_type": "markdown",
   "metadata": {},
   "source": [
    "Lists may also contain objects of different classes such as bool(), float(), string(), int(), and *even* other lists:<br>"
   ]
  },
  {
   "cell_type": "code",
   "execution_count": 31,
   "metadata": {},
   "outputs": [
    {
     "name": "stdout",
     "output_type": "stream",
     "text": [
      "diff_list: [True, 420.87, 'Strings', 69, ['even other lists', 24]]\n"
     ]
    }
   ],
   "source": [
    "diff_list = [True, 420.87, \"Strings\", 69, [\"even other lists\", 24]]\n",
    "print(f\"diff_list: {diff_list}\")"
   ]
  },
  {
   "cell_type": "markdown",
   "metadata": {},
   "source": [
    "#### **Q6**: Create a list called calendar with the 24 elements being the name of each month of the year followed directly by the number of that specific month. Then print \"The months of the year are: (calendar list variable)\""
   ]
  },
  {
   "cell_type": "code",
   "execution_count": 1,
   "metadata": {},
   "outputs": [],
   "source": [
    "#your code here\n"
   ]
  },
  {
   "cell_type": "markdown",
   "metadata": {},
   "source": [
    "#### **Range function** \n",
    "A very useful function for creating a long list of numbers is the **range function**. The range() function returns a sequence of numbers, starting from 0 by default, and increments by 1 (by default), and ends at a specified number. <br>\n",
    "**range(stop_number)**"
   ]
  },
  {
   "cell_type": "code",
   "execution_count": null,
   "metadata": {},
   "outputs": [],
   "source": []
  },
  {
   "cell_type": "markdown",
   "metadata": {},
   "source": [
    "range can also take three inputs to specify start, stop and step.<br>\n",
    "**range(start, stop, step)**<br>"
   ]
  },
  {
   "cell_type": "markdown",
   "metadata": {},
   "source": [
    "#### **Concatenation** \n",
    "Lists may also be combined (called concatenation) and order does matter when concatenating:"
   ]
  },
  {
   "cell_type": "code",
   "execution_count": null,
   "metadata": {},
   "outputs": [],
   "source": [
    "letters = [1,2,3]\n",
    "print(f\"letters: {letters}\")\n",
    "numbers = ['a','b','c']\n",
    "print(f\"numbers: {numbers}\") \n",
    "print(letters + numbers)\n",
    "print(numbers + letters)"
   ]
  },
  {
   "cell_type": "markdown",
   "metadata": {},
   "source": [
    "Each list remains unchanged when concatenated with another list:"
   ]
  },
  {
   "cell_type": "code",
   "execution_count": null,
   "metadata": {},
   "outputs": [],
   "source": [
    "print(f\"letters: {letters}\")\n",
    "print(f\"numbers: {numbers}\")"
   ]
  },
  {
   "cell_type": "markdown",
   "metadata": {},
   "source": [
    "#### **.append** method\n",
    "A useful method for lists is the **.append** method which allows you to add values to the end of the list:"
   ]
  },
  {
   "cell_type": "code",
   "execution_count": 7,
   "metadata": {},
   "outputs": [
    {
     "name": "stdout",
     "output_type": "stream",
     "text": [
      "L2:[5, 6, 7, 8, 9]\n"
     ]
    }
   ],
   "source": [
    "L2.append(9)\n",
    "print(f\"L2:{L2}\")"
   ]
  },
  {
   "cell_type": "markdown",
   "metadata": {},
   "source": [
    "While the .append method is convenient, it has significantly slower execution time than initializing an empty array and filling it with a for loop. This system will be explained after a few blocks. <br><br>\n",
    "There are many other builtin methods to be used with lists. To see all of them pass a list to the directory function **dir(list_name)**.<br> \n",
    "***Ex:** type the following into the cell below:* <br>\n",
    "**dir(L2)**<br>"
   ]
  },
  {
   "cell_type": "code",
   "execution_count": 4,
   "metadata": {},
   "outputs": [],
   "source": [
    "#type here\n"
   ]
  },
  {
   "cell_type": "markdown",
   "metadata": {},
   "source": [
    "To learn how to use a method, pass it to the help function as described earlier in this notebook:<br>\n",
    "**help(list_name.method)** <br>\n",
    "ex: **help(L2.copy)**<br>"
   ]
  },
  {
   "cell_type": "code",
   "execution_count": null,
   "metadata": {},
   "outputs": [],
   "source": [
    "help(L2.copy)"
   ]
  },
  {
   "cell_type": "markdown",
   "metadata": {},
   "source": [
    "### **Array Assignments & NumPy library:**\n",
    "An array is an ordered sequence of homogeneous elements. *Note:* Python does not have built in support for arrays so we use the very powerful library called NumPy (Numeric Python). A description from the NumPy site:<br>\n",
    "![](in_doc_images/Numpy_description.png)\n",
    "<br>\n",
    "Additionally, if you want to perform calculations on a list, Python does not have this built-in capability, and NumPy provides a seemlessly integrated system for this.\n",
    "<br>\n",
    "**Ex:** For instance if you wanted to multiply each individual element in a list by 3, you would instead create 3 repeated instances of the original elements in the array, not increase their value by 3:"
   ]
  },
  {
   "cell_type": "code",
   "execution_count": 12,
   "metadata": {},
   "outputs": [
    {
     "name": "stdout",
     "output_type": "stream",
     "text": [
      "[1, 2, 3]\n"
     ]
    }
   ],
   "source": [
    "my_list = ([1,2,3])\n",
    "print(my_list)"
   ]
  },
  {
   "cell_type": "code",
   "execution_count": 13,
   "metadata": {},
   "outputs": [
    {
     "data": {
      "text/plain": [
       "[1, 2, 3, 1, 2, 3, 1, 2, 3]"
      ]
     },
     "execution_count": 13,
     "metadata": {},
     "output_type": "execute_result"
    }
   ],
   "source": [
    "my_list*3"
   ]
  },
  {
   "cell_type": "markdown",
   "metadata": {},
   "source": [
    "NumPy solves this execution error as seen below:"
   ]
  },
  {
   "cell_type": "code",
   "execution_count": 30,
   "metadata": {},
   "outputs": [
    {
     "name": "stdout",
     "output_type": "stream",
     "text": [
      "[1 2 3]\n"
     ]
    },
    {
     "data": {
      "text/plain": [
       "array([3, 6, 9])"
      ]
     },
     "execution_count": 30,
     "metadata": {},
     "output_type": "execute_result"
    }
   ],
   "source": [
    "import numpy as np\n",
    "my_array = np.array([1,2,3])\n",
    "print(my_array)\n",
    "my_array*3 "
   ]
  },
  {
   "cell_type": "markdown",
   "metadata": {},
   "source": [
    "#### **Q: Create one NumPy array with even numbers from 2 to 10 and divide it by 2:**"
   ]
  },
  {
   "cell_type": "code",
   "execution_count": null,
   "metadata": {},
   "outputs": [],
   "source": [
    "#your code here"
   ]
  },
  {
   "cell_type": "markdown",
   "metadata": {},
   "source": [
    "### **Indexing lists and arrays**"
   ]
  },
  {
   "cell_type": "markdown",
   "metadata": {},
   "source": [
    "Indexing is used to access specific elements in a list or array. This enables faster access to an element vs stepping through all entries preceding that element. \n",
    "\n",
    "**index:** address/location in the list<br>\n",
    "To access a specfic element use the following syntax:<br>\n",
    "**list_name[index]**<br>\n",
    "\n",
    "** In Computer Science, indexing starts at 0 ** <br>\n",
    "So the first element in a list or array has an index of 0.<br>"
   ]
  },
  {
   "cell_type": "code",
   "execution_count": null,
   "metadata": {},
   "outputs": [],
   "source": [
    "L1 = [1, 2, 3, 4]\n",
    "print(f\"The elements of L1 are:  {L1}\")\n",
    "# to index to an element use the following syntax:\n",
    "el1 = L1[0]\n",
    "print(f\"The 1st element of L1 is {el1}\")\n",
    "print(f\"The 0th index   of L1 is {el1}\" )"
   ]
  },
  {
   "cell_type": "markdown",
   "metadata": {},
   "source": [
    "i.e. <br>\n",
    "L1:&nbsp;&nbsp;&nbsp;&nbsp;   [1, 2, 3, 4]<br>\n",
    "index: 0&nbsp;&nbsp;1&nbsp;&nbsp;2&nbsp;&nbsp;3"
   ]
  },
  {
   "cell_type": "markdown",
   "metadata": {},
   "source": [
    "If you type list_name[-1] Python returns the last element in the list, and the 2nd to last element has index [-2]<br>"
   ]
  },
  {
   "cell_type": "code",
   "execution_count": null,
   "metadata": {},
   "outputs": [],
   "source": [
    "print(f\"The last element is: L1[-1] = {L1[-1]}\")"
   ]
  },
  {
   "cell_type": "markdown",
   "metadata": {},
   "source": [
    "#### **Q1**: Print the 3rd index of L1."
   ]
  },
  {
   "cell_type": "code",
   "execution_count": null,
   "metadata": {},
   "outputs": [],
   "source": [
    "L1 = [1,2,3,4]\n",
    "#your code here:\n"
   ]
  },
  {
   "cell_type": "markdown",
   "metadata": {},
   "source": [
    "#### **Q2**: Now create your own array named my_array filled with entries from 1 to 10:"
   ]
  },
  {
   "cell_type": "code",
   "execution_count": null,
   "metadata": {},
   "outputs": [],
   "source": [
    "#your code here:\n"
   ]
  },
  {
   "cell_type": "markdown",
   "metadata": {},
   "source": [
    "### **Slicing lists and arrays**\n",
    "Slicing grabs specific values out of a list by *including* the starting index but **excluding** the stopping index: <br>\n",
    "list_name[start:stop]<br>\n",
    "ex:"
   ]
  },
  {
   "cell_type": "code",
   "execution_count": null,
   "metadata": {},
   "outputs": [],
   "source": [
    "print(f\"L1: {L1}\")\n",
    "L1[1:3]"
   ]
  },
  {
   "cell_type": "markdown",
   "metadata": {},
   "source": [
    "Here we can see that the slice started at the 1st index (2) and stopped ***before*** the 3rd index (4) therefore including just 2 and 3 in the slice. This is a common mistake to be sure to go ***one indice past*** the desired element to include it in your slice!"
   ]
  },
  {
   "cell_type": "markdown",
   "metadata": {},
   "source": [
    "#### **Q3:** Create an array with values of 1 to 20 and slice the values from 3 to 13 (inclusive)."
   ]
  },
  {
   "cell_type": "code",
   "execution_count": null,
   "metadata": {},
   "outputs": [],
   "source": [
    "#your code here:\n"
   ]
  },
  {
   "cell_type": "markdown",
   "metadata": {},
   "source": [
    "***"
   ]
  },
  {
   "cell_type": "markdown",
   "metadata": {},
   "source": [
    "## **Dictionaries**\n",
    "AKA Map, or Associative Array but in Python it is know as a Dictionary. Dictionaries are used when you have key - value pairs of data, where each input is mapped to an output. In Python dictionaries, inputs are called **keys** and outputs are called **values**. You may use any type of data types for both keys and values as seen in the address book example below. *Put the value in quotes if it's a string or is a number with a preceding zero.* <br>\n",
    "\n",
    "**Dictionary structure:**\n",
    "object = {\"key_name\":value, \"2nd_key_name\":2nd_value}\n",
    "**Ex:** Address Book (Python dictionary) example : <br>"
   ]
  },
  {
   "cell_type": "code",
   "execution_count": null,
   "metadata": {},
   "outputs": [],
   "source": [
    "# Address Book\n",
    "# building = \"Votey Hall\"\n",
    "# number   = 33\n",
    "# street   = \"Colchester Ave\"\n",
    "# city     = \"Burlington\"\n",
    "# state    = \"VT\"\n",
    "# zip      = 05405\n",
    "# coord    = (44.475769, -73.196318)\n",
    "ad_book = {\"building\": \"Votey Hall\", \"number\":33, \n",
    "           \"street\":\"Colcester Ave\", \"city\":\"Burlington\", \n",
    "           \"state\":\"VT\", \"zip\":\"05405\", \n",
    "           \"coord\":(44.479492, -73.198130)}\n",
    "#(nextline justified to show full line w/o scrolling)"
   ]
  },
  {
   "cell_type": "markdown",
   "metadata": {},
   "source": [
    "You can also use the dict constructor to create dictionaries. When using the regular {} dictionary assigning syntax you need to put quotes aroudn the key_name but when using the dict constructor you don't.<br>\n",
    "**Ex:** A different dictionary containing street addresses using the dict constructor: <br>"
   ]
  },
  {
   "cell_type": "code",
   "execution_count": 2,
   "metadata": {},
   "outputs": [],
   "source": [
    "# Address Book 2\n",
    "# building = \"Davis Center\"\n",
    "# number   = 590\n",
    "# street   = \"Main St\"\n",
    "# city     = \"Burlington\"\n",
    "# state    = \"VT\"\n",
    "# zip      = 05401\n",
    "# coord    = (44.475769, -73.196318)\n",
    "ad_book_2 = dict(building=\"Davis Center\", number=590,\n",
    "                 street=\"Main St\", city=\"Burlington\")\n",
    "#(nextline justified to show full line w/o scrolling)"
   ]
  },
  {
   "cell_type": "markdown",
   "metadata": {},
   "source": [
    "Notice state, zipcode and coordinates are missing from the Davis Center address entry. <br>\n",
    "We can add additional data by using brackets. The key_name goes inside brackets and the equals sign is used to assign the value:<br>\n",
    "**dictionary_name[\"key_name\"] = value** <br>"
   ]
  },
  {
   "cell_type": "code",
   "execution_count": null,
   "metadata": {},
   "outputs": [],
   "source": [
    "ad_book_2[\"state\"] = \"VT\"\n",
    "ad_book_2[\"zip\"] = \"05401\"\n",
    "ad_book_2[\"coord\"] = (44.475769, -73.196318)"
   ]
  },
  {
   "cell_type": "markdown",
   "metadata": {},
   "source": [
    "Now let's print the dictionary to verify all of the data is entered:"
   ]
  },
  {
   "cell_type": "code",
   "execution_count": null,
   "metadata": {},
   "outputs": [],
   "source": [
    "print(ad_book_2)"
   ]
  },
  {
   "cell_type": "markdown",
   "metadata": {},
   "source": [
    "And voila all of the required data is in the dictionary! Some of the data was entered by first using the dict constructor, and the remaining entries using the square brackets [ ] \n",
    "<br>\n",
    "<br>\n",
    "#### **Q: Now make your own dictionary of your home address with the same data structure as shown above:**"
   ]
  },
  {
   "cell_type": "code",
   "execution_count": null,
   "metadata": {},
   "outputs": [],
   "source": []
  },
  {
   "cell_type": "markdown",
   "metadata": {},
   "source": [
    "You access data in a dictionary using brackets. The following data structure is used: <br>\n",
    "**dictionary['key']** <br>\n",
    "#### **Q: Type the command to return and print the coordinates of Votey: (one line of code)**"
   ]
  },
  {
   "cell_type": "code",
   "execution_count": null,
   "metadata": {},
   "outputs": [],
   "source": [
    "print(ad_book['coord'])"
   ]
  },
  {
   "cell_type": "markdown",
   "metadata": {},
   "source": [
    "***"
   ]
  },
  {
   "cell_type": "markdown",
   "metadata": {},
   "source": [
    "## **Conditionals**\n",
    "Conditionals in coding are statements which enable you to have code executed if specific parameters are fullfilled. In simplest terms these conditional statements make decisions based on the status of parameters. \n",
    "<br>\n",
    "### Booleans\n",
    "Booleans are a way of storing true or false values. In Python, _bool_ is the logical class/type for storing true or false values.\n",
    "Computers work in 1s and 0s, True or False, on or off. Booleans are often used as \"flags\" that indicate if specific conditions exist. You *must* **capitalize** **T**rue or **F**alse when entering them as boolean states.\n",
    "<br>\n",
    "To compare variables and receive a Boolean output, the operators for equality/inequality comparison are similar to normal arithmetic: \n",
    "<br>\n",
    "\n",
    "![](in_doc_images/Python_Inequality_cmds.png)\n",
    "Python - Basic Operators. (2019). Retrieved from https://www.tutorialspoint.com/python/python_basic_operators.htm"
   ]
  },
  {
   "cell_type": "code",
   "execution_count": null,
   "metadata": {},
   "outputs": [],
   "source": [
    "#alleged correct resizing markdown <img src=\"Python_Inequality_cmds.png\" style=\"width:400px;height:200px\"/>"
   ]
  },
  {
   "cell_type": "markdown",
   "metadata": {},
   "source": [
    "### **\"if\"** statement\n",
    "An **if** statement will execute code only *if* the statement is true. Use **if** statements when you have a true or false condition. \n",
    "<br>\n",
    "The general data structure is: <br>\n",
    "![](in_doc_images/if_statement_structure.png)\n",
    "<br>\n",
    "A simple example of an if statement is: "
   ]
  },
  {
   "cell_type": "code",
   "execution_count": null,
   "metadata": {},
   "outputs": [],
   "source": [
    "age = 20\n",
    "if age >= 18:\n",
    "    print(\"You can definitely get your license!\")"
   ]
  },
  {
   "cell_type": "markdown",
   "metadata": {},
   "source": [
    "### **\"if-else\"** statements\n",
    "The next step up in functionality is an if-else statement. These are used if you have more than one condition to check. <br>\n",
    "The general data structure is:<br>\n",
    "![](in_doc_images/if-else_statement_structure.png)<br>\n",
    "A simple example of an if-else statement is:"
   ]
  },
  {
   "cell_type": "code",
   "execution_count": null,
   "metadata": {},
   "outputs": [],
   "source": [
    "age = 13\n",
    "if age >= 18:\n",
    "    print(\"You can definitely get your license!\")\n",
    "else:\n",
    "    print(\"Sorry junior, mom's driving.\")"
   ]
  },
  {
   "cell_type": "markdown",
   "metadata": {},
   "source": [
    "### **\"if-elif-else\"** statements:\n",
    "These are used if you have more than 2 conditions to check and theoretically can count (nearly) an infinite amount of conditions.<br>\n",
    "General data structure is:\n",
    "![](in_doc_images/if-elif-else_statement_structure.png)<br>\n",
    "A simple example of an if-elif-else statement is:"
   ]
  },
  {
   "cell_type": "code",
   "execution_count": null,
   "metadata": {},
   "outputs": [],
   "source": [
    "waist = 34\n",
    "if waist < 24:\n",
    "    size = \"M\"\n",
    "elif waist < 36:\n",
    "    size = \"L\"\n",
    "else:\n",
    "    size = \"XL\"\n",
    "print(\"Your pant size is \" + str(size) + \".\")"
   ]
  },
  {
   "cell_type": "markdown",
   "metadata": {},
   "source": [
    "#### Checking *if* a value is in a list:"
   ]
  },
  {
   "cell_type": "code",
   "execution_count": null,
   "metadata": {},
   "outputs": [],
   "source": [
    "counties = [\"Washington\",\"Chittenden\",\"Lamoile\"]\n",
    "\"Chittenden\" in counties"
   ]
  },
  {
   "cell_type": "code",
   "execution_count": null,
   "metadata": {},
   "outputs": [],
   "source": [
    "\"Bama\" in counties"
   ]
  },
  {
   "cell_type": "markdown",
   "metadata": {},
   "source": [
    "### **\"for\"** loop"
   ]
  },
  {
   "cell_type": "markdown",
   "metadata": {},
   "source": [
    "A __for__ loop enables a block of code to be executed a spefific number of times.  A simple __for__ loop has the following general data structure: "
   ]
  },
  {
   "cell_type": "code",
   "execution_count": null,
   "metadata": {},
   "outputs": [],
   "source": [
    "L1 = [1,2,3,4,5]\n",
    "for i in L1:\n",
    "    print(f\"This is iteration number {i}\")"
   ]
  },
  {
   "cell_type": "markdown",
   "metadata": {},
   "source": [
    "A very useful function to be used with the for loop is the range function. The range() function returns a sequence of numbers, starting from 0 by default, and increments by 1 (by default), and ends at a specified number. <br>\n",
    "**range(stop_number)**"
   ]
  },
  {
   "cell_type": "code",
   "execution_count": null,
   "metadata": {},
   "outputs": [],
   "source": [
    "for i in range(10):\n",
    "    print(f\"This is iteration number {i}\")"
   ]
  },
  {
   "cell_type": "markdown",
   "metadata": {},
   "source": [
    "range can also take three inputs to specify start, stop and step.<br>\n",
    "**range(start, stop, step)**<br>"
   ]
  },
  {
   "cell_type": "code",
   "execution_count": null,
   "metadata": {},
   "outputs": [],
   "source": [
    "for i in range(10, 100, 10):\n",
    "    print(f\"This is iteration number {i}\")"
   ]
  },
  {
   "cell_type": "markdown",
   "metadata": {},
   "source": [
    "We see here that 100 was not included, just like the slice function, you must go one past the final value in Python to include it. Now including 100:"
   ]
  },
  {
   "cell_type": "code",
   "execution_count": null,
   "metadata": {},
   "outputs": [],
   "source": [
    "for i in range(10,110,10):\n",
    "    print(f\"This is iteration number {i}\")"
   ]
  },
  {
   "cell_type": "markdown",
   "metadata": {},
   "source": [
    "### **While** loop\n",
    "While loops execute a statement(s) **while** a condition is true. <br>\n",
    "General while loop data structure: \n",
    "![](in_doc_images/while_statement_structure.png)<br>\n",
    "It can not be over emphasized how important the last line of code is in the above data structure and in the example below. If you do not update your counter, what do you think will happen to your loop?<br>\n",
    "The answer is your code will break and you will have to restart your kernel and likely clear all outputs, i.e. your while loop will go on *forever!*<br>"
   ]
  },
  {
   "cell_type": "code",
   "execution_count": 1,
   "metadata": {},
   "outputs": [
    {
     "name": "stdout",
     "output_type": "stream",
     "text": [
      "The value of i for this iteration is: 1\n",
      "The value of i for this iteration is: 2\n",
      "The value of i for this iteration is: 3\n",
      "The value of i for this iteration is: 4\n"
     ]
    }
   ],
   "source": [
    "i = 1\n",
    "while i < 5:\n",
    "    print(f\"The value of i for this iteration is: {i}\")\n",
    "    i +=1"
   ]
  },
  {
   "cell_type": "markdown",
   "metadata": {},
   "source": [
    "While loops are very powerful as you can nest other conditionals and actions inside of them and have them run and literally optomized a system *for you*! Trust me, knowing how to write good while loops will set you leagues ahead of your peers come Junior year when Dr. Dubief will teach you the amazing world of Heat Transfer!<br>\n",
    "So lets do some simple practice so you nail this.<br>\n",
    "#### **Q:** Write your own while loop that uses the range function to step through 10 iterations:"
   ]
  },
  {
   "cell_type": "code",
   "execution_count": 3,
   "metadata": {},
   "outputs": [],
   "source": [
    "#your code here\n"
   ]
  },
  {
   "cell_type": "markdown",
   "metadata": {},
   "source": [
    "***"
   ]
  },
  {
   "cell_type": "markdown",
   "metadata": {},
   "source": [
    "## Taking user **input**\n",
    "Taking user input means having the user of your code type characters on the keyboard which are handled by the input() function. By default, all input is stored as a string. This can be changed by casting the input as a different class.<br>\n",
    "Example of taking user input:"
   ]
  },
  {
   "cell_type": "code",
   "execution_count": null,
   "metadata": {},
   "outputs": [],
   "source": [
    "age = input(\"Enter your age: \")\n",
    "print(f\"Congrats, you've made it to {age} years old!\")"
   ]
  },
  {
   "cell_type": "markdown",
   "metadata": {},
   "source": [
    "As mentioned above, you must cast input to a different class if something other than string is desired:"
   ]
  },
  {
   "cell_type": "code",
   "execution_count": 4,
   "metadata": {},
   "outputs": [
    {
     "name": "stdout",
     "output_type": "stream",
     "text": [
      "Your age divided by 2 is: 12.0\n"
     ]
    }
   ],
   "source": [
    "age = float(input(\"Enter your age: \"))\n",
    "half_age = age / 2;\n",
    "print(f\"Your age divided by 2 is: {half_age}\")"
   ]
  },
  {
   "cell_type": "markdown",
   "metadata": {},
   "source": [
    "***"
   ]
  },
  {
   "cell_type": "markdown",
   "metadata": {},
   "source": [
    "## **Simple Functions:**\n",
    "A function is a block of code that can be \"called\" by its name, takes input(s), performs an action/actions on the input(s) and yields a result based upon the input(s). <br>\n",
    "Functions are at the heart of the beauty of programming as they significantly increase efficiency: <br>\n",
    "1. They enable us to reuse code<br>\n",
    "2. They enable us to create our code as many sub-steps which can be functions - break a big problem into smaller chunks, decreasing difficulty for you<br>\n",
    "3. They enable us to use the same variable name in different functions by creating \"local variables\": function_1 & function_2 can both use a variable called \"cost\" and have it store different data<br>\n",
    "4. They enable us to test a.k.a. debug smaller chunks of code through isolation<br>\n",
    "<br>\n",
    "Now lets learn some terminology & how a function works:<br>\n",
    "#### **Defining a function:**\n",
    "Type def followed by a space, the function name and inside 2 closed parenthesis list the inputs aka *arguments* to the function separated by commas. Right after the parenthesis insert a colon as seen below:<br>\n",
    "\n",
    "**def function_name(arg_1,arg_2):**\n",
    "<br>\n",
    "<br>\n",
    "When you \"call\" a function you type the name of the function with the required arguments inside closed parenthesis directly proceding the function name but with no colon as you are not defining the function, you are calling it:<br><br>\n",
    "## **Calling a function:**\n",
    "**function_name(arg_1,arg_2)**\n",
    "<br>\n",
    "It is good practice to write a **\"doc string\"** which is a line of code enclosed by 3 quotes <br>\"\"\" *text* \"\"\"<br> that describes what the function does and any necessary info on how to use it. This is the text that will be displayed when the user is in need of help: help(function_name)\n",
    "<br>\n",
    "<br>\n",
    "**Ex:** Now we will define a function for the volume of a sphere. To do this we will use Pi and will subsequently need to import the math module. <br>\n",
    "Note as mentioned in the Simple Mathematical Processes module, exponents are calculated with double asterisks i.e. r^3 in Python is calculated as r**3"
   ]
  },
  {
   "cell_type": "code",
   "execution_count": 24,
   "metadata": {},
   "outputs": [
    {
     "data": {
      "text/plain": [
       "4188.790204786391"
      ]
     },
     "execution_count": 24,
     "metadata": {},
     "output_type": "execute_result"
    }
   ],
   "source": [
    "import math #importing the math module\n",
    "def v_sphere(r): #defining the function name v_sphere and its argument r (radius)\n",
    "    \"\"\"Takes argument r (radius) and returns the volume of a sphere with that radius.\"\"\" #doc string\n",
    "    r = float(input(\"Enter radius of sphere: \"))\n",
    "    v_sphere = (4/3)*math.pi*r**3#this line does the calculation\n",
    "    return v_sphere #return statement effectively prints just the result of the function\n",
    "\n",
    "v_sphere(4) #to use the function, type the function name with an argument and press enter"
   ]
  },
  {
   "cell_type": "markdown",
   "metadata": {},
   "source": [
    "Now let's see if our docstring works correctly by using the help function with argument of v_sphere:<br>"
   ]
  },
  {
   "cell_type": "code",
   "execution_count": 22,
   "metadata": {},
   "outputs": [
    {
     "name": "stdout",
     "output_type": "stream",
     "text": [
      "Help on function v_sphere in module __main__:\n",
      "\n",
      "v_sphere(r)\n",
      "    Takes argument r (radius) and returns the volume of a sphere with that radius.\n",
      "\n"
     ]
    }
   ],
   "source": [
    "help(v_sphere)"
   ]
  },
  {
   "cell_type": "markdown",
   "metadata": {},
   "source": [
    "It works correctly! \n",
    "<br>\n",
    "#### **Q: Cone Area** \n",
    "Now define your own function that takes input of radius, r and height, h, and calculates the area of a right circular cone. The formula for the area of a right circular cone is: A = Pi*r*(r+sqrt(h^2 + r^2)). Hint you will need to import a module and follow PEMDAS carefully. Good luck!"
   ]
  },
  {
   "cell_type": "code",
   "execution_count": 25,
   "metadata": {},
   "outputs": [],
   "source": [
    "#your function here: \n"
   ]
  },
  {
   "cell_type": "markdown",
   "metadata": {},
   "source": [
    "***"
   ]
  },
  {
   "cell_type": "markdown",
   "metadata": {},
   "source": [
    "### **Opening and Reading Files**\n"
   ]
  },
  {
   "cell_type": "markdown",
   "metadata": {},
   "source": []
  }
 ],
 "metadata": {
  "kernelspec": {
   "display_name": "Python 3",
   "language": "python",
   "name": "python3"
  },
  "language_info": {
   "codemirror_mode": {
    "name": "ipython",
    "version": 3
   },
   "file_extension": ".py",
   "mimetype": "text/x-python",
   "name": "python",
   "nbconvert_exporter": "python",
   "pygments_lexer": "ipython3",
   "version": "3.6.8"
  }
 },
 "nbformat": 4,
 "nbformat_minor": 2
}
