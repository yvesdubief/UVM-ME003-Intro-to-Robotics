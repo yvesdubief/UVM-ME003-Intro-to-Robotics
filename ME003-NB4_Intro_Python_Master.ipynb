{
 "cells": [
  {
   "cell_type": "markdown",
   "metadata": {},
   "source": [
    "# ME 003 - Introduction to Python Coding - Robotics - Notebook 4:\n",
    "## Functions & Files : Q17 - Q19\n",
    "***"
   ]
  },
  {
   "cell_type": "markdown",
   "metadata": {},
   "source": [
    "## **Functions:**\n",
    "A function is a block of code that can be \"called\" by its name, takes input(s), performs an action/actions on the input(s) and yields a result based upon the input(s). <br>\n",
    "Functions are at the heart of the beauty of programming as they significantly increase efficiency: <br>\n",
    "1. They enable us to reuse code<br>\n",
    "2. They enable us to create our code as many sub-steps which can be functions - break a big problem into smaller chunks, decreasing difficulty for you<br>\n",
    "3. They enable us to use the same variable name in different functions by creating \"local variables\": function_1 & function_2 can both use a variable called \"cost\" and have it store different data<br>\n",
    "4. They enable us to test a.k.a. debug smaller chunks of code through isolation<br>\n",
    "<br>\n",
    "Now lets learn some terminology & how a function works:<br>"
   ]
  },
  {
   "cell_type": "markdown",
   "metadata": {},
   "source": [
    "### **Defining a function:**\n",
    "Type def followed by a space, the function name and inside two closed parenthesis list the *arguments* (inputs) to the function separated by commas. Right after the parenthesis insert a colon as seen below:<br>\n",
    "\n",
    "**def function_name(arg_1,arg_2):**\n",
    "<br>\n",
    "<br>\n",
    "When you \"call\" a function you type the name of the function with the required arguments inside closed parenthesis directly proceding the function name but with no colon as you are not defining the function, you are calling it:<br><br>"
   ]
  },
  {
   "cell_type": "markdown",
   "metadata": {},
   "source": [
    "### **Calling a function:**\n",
    "**function_name(arg_1,arg_2)**\n",
    "<br>\n",
    "It is good practice to write a **\"doc string\"** which is a line of code enclosed by 3 quotes <br>\"\"\" *descriptive text* \"\"\"<br> that describes what the function does and any necessary info on how to use it. This is the text that will be displayed when the user is in need of help: help(function_name) , and is especially useful when code is being used by someone other than the original developer. \n",
    "<br>\n",
    "<br>\n",
    "**Ex:** Now we will define a function for the volume of a sphere. To do this we will use Pi and will subsequently need to import the math module. <br>\n",
    "Note as mentioned in the Simple Mathematical Processes module, exponents are calculated with double asterisks i.e. r^3 in Python is calculated as r\\**3. <br>"
   ]
  },
  {
   "cell_type": "code",
   "execution_count": null,
   "metadata": {},
   "outputs": [],
   "source": [
    "import math #importing the math module\n",
    "def v_sphere(r): #defining the function name v_sphere and its argument r (radius)\n",
    "    \"\"\"Takes argument input of radius r, and returns the volume of a sphere with aforementioned radius.\"\"\" #doc string\n",
    "    r = float(input(\"Enter radius of sphere: \"))\n",
    "    v_sphere = (4/3)*math.pi*r**3#this line does the calculation\n",
    "    return v_sphere #return statement effectively prints just the result of the function"
   ]
  },
  {
   "cell_type": "code",
   "execution_count": null,
   "metadata": {},
   "outputs": [],
   "source": [
    "v_sphere(1) #to use the function, type the function name with an argument and press enter\n"
   ]
  },
  {
   "cell_type": "markdown",
   "metadata": {},
   "source": [
    "Now let's see if our docstring works correctly by using the help function with argument of v_sphere:<br>"
   ]
  },
  {
   "cell_type": "code",
   "execution_count": null,
   "metadata": {},
   "outputs": [],
   "source": [
    "help(v_sphere)"
   ]
  },
  {
   "cell_type": "markdown",
   "metadata": {},
   "source": [
    "It works correctly! v_sphere is recognized as a funciton, the input of r is displayed, our docstring is shown. <br>"
   ]
  },
  {
   "cell_type": "markdown",
   "metadata": {},
   "source": [
    "#### **Q17:** Define your own function that takes input of radius r, and height h, and calculates the area of a right circular cone to two decimal places (only accept positive input). The formula for the area of a right circular cone is: A = Pi•r•(r+sqrt(h^2 + r^2)). Hint you will need to import a module and follow PEMDAS carefully. Good luck!"
   ]
  },
  {
   "cell_type": "code",
   "execution_count": null,
   "metadata": {},
   "outputs": [],
   "source": [
    "#your function here: "
   ]
  },
  {
   "cell_type": "markdown",
   "metadata": {},
   "source": [
    "#### **Q18:** Correctly call the function you wrote in question 17 and show that it handles erroneous entries and correctly calculates entries  within the appropriate bounds."
   ]
  },
  {
   "cell_type": "code",
   "execution_count": null,
   "metadata": {},
   "outputs": [],
   "source": [
    "#your code here:"
   ]
  },
  {
   "cell_type": "markdown",
   "metadata": {},
   "source": [
    "***"
   ]
  },
  {
   "cell_type": "markdown",
   "metadata": {},
   "source": [
    "### **Writing, Reading and Opening Files**\n"
   ]
  },
  {
   "cell_type": "markdown",
   "metadata": {},
   "source": [
    "So far in this course, the programs you have developed require the user to re-enter data each time the notebook is opened and ran because data stored in variables is stored in Random Access Memory (RAM) and RAM clears when the program (notebook) stops running or the kernel & outputs are cleared. <br>\n",
    "<br>\n",
    "Files solve this problem of memory erasure i.e. volatile memory by storing the data on the computer's disk and therefore will remain even after the program stops running or the power is removed from the device. <br>\n",
    "<br>\n",
    "To open a file in Python the open function is used. The open function creates a file object and maps it to that file on the disk. <br>\n",
    "<br>\n",
    "general format for opening file: <br>\n",
    "**file_variable = open('filename.file_type', mode)**<br>\n",
    "There are the most common file modes in Python:<br>\n",
    "![](in_doc_images/Py_file_modes.png)\n",
    "(From Starting Out With Python - 3rd Edition - Tony Gaddis. 2015 by Pearson Education Limited.)"
   ]
  },
  {
   "cell_type": "markdown",
   "metadata": {},
   "source": [
    "<br>\n",
    "*WARNING!:* When using the 'w' mode to write to a file, make sure that the file is empty as you will erase and overwrite its contents. "
   ]
  },
  {
   "cell_type": "code",
   "execution_count": null,
   "metadata": {},
   "outputs": [],
   "source": [
    "Useful_websites = open('Useful_websites.txt','r')\n",
    "print(Useful_websites)"
   ]
  },
  {
   "cell_type": "code",
   "execution_count": null,
   "metadata": {},
   "outputs": [],
   "source": [
    "infile = open('Useful_websites.txt','r')"
   ]
  },
  {
   "cell_type": "code",
   "execution_count": null,
   "metadata": {},
   "outputs": [],
   "source": [
    "# Read the file's contents. \n",
    "file_contents = infile.read()"
   ]
  },
  {
   "cell_type": "markdown",
   "metadata": {},
   "source": [
    "#### **Q19:** Now create a function that takes user input for file_name and then opens that file in read mode and prints the contents of the file. The present working directory is assumed to be Course-Documents. "
   ]
  },
  {
   "cell_type": "code",
   "execution_count": null,
   "metadata": {},
   "outputs": [],
   "source": [
    "#your code here:"
   ]
  },
  {
   "cell_type": "markdown",
   "metadata": {},
   "source": [
    "## Now we are ready to move on to more complex coding challenges and the anticipated AlphaBot 2 Robot!"
   ]
  },
  {
   "cell_type": "markdown",
   "metadata": {},
   "source": [
    "Notebook created by Ian J. Moore, published July 31, 2019. <br>\n",
    "The University of Vermont Dept. of Mechanical Engineering. "
   ]
  },
  {
   "cell_type": "code",
   "execution_count": null,
   "metadata": {},
   "outputs": [],
   "source": []
  }
 ],
 "metadata": {
  "kernelspec": {
   "display_name": "Python 3",
   "language": "python",
   "name": "python3"
  },
  "language_info": {
   "codemirror_mode": {
    "name": "ipython",
    "version": 3
   },
   "file_extension": ".py",
   "mimetype": "text/x-python",
   "name": "python",
   "nbconvert_exporter": "python",
   "pygments_lexer": "ipython3",
   "version": "3.6.8"
  }
 },
 "nbformat": 4,
 "nbformat_minor": 2
}
