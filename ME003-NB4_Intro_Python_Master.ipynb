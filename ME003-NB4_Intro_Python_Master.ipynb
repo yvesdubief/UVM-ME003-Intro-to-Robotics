{
 "cells": [
  {
   "cell_type": "markdown",
   "metadata": {},
   "source": [
    "# ME 003 - Introduction to Python Coding - Robotics - Notebook 4:\n",
    "## Functions & Files; Classes, Methods, Attributes and Objects: Q17 - Q20\n",
    "***"
   ]
  },
  {
   "cell_type": "markdown",
   "metadata": {},
   "source": [
    "## **Functions:**\n",
    "A function is a block of code that can be \"called\" by its name, takes input(s), performs an action/actions on the input(s) and yields a result based upon the input(s). <br>\n",
    "Functions are at the heart of the beauty of programming as they significantly increase efficiency: <br>\n",
    "1. They enable us to reuse code<br>\n",
    "2. They enable us to create our code as many sub-steps which can be functions - break a big problem into smaller chunks, decreasing difficulty for you<br>\n",
    "3. They enable us to use the same variable name in different functions by creating \"local variables\": function_1 & function_2 can both use a variable called \"cost\" and have it store different data<br>\n",
    "4. They enable us to test a.k.a. debug smaller chunks of code through isolation<br>\n",
    "<br>\n",
    "Now lets learn some terminology & how a function works:<br>"
   ]
  },
  {
   "cell_type": "markdown",
   "metadata": {},
   "source": [
    "### **Defining a function:**\n",
    "Type def followed by a space, the function name and inside two closed parenthesis list the *arguments* (inputs) to the function separated by commas. Right after the parenthesis insert a colon as seen below:<br>\n",
    "\n",
    "**def function_name(arg_1,arg_2):**\n",
    "<br>\n",
    "<br>\n",
    "When you \"call\" a function you type the name of the function with the required arguments inside closed parenthesis directly proceding the function name but with no colon as you are not defining the function, you are calling it:<br><br>"
   ]
  },
  {
   "cell_type": "markdown",
   "metadata": {},
   "source": [
    "### **Calling a function:**\n",
    "**function_name(arg_1,arg_2)**\n",
    "<br>\n",
    "It is good practice to write a **\"doc string\"** which is a line of code enclosed by 3 quotes <br>\"\"\" *descriptive text* \"\"\"<br> that describes what the function does and any necessary info on how to use it. This is the text that will be displayed when the user is in need of help: help(function_name) , and is especially useful when code is being used by someone other than the original developer. \n",
    "<br>\n",
    "<br>\n",
    "**Ex:** Now we will define a function for the volume of a sphere. To do this we will use Pi and will subsequently need to import the math module. <br>\n",
    "Note as mentioned in the Simple Mathematical Processes module, exponents are calculated with double asterisks i.e. r^3 in Python is calculated as r\\**3. <br>"
   ]
  },
  {
   "cell_type": "code",
   "execution_count": 12,
   "metadata": {},
   "outputs": [],
   "source": [
    "import math #importing the math module\n",
    "def v_sphere(r): #defining the function name v_sphere and its argument r (radius)\n",
    "    \"\"\"Takes argument input of radius r, and returns the volume of a sphere with aforementioned radius.\"\"\" #doc string\n",
    "    r = float(input(\"Enter radius of sphere: \"))\n",
    "    v_sphere = (4/3)*math.pi*r**3#this line does the calculation\n",
    "    return v_sphere #return statement effectively prints just the result of the function"
   ]
  },
  {
   "cell_type": "code",
   "execution_count": 14,
   "metadata": {},
   "outputs": [
    {
     "name": "stdin",
     "output_type": "stream",
     "text": [
      "Enter radius of sphere:  4\n"
     ]
    },
    {
     "data": {
      "text/plain": [
       "268.082573106329"
      ]
     },
     "execution_count": 14,
     "metadata": {},
     "output_type": "execute_result"
    }
   ],
   "source": [
    "v_sphere(1) #to use the function, type the function name with an argument and press enter\n"
   ]
  },
  {
   "cell_type": "markdown",
   "metadata": {},
   "source": [
    "Now let's see if our docstring works correctly by using the help function with argument of v_sphere:<br>"
   ]
  },
  {
   "cell_type": "code",
   "execution_count": 15,
   "metadata": {},
   "outputs": [
    {
     "name": "stdout",
     "output_type": "stream",
     "text": [
      "Help on function v_sphere in module __main__:\n",
      "\n",
      "v_sphere(r)\n",
      "    Takes argument input of radius r, and returns the volume of a sphere with aforementioned radius.\n",
      "\n"
     ]
    }
   ],
   "source": [
    "help(v_sphere)"
   ]
  },
  {
   "cell_type": "markdown",
   "metadata": {},
   "source": [
    "It works correctly! v_sphere is recognized as a funciton, the input of r is displayed, our docstring is shown. <br>"
   ]
  },
  {
   "cell_type": "markdown",
   "metadata": {},
   "source": [
    "#### **Q17:** Define your own function that takes input of radius r, and height h, and calculates the area of a right circular cone to two decimal places (only accept positive input). The formula for the area of a right circular cone is: A = Pi•r•(r+sqrt(h^2 + r^2)). Hint you will need to import a module and follow PEMDAS carefully. Good luck!"
   ]
  },
  {
   "cell_type": "code",
   "execution_count": 16,
   "metadata": {},
   "outputs": [],
   "source": [
    "#your function here: "
   ]
  },
  {
   "cell_type": "markdown",
   "metadata": {},
   "source": [
    "#### **Q18:** Correctly call the function you wrote in question 17 and show that it handles erroneous entries and correctly calculates entries  within the appropriate bounds."
   ]
  },
  {
   "cell_type": "code",
   "execution_count": 17,
   "metadata": {},
   "outputs": [],
   "source": [
    "#your code here:"
   ]
  },
  {
   "cell_type": "markdown",
   "metadata": {},
   "source": [
    "***"
   ]
  },
  {
   "cell_type": "markdown",
   "metadata": {},
   "source": [
    "### **Writing, Reading and Opening Files**\n"
   ]
  },
  {
   "cell_type": "markdown",
   "metadata": {},
   "source": [
    "So far in this course, the programs you have developed require the user to re-enter data each time the notebook is opened and ran because data stored in variables is stored in Random Access Memory (RAM) and RAM clears when the program (notebook) stops running or the kernel & outputs are cleared. <br>\n",
    "<br>\n",
    "Files solve this problem of memory erasure i.e. volatile memory by storing the data on the computer's disk and therefore will remain even after the program stops running or the power is removed from the device. <br>\n",
    "<br>\n",
    "To open a file in Python the open function is used. The open function creates a file object and maps it to that file on the disk. <br>\n",
    "<br>\n",
    "general format for opening file: <br>\n",
    "**file_variable = open('filename.file_type', mode)**<br>\n",
    "There are the most common file modes in Python:<br>\n",
    "![](in_doc_images/Py_file_modes.png)\n",
    "(From Starting Out With Python - 3rd Edition - Tony Gaddis. 2015 by Pearson Education Limited.)"
   ]
  },
  {
   "cell_type": "markdown",
   "metadata": {},
   "source": [
    "<br>\n",
    "*WARNING!:* When using the 'w' mode to write to a file, make sure that the file is empty as you will erase and overwrite its contents. "
   ]
  },
  {
   "cell_type": "code",
   "execution_count": 18,
   "metadata": {},
   "outputs": [
    {
     "name": "stdout",
     "output_type": "stream",
     "text": [
      "<_io.TextIOWrapper name='Useful_websites.txt' mode='r' encoding='UTF-8'>\n"
     ]
    }
   ],
   "source": [
    "Useful_websites = open('Useful_websites.txt','r')\n",
    "print(Useful_websites)"
   ]
  },
  {
   "cell_type": "code",
   "execution_count": 22,
   "metadata": {},
   "outputs": [],
   "source": [
    "infile = open('Useful_websites.txt','r')"
   ]
  },
  {
   "cell_type": "code",
   "execution_count": 23,
   "metadata": {},
   "outputs": [
    {
     "name": "stdout",
     "output_type": "stream",
     "text": [
      "https://docs.python.org Python's official documentation page: anything Python 1st party related.<br>\n",
      "\n",
      "https://docs.scipy.org Scientific Python (SciPy) official documentation page. SciPy are the creaters of Numpy, MatPlotLib and many other powerfull Python extensions. <br>\n",
      "\n",
      "https://w3schools.com One of the cleanest general 3rd party tutorial sites on Python. <br>\n",
      "\n",
      "https://stackoverflow.com Invaluable forum website for nearly any coding language. User posts question, another user (shows experience level) posts solution which gets voted up or down by other users based on accuracy. Type your question or Traceback error into Google and chances are someone has had the same problem or similar enough that you can extrapolate your answer. <br>\n",
      "\n",
      "https://www.youtube.com/watch?v=bY6m6_IIN94&list=PLi01XoE8jYohWFPpC17Z-wWhPOSuh8Er- Socratica has a more interactive approach to teaching and learning with each video pased in console. (Console is a running display of both your input and immediately prints output with each executed command. If you do want to practice in console, you can click \"File\" > \"New Console for Notebook\". To execute commands just hold [shift] + press [enter] (same as executing cells in Notebook).)<br>\n"
     ]
    }
   ],
   "source": [
    "# Read the file's contents. \n",
    "file_contents = infile.read()\n",
    "print(file_contents)"
   ]
  },
  {
   "cell_type": "markdown",
   "metadata": {},
   "source": [
    "#### **Q19:** Now create a function that takes user input for file_name and then opens that file in read mode and prints the contents of the file. The present working directory is assumed to be Course-Documents. "
   ]
  },
  {
   "cell_type": "code",
   "execution_count": 24,
   "metadata": {},
   "outputs": [],
   "source": [
    "#your code here:"
   ]
  },
  {
   "cell_type": "markdown",
   "metadata": {},
   "source": [
    "***"
   ]
  },
  {
   "cell_type": "markdown",
   "metadata": {},
   "source": [
    "## **Classes, Methods, Attributes and Objects**\n",
    "As Python is an \"objected-oriented\" language, most code is created through classes. Classes are a construct for creating functions and objects. Classes enable modeling of real world items in programs. Objects have member variables that are associated with that specific object and are accessible for all of the object's methods and member functions.  <br>\n",
    "It is traditional style to capitalize all the words in the name of your class. There are different ways to create a class. The simplest is using the keyword \"class\" followed by a colon ( : ) <br>\n",
    "We will use the example of an address book and the White House as an entry:"
   ]
  },
  {
   "cell_type": "code",
   "execution_count": 25,
   "metadata": {},
   "outputs": [],
   "source": [
    "class Address:\n",
    "    \"\"\"This is the Address Book class\"\"\"\n",
    "    pass"
   ]
  },
  {
   "cell_type": "markdown",
   "metadata": {},
   "source": [
    "To create an instance or object, use the constructor of that class by assigning the class to an object: <br>"
   ]
  },
  {
   "cell_type": "code",
   "execution_count": 26,
   "metadata": {},
   "outputs": [],
   "source": [
    "addressWH = Address() "
   ]
  },
  {
   "cell_type": "markdown",
   "metadata": {},
   "source": [
    "To attach data to the object *addressWH* you type the data structure:<br> \n",
    "object.data_field = \"Data\"<br>\n",
    "ex: addressWH<br>\n",
    "addressWH.street_num = 1600<br>"
   ]
  },
  {
   "cell_type": "code",
   "execution_count": 27,
   "metadata": {},
   "outputs": [],
   "source": [
    "addressWH.street_num = 1600 \n",
    "addressWH.street_name = \"Pennsylvania Ave NW\""
   ]
  },
  {
   "cell_type": "markdown",
   "metadata": {},
   "source": [
    "Now let's verify that these two datafield entries were successful. Type the object.data_field:"
   ]
  },
  {
   "cell_type": "code",
   "execution_count": 28,
   "metadata": {},
   "outputs": [
    {
     "data": {
      "text/plain": [
       "1600"
      ]
     },
     "execution_count": 28,
     "metadata": {},
     "output_type": "execute_result"
    }
   ],
   "source": [
    "addressWH.street_num"
   ]
  },
  {
   "cell_type": "code",
   "execution_count": 29,
   "metadata": {},
   "outputs": [
    {
     "data": {
      "text/plain": [
       "'Pennsylvania Ave NW'"
      ]
     },
     "execution_count": 29,
     "metadata": {},
     "output_type": "execute_result"
    }
   ],
   "source": [
    "addressWH.street_name"
   ]
  },
  {
   "cell_type": "markdown",
   "metadata": {},
   "source": [
    "Excellent, the two entries were successful. We will complete the rest of the White House address entry:"
   ]
  },
  {
   "cell_type": "code",
   "execution_count": 30,
   "metadata": {},
   "outputs": [],
   "source": [
    "addressWH.city = \"Washington\"\n",
    "addressWH.state = \"DC\"\n",
    "addressWH.zip = 20500"
   ]
  },
  {
   "cell_type": "markdown",
   "metadata": {},
   "source": [
    "\\* *Style Note:* It is tradition to NOT capitalize the names of data fields and if using more than one name, separate the names by underscores. So to avoid embarrasment and confusion with peers or clients, this style is reccomended.<br>\n",
    "<br>\n",
    "\\* *Syntax Note:* As defined above, the data fields 1600 and Pennsylvania Ave NW are attached to the object addressWH: addressWH.street_num <br>\n",
    "To prove this, lets create standalone variables also called street_num and street_name and fill them with different entries:"
   ]
  },
  {
   "cell_type": "code",
   "execution_count": 31,
   "metadata": {},
   "outputs": [],
   "source": [
    "street_num = 10\n",
    "street_name = \"Downing Street\""
   ]
  },
  {
   "cell_type": "markdown",
   "metadata": {},
   "source": [
    "These values are not attached to an Addresss object. If we print these values, 10 Downing Street is returned:"
   ]
  },
  {
   "cell_type": "code",
   "execution_count": 32,
   "metadata": {},
   "outputs": [
    {
     "name": "stdout",
     "output_type": "stream",
     "text": [
      "10 Downing Street\n"
     ]
    }
   ],
   "source": [
    "print(street_num, street_name)"
   ]
  },
  {
   "cell_type": "markdown",
   "metadata": {},
   "source": [
    "But if we print the values attached to addressWH, we get 1600 Pennsylvania Ave NW:"
   ]
  },
  {
   "cell_type": "code",
   "execution_count": 33,
   "metadata": {},
   "outputs": [
    {
     "name": "stdout",
     "output_type": "stream",
     "text": [
      "1600 Pennsylvania Ave NW\n"
     ]
    }
   ],
   "source": [
    "print(addressWH.street_num, addressWH.street_name)"
   ]
  },
  {
   "cell_type": "markdown",
   "metadata": {},
   "source": [
    "Even though we have used the same variable/data field names, the values of these variables are kept separate. This is one of the very useful features of classes: being able to organize similar data into separate objects. <br>\n",
    "You may be wondering why you would use a class when you could use a dictionary. The answer is you can create Methods and use Object Initialization. <br>\n",
    "<br>\n",
    "method - a function inside a class<br>\n",
    "First we will create an **\\__init\\__** method (initialization aka constructor). This method (\\__init\\__) is called everytime you create a new instance of that class. <br>\n",
    "syntax:"
   ]
  },
  {
   "cell_type": "code",
   "execution_count": 34,
   "metadata": {},
   "outputs": [],
   "source": [
    "class Prof:\n",
    "    def __init__(self, full_name, class_num):\n",
    "        self.name = full_name\n",
    "        self.class_num = class_num"
   ]
  },
  {
   "cell_type": "code",
   "execution_count": 35,
   "metadata": {},
   "outputs": [],
   "source": [
    "prof = Prof(\"Yves Dubief\", \"ME 003\")"
   ]
  },
  {
   "cell_type": "markdown",
   "metadata": {},
   "source": [
    "Verifying correct input:"
   ]
  },
  {
   "cell_type": "code",
   "execution_count": 36,
   "metadata": {},
   "outputs": [
    {
     "data": {
      "text/plain": [
       "'Yves Dubief'"
      ]
     },
     "execution_count": 36,
     "metadata": {},
     "output_type": "execute_result"
    }
   ],
   "source": [
    "prof.name"
   ]
  },
  {
   "cell_type": "code",
   "execution_count": 37,
   "metadata": {},
   "outputs": [
    {
     "data": {
      "text/plain": [
       "'ME 003'"
      ]
     },
     "execution_count": 37,
     "metadata": {},
     "output_type": "execute_result"
    }
   ],
   "source": [
    "prof.class_num"
   ]
  },
  {
   "cell_type": "markdown",
   "metadata": {},
   "source": [
    "Both entries have been correctly inputed!<br>\n",
    "Now we will create a method that calculates the student's seniority in college based upon their graduation year: "
   ]
  },
  {
   "cell_type": "code",
   "execution_count": 38,
   "metadata": {},
   "outputs": [],
   "source": [
    "class Student:\n",
    "    \"\"\"The Student class has methods that store some attributes of a college student, \n",
    "    calculates their height in inches, and returns their class year based upon input of their graduation year.\"\"\"\n",
    "    def __init__(self, name, gender, height, college, major, grad_year):\n",
    "        self.name = name\n",
    "        self.gender = gender\n",
    "        self.height = height\n",
    "        self.college = college\n",
    "        self.major = major\n",
    "        self.grad_year = grad_year\n",
    "        \n",
    "    def ft_2_in(height):\n",
    "        \"\"\"Takes input in feet & inches and returns total inches\"\"\"\n",
    "        ft = int(input(\"Enter just the feet portion of your height: \"))\n",
    "        inch = int(input(\"Enter just the inches remainder of your height: \"))\n",
    "        inch_tot = int(ft*12) + inch\n",
    "        print(f\"You are {inch_tot} inches high!\")\n",
    "    def class_year(grad_year):\n",
    "        \"\"\"Takes input of grad year and outputs class year\"\"\"\n",
    "        grad_year = int(input(\"Enter your year of graduation: \"))\n",
    "        \n",
    "        if grad_year == 2023:\n",
    "            print(\"You are a Freshman\")\n",
    "        elif grad_year == 2022:\n",
    "            print(\"You are a Sophomore\")\n",
    "        elif grad_year == 2021:\n",
    "            print(\"You are a Junior\")\n",
    "        elif grad_year == 2020:\n",
    "            print(\"You are a Senior!\")\n",
    "        else:\n",
    "            grad_year = int(input((\"Invalid Entry!\")))\n",
    "            "
   ]
  },
  {
   "cell_type": "code",
   "execution_count": 39,
   "metadata": {},
   "outputs": [
    {
     "name": "stdin",
     "output_type": "stream",
     "text": [
      "Enter just the feet portion of your height:  3\n",
      "Enter just the inches remainder of your height:  4\n"
     ]
    },
    {
     "name": "stdout",
     "output_type": "stream",
     "text": [
      "You are 40 inches high!\n"
     ]
    },
    {
     "name": "stdin",
     "output_type": "stream",
     "text": [
      "Enter your year of graduation:  2022\n"
     ]
    },
    {
     "name": "stdout",
     "output_type": "stream",
     "text": [
      "You are a Sophomore\n"
     ]
    }
   ],
   "source": [
    "student1 = Student(\"John Cena\", \"male\", 6, \"CEMS\", \"Mechanical Engineering\", 2023)\n",
    "student1.ft_2_in()\n",
    "student1.class_year()"
   ]
  },
  {
   "cell_type": "markdown",
   "metadata": {},
   "source": [
    "### **Q20:** Write your own class called Quad that has two methods: \\_\\_init\\_\\_ with attributes a, b and c, and one called quadratic that calculates the quadratic formula. (Hint: you will want to use the cmath module). "
   ]
  },
  {
   "cell_type": "code",
   "execution_count": 5,
   "metadata": {},
   "outputs": [],
   "source": [
    "#your code here"
   ]
  },
  {
   "cell_type": "markdown",
   "metadata": {},
   "source": [
    "***"
   ]
  },
  {
   "cell_type": "markdown",
   "metadata": {},
   "source": [
    "## Now we are ready to move on to more complex coding challenges and the anticipated AlphaBot 2 Robot!"
   ]
  },
  {
   "cell_type": "markdown",
   "metadata": {},
   "source": [
    "Notebook created by Ian J. Moore, published August 2019. <br>\n",
    "The University of Vermont Dept. of Mechanical Engineering. "
   ]
  },
  {
   "cell_type": "code",
   "execution_count": null,
   "metadata": {},
   "outputs": [],
   "source": []
  }
 ],
 "metadata": {
  "kernelspec": {
   "display_name": "Python 3",
   "language": "python",
   "name": "python3"
  },
  "language_info": {
   "codemirror_mode": {
    "name": "ipython",
    "version": 3
   },
   "file_extension": ".py",
   "mimetype": "text/x-python",
   "name": "python",
   "nbconvert_exporter": "python",
   "pygments_lexer": "ipython3",
   "version": "3.6.8"
  }
 },
 "nbformat": 4,
 "nbformat_minor": 4
}
