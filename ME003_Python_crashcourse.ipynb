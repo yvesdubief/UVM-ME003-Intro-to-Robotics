{
 "cells": [
  {
   "cell_type": "markdown",
   "metadata": {},
   "source": [
    "# ME 003 - Introduction to Python Coding - Robotics"
   ]
  },
  {
   "cell_type": "markdown",
   "metadata": {},
   "source": [
    "_“Strive for perfection in everything you do. Take the best that exists and make it better. When it does not exist, design it.”_\n",
    "_-Sir Henry Royce_ <br>\n",
    "\n",
    "_The power of engineering thought cannot be overrated. To have an understanding of the world's systems enables you to think up new ones - ones that are likely to work. Coding is not just another tool for your toolbox. It is a way of relating all tools to eachother and use them in an efficient fashion._ <br>\n",
    "\n",
    "_Our world is changing. We are not alone anymore. We work with a new intelligence. We have the technology. Machines work faster than we do. They don't sleep. They don't make mistakes. I can talk to machines. I tell them what to do. I speak their language. I code. Tomorrow's problems will be solved by machines. You have the opportunity to learn and create things that have never been dreamt till now._ <br>\n",
    "\n",
    "_In Mechanical Engineering, we seek to facilitate efficient systems of movement. To be efficient we require as much information as possible about the system. We gain this information through sensors and the output from these sensors is in code format. Therefore coding is critical to the success of an optomizable system._ <br>"
   ]
  },
  {
   "cell_type": "markdown",
   "metadata": {},
   "source": [
    "***"
   ]
  },
  {
   "cell_type": "markdown",
   "metadata": {},
   "source": [
    "### How to use this notebook:\n",
    "This document is called a Jupyter Notebook. It is the platform used for this course as it enables us to run code and read text all in one interactive document. Its developers describe The Jupyter Notebook as \"... an open-source web application that allows you to create and share documents that contain live code, equations, visualizations and narrative text.\" Jupyter Lab/Notebook is an application that has capability to run 40 different types of code. As you know this class is on Python. The code is stored and compiled on your computer but displayed in your browser. You do not need an internet connection to develop, compile or save code in Jupyter. <br>\n",
    "<br>\n",
    "How to use: <br>\n",
    "For you as the student when you open the Jupyter notebook, all of the code will already have run but you will need to run and re-run cells when you enter code.<br>\n",
    "**run an individual cell:** click on the cell and hold **shift** + press **enter**<br>\n",
    "*The following commands are good to know but you likely won't have to use them unless you make a mistake or want to add a note or additional cell.* <br>\n",
    "**add cell above:** **a**<br>\n",
    "**add cell below:** **b**<br>\n",
    "change to **markdown cell:** click on left hand margin and type **m**<br>\n",
    "change to **code cell:** click on left hand margin and type **y**<br>\n",
    "**copy cell:** click on left hand margin and type **c**<br>\n",
    "**cut cell:** click on left hand margin and type **x**<br>\n",
    "**delete cell:** click on left hand margin and type **dd** (d twice)<br>\n",
    "**undo cell edit:** click on left hand margin and type **z**<br>\n",
    "If you need other commands you can always click on the commands tab on the Left Side Bar and type what command you are looking for. \n",
    "<br>\n",
    "Useful syntax:<br>\n",
    "the **#** denotes a commented section of code. After each question **Q** cell you will see:\n",
    "![](in_doc_images/your_code_here.png)\n",
    "<br>\n",
    "To enter your answer, highlight, erase this comment and develop your code in the cell. <br>\n",
    "<br>\n",
    "### Indenting\n",
    "It is important not to indent (tab & spaces) *unless* you are at the beginning of a logical line. Leading whitespace is used to compute the indentation level of the line, which in turn is used to determine the grouping of statements."
   ]
  },
  {
   "cell_type": "markdown",
   "metadata": {},
   "source": [
    "***"
   ]
  },
  {
   "cell_type": "markdown",
   "metadata": {},
   "source": [
    "## Help and The Internet\n",
    "As you likely have learned by now the internet is an incredible resource and with enough discipline and persistence, you can teach yourself virtually anything. This class has been streamlined as much as possible so you (hopefully) don't spend your time searching for answers online and instead learning Python and its powerful applications. <br>\n",
    "If you do need more help or are curious, the following pages are very helpful and relatively easy to use:<br>\n",
    "https://docs.python.org Python's official documentation page: anything Python 1st party related.<br>\n",
    "https://docs.scipy.org Scientific Python (SciPy) official documentation page. SciPy are the creaters of Numpy, MatPlotLib and many other powerfull Python extensions. <br>\n",
    "https://w3schools.com One of the cleanest general 3rd party tutorial sites on Python. <br>\n",
    "https://stackoverflow.com Invaluable forum website for nearly any coding language. User posts question, another user (shows experience level) posts solution which gets voted up or down by other users based on accuracy. Type your question or Traceback error into Google and chances are someone has had the same problem or similar enough that you can extrapolate your answer. <br>\n",
    "https://www.youtube.com/watch?v=bY6m6_IIN94&list=PLi01XoE8jYohWFPpC17Z-wWhPOSuh8Er- Socratica has a more interactive approach to teaching and learning with each video pased in console. (Console is a running display of both your input and immediately prints output with each executed command. If you do want to practice in console, you can click \"File\" > \"New Console for Notebook\". To execute commands just hold [shift] + press [enter] (same as executing cells in Notebook).)<br>"
   ]
  },
  {
   "cell_type": "markdown",
   "metadata": {},
   "source": [
    "***"
   ]
  },
  {
   "cell_type": "markdown",
   "metadata": {},
   "source": [
    "## **Variable Assignment:**"
   ]
  },
  {
   "cell_type": "markdown",
   "metadata": {},
   "source": [
    "In most coding languages there are different ways of storing data called classes / data types. Classes enable classification of data and are the building blocks of code. The term data type, and class can be used interchangeably. For this course, we will focus on the following basic classes:"
   ]
  },
  {
   "cell_type": "markdown",
   "metadata": {},
   "source": [
    "![](in_doc_images/basic_py_classes.png)\n",
    "(From Basics of Object & Datatypes for PYTHON. (2019, January 08). Retrieved from http://technofission.com/basics-of-object-datatypes-for-python/)"
   ]
  },
  {
   "cell_type": "markdown",
   "metadata": {},
   "source": [
    "To assign a variable in Python you type the variable name followed by an equals sign and then the value assigned to that variable:"
   ]
  },
  {
   "cell_type": "code",
   "execution_count": 1,
   "metadata": {},
   "outputs": [],
   "source": [
    "x = 1"
   ]
  },
  {
   "cell_type": "markdown",
   "metadata": {},
   "source": [
    "When defining a variable with a specific class you use the same structure but type the class after the equals and put parenthesis around the value you are casting:"
   ]
  },
  {
   "cell_type": "code",
   "execution_count": null,
   "metadata": {},
   "outputs": [],
   "source": [
    "y = int(2)"
   ]
  },
  {
   "cell_type": "markdown",
   "metadata": {},
   "source": [
    "To check we have correctly casted y as an integer with value 2 we enter:"
   ]
  },
  {
   "cell_type": "code",
   "execution_count": null,
   "metadata": {},
   "outputs": [],
   "source": [
    "type(y)"
   ]
  },
  {
   "cell_type": "markdown",
   "metadata": {},
   "source": [
    "And we see we have correctly cast y as an integer with value of 2. \n",
    "<br>\n",
    "<br>\n",
    "Now lets take a baby step and try assigning a variable as above:"
   ]
  },
  {
   "cell_type": "markdown",
   "metadata": {},
   "source": [
    "#### **Q1:** Define z with value 10 and cast it as an int following the above rubric for class/ data type definition:"
   ]
  },
  {
   "cell_type": "code",
   "execution_count": null,
   "metadata": {},
   "outputs": [],
   "source": [
    "#your code:"
   ]
  },
  {
   "cell_type": "markdown",
   "metadata": {},
   "source": [
    "Now we will practice with other classes. For strings you need to put quotes around your text. If you fail to do so you will get an error:"
   ]
  },
  {
   "cell_type": "code",
   "execution_count": null,
   "metadata": {},
   "outputs": [],
   "source": [
    "#correct string definition:\n",
    "name = str(\"bob\")\n",
    "#printing the entered string\n",
    "print(f\"The name entered was {name}\")\n",
    "#checking the data type of name variable\n",
    "type(name)"
   ]
  },
  {
   "cell_type": "markdown",
   "metadata": {},
   "source": [
    "Now showing what would happen if you failed to enclose bob in parenthesis:"
   ]
  },
  {
   "cell_type": "code",
   "execution_count": null,
   "metadata": {},
   "outputs": [],
   "source": [
    "name = str(bob)"
   ]
  },
  {
   "cell_type": "markdown",
   "metadata": {},
   "source": [
    "#### **Q2:** Enter the name of this course as a string and assign it to the variable \"course_name\". Then verify its type is a string:"
   ]
  },
  {
   "cell_type": "code",
   "execution_count": null,
   "metadata": {},
   "outputs": [],
   "source": [
    "#your code here"
   ]
  },
  {
   "cell_type": "markdown",
   "metadata": {},
   "source": [
    "<br>\n",
    "Additionally Python has built-in capability to create your own classes which we will explore in the SimBot notebook. "
   ]
  },
  {
   "cell_type": "markdown",
   "metadata": {},
   "source": [
    "***"
   ]
  },
  {
   "cell_type": "markdown",
   "metadata": {},
   "source": [
    "## **Interractive help:**\n",
    "Interractive help enables you to quickly learn about classes, functions, and methods right in the python console. \n",
    "<br>\n",
    "type the command dir() (which is short for \"directory\") and press enter. Python will return a collection of available objects:\n",
    "<br>"
   ]
  },
  {
   "cell_type": "markdown",
   "metadata": {},
   "source": [
    "As an example we will focus on the \"__builtins__\" module: which contains a collection of common objects that are always avaialble to you. To see these objects, call the directory function and pass __builtins__ to it: "
   ]
  },
  {
   "cell_type": "code",
   "execution_count": null,
   "metadata": {},
   "outputs": [],
   "source": [
    "dir(__builtins__)"
   ]
  },
  {
   "cell_type": "code",
   "execution_count": null,
   "metadata": {},
   "outputs": [],
   "source": [
    "help(pow) #asking for help on the pow function\n",
    "pow(3,2) #correctly using the pow function"
   ]
  },
  {
   "cell_type": "markdown",
   "metadata": {},
   "source": [
    "#### **Q3:** Type *import math* to import the math library. On the next line enter the dir command to see the methods in the math library. Then get help on the square root method. "
   ]
  },
  {
   "cell_type": "code",
   "execution_count": null,
   "metadata": {},
   "outputs": [],
   "source": [
    "#your code here"
   ]
  },
  {
   "cell_type": "markdown",
   "metadata": {},
   "source": [
    "***"
   ]
  },
  {
   "cell_type": "markdown",
   "metadata": {},
   "source": [
    "## The **Print** Statement:\n",
    "In the variable assignment example you have seen me type print( ) with some strange syntax in between parenthesis. This is called the **print** statement and you will use it prolifically. I wish I had been taught it early on when I first learned to code so I am going to teach it to you right off the bat.\n",
    "<br>\n",
    "<br>\n",
    "There are a few different types of formats you can use with the print statement but my favorite and the most convenient is as follows: <br>\n",
    "**print(f\"Text {variable}\")**\n",
    "<br>\n",
    "In this case, the f lets print know you are formatting, the \" lets it know you are entering text, the **{ }** encloses the variable so its value is inserted there, and the 2nd \" and ) close the statement. For now this will be sufficient and you will see this format used very often in these notebooks. \n",
    "<br>\n",
    "Ex:"
   ]
  },
  {
   "cell_type": "code",
   "execution_count": null,
   "metadata": {},
   "outputs": [],
   "source": [
    "b = int(64)\n",
    "print(f\"The class of b is int and the value of b is: {b}\")"
   ]
  },
  {
   "cell_type": "markdown",
   "metadata": {},
   "source": [
    "#### **Q4:** Define a variable \"tasty\" with class float and value 3.14 . On the next line print the text \"The value of tasty is: \" followed by variable tasty's value using the { } syntax (not just entering 3.14)."
   ]
  },
  {
   "cell_type": "code",
   "execution_count": null,
   "metadata": {},
   "outputs": [],
   "source": [
    "#your code here"
   ]
  },
  {
   "cell_type": "markdown",
   "metadata": {},
   "source": [
    "***"
   ]
  },
  {
   "cell_type": "markdown",
   "metadata": {},
   "source": [
    "## **Simple mathematical processes:** \n"
   ]
  },
  {
   "cell_type": "markdown",
   "metadata": {},
   "source": [
    "Python is a powerful data analysis tool and much of data analysis for engineers involves numbers. Therefore being able to effectively use math in Python is critical to your success in Python.<br>\n",
    "We will now walk through some simple mathematical processes in the following cells:<br>\n",
    "First off I will import the **math** libary/module as it stores many methods useful for mathematics in Python. "
   ]
  },
  {
   "cell_type": "code",
   "execution_count": null,
   "metadata": {},
   "outputs": [],
   "source": [
    "import math "
   ]
  },
  {
   "cell_type": "code",
   "execution_count": null,
   "metadata": {},
   "outputs": [],
   "source": [
    "a = 1\n",
    "b = 2\n",
    "c = 1+2 \n",
    "print(f\"c = {c}\")\n",
    "ab = a*b \n",
    "print(f\"ab = {ab}\")\n",
    "#raising to exponent: \n",
    "d = b**2\n",
    "print(f\"exp = {exp}\")\n",
    "square = int(math.sqrt(d))\n",
    "print(f\"The square root of 4 = {square}\")"
   ]
  },
  {
   "cell_type": "markdown",
   "metadata": {},
   "source": [
    "![](in_doc_images/python_math_operators.png)\n",
    "From Starting Out With Python - 3rd Edition - Tony Gaddis. 2015 by Pearson Education Limited."
   ]
  },
  {
   "cell_type": "markdown",
   "metadata": {},
   "source": [
    "#### **Q4.2:** Calculate the square root of 15129 using the math library and return the answer in a print statement \"The square root of 15129 is:\" "
   ]
  },
  {
   "cell_type": "code",
   "execution_count": null,
   "metadata": {},
   "outputs": [],
   "source": [
    "#your code here"
   ]
  },
  {
   "cell_type": "markdown",
   "metadata": {},
   "source": [
    "As you were monotonously taught and tested in High School, you care about significant digits. Now you actually do. Here's how to suppress output of a calculation in a print statement using the *f-string/template-string* format to a specified decimal place:<br>\n",
    "**print(f\"Text {variable:.nf}\")**, where n is the number of decimal places desired. <br>\n",
    "Ex:"
   ]
  },
  {
   "cell_type": "code",
   "execution_count": null,
   "metadata": {},
   "outputs": [],
   "source": [
    "long = 100/23\n",
    "print(f\"This is an unrounded unsuppressed output: {long}\")"
   ]
  },
  {
   "cell_type": "markdown",
   "metadata": {},
   "source": [
    "Ex: Below n = 2 and therefore rounds at 2 decimal places:"
   ]
  },
  {
   "cell_type": "code",
   "execution_count": null,
   "metadata": {},
   "outputs": [],
   "source": [
    "supp = 100/23\n",
    "print(f\"This is beautifully rounded, suppressed output: {supp:.2f}\")"
   ]
  },
  {
   "cell_type": "markdown",
   "metadata": {},
   "source": [
    "#### **Q5:** Calculate the area of a circle with radius r = 3 and suppress the output at 3 decimal places:"
   ]
  },
  {
   "cell_type": "code",
   "execution_count": null,
   "metadata": {},
   "outputs": [],
   "source": [
    "#your code here"
   ]
  },
  {
   "cell_type": "markdown",
   "metadata": {},
   "source": [
    "***"
   ]
  },
  {
   "cell_type": "markdown",
   "metadata": {},
   "source": [
    "## **List Assignments:**\n",
    "A list (in Python) is an ordered sequence of heterogeneous elements. A list is analagous to a container for storing multiple data types/ classes in the same list in Python. Lists are mutable meaning you can alter them after creation. Each entry in the list is reffered to as an element and can be accessed by a technique called indexing. *Lists are not Arrays*\n",
    "There are two ways to create a list: <br>"
   ]
  },
  {
   "cell_type": "code",
   "execution_count": null,
   "metadata": {},
   "outputs": [],
   "source": [
    "L1 = list([1, 2, 3, 4])\n",
    "print(f\"L1: {L1}\")"
   ]
  },
  {
   "cell_type": "code",
   "execution_count": null,
   "metadata": {},
   "outputs": [],
   "source": [
    "L2 = [5, 6, 7, 8]\n",
    "print(f\"L2: {L2}\")"
   ]
  },
  {
   "cell_type": "markdown",
   "metadata": {},
   "source": [
    "Lists may also contain objects of different classes such as bool(), float(), string(), int(), and *even* other lists:<br>"
   ]
  },
  {
   "cell_type": "code",
   "execution_count": null,
   "metadata": {},
   "outputs": [],
   "source": [
    "diff_list = [True, 420.87, \"Strings\", 69, [\"even other lists\", 24]]\n",
    "print(f\"diff_list: {diff_list}\")"
   ]
  },
  {
   "cell_type": "markdown",
   "metadata": {},
   "source": [
    "#### **Q6**: Create a list called calendar with the 24 elements being the name of each month of the year followed directly by the number of that specific month. Then print \"The months of the year are: (calendar list variable)\""
   ]
  },
  {
   "cell_type": "code",
   "execution_count": null,
   "metadata": {},
   "outputs": [],
   "source": [
    "#your code here"
   ]
  },
  {
   "cell_type": "markdown",
   "metadata": {},
   "source": [
    "#### **Concatenation** \n",
    "Lists may also be combined (called concatenation) and order does matter when concatenating:"
   ]
  },
  {
   "cell_type": "code",
   "execution_count": null,
   "metadata": {},
   "outputs": [],
   "source": [
    "letters = [1,2,3]\n",
    "print(f\"letters: {letters}\")\n",
    "numbers = ['a','b','c']\n",
    "print(f\"numbers: {numbers}\") \n",
    "print(letters + numbers)\n",
    "print(numbers + letters)"
   ]
  },
  {
   "cell_type": "markdown",
   "metadata": {},
   "source": [
    "Each list remains unchanged when concatenated with another list:"
   ]
  },
  {
   "cell_type": "code",
   "execution_count": null,
   "metadata": {},
   "outputs": [],
   "source": [
    "print(f\"letters: {letters}\")\n",
    "print(f\"numbers: {numbers}\")"
   ]
  },
  {
   "cell_type": "markdown",
   "metadata": {},
   "source": [
    "#### **Q7:** Now make a list called \"me\" with elements of your name, birth year (yyyy) and college graduation year. Print the \"me\" list.<br>Then make a list called \"UVM\" with elements of the name of this university, the date of UVM's establishment (yyyy) and number of students in your class at UVM. Print the \"UVM\" list.<br> Then print the two lists concatenated. <br>Then print each list separately to confirm they were unchanged."
   ]
  },
  {
   "cell_type": "code",
   "execution_count": null,
   "metadata": {},
   "outputs": [],
   "source": [
    "#your code here"
   ]
  },
  {
   "cell_type": "markdown",
   "metadata": {},
   "source": [
    "#### **.append** method\n",
    "A useful method for lists is the **.append** method which allows you to add values to the end of the list:"
   ]
  },
  {
   "cell_type": "code",
   "execution_count": null,
   "metadata": {},
   "outputs": [],
   "source": [
    "L2 = [5, 6, 7, 8]\n",
    "print(f\"L2: {L2}\")\n",
    "L2.append(9)\n",
    "print(f\"L2: {L2}\")"
   ]
  },
  {
   "cell_type": "markdown",
   "metadata": {},
   "source": [
    "While the .append method is convenient, it has significantly slower execution time than initializing an empty array and filling it with a \"for loop\". This system will be explained after a few blocks. <br><br>\n",
    "There are many other builtin methods to be used with lists. To see all of them pass a list to the directory function **dir(list_name)**.<br> \n",
    "#### **Ex: type the following into the cell below:** <br>\n",
    "**dir(L2)**<br>"
   ]
  },
  {
   "cell_type": "code",
   "execution_count": null,
   "metadata": {},
   "outputs": [],
   "source": [
    "#type here"
   ]
  },
  {
   "cell_type": "markdown",
   "metadata": {},
   "source": [
    "To learn how to use a method, pass it to the help function as described earlier in this notebook:<br>\n",
    "**help(list_name.method)** <br>\n",
    "ex: **help(L2.copy)**<br>"
   ]
  },
  {
   "cell_type": "code",
   "execution_count": null,
   "metadata": {},
   "outputs": [],
   "source": [
    "help(L2.copy)"
   ]
  },
  {
   "cell_type": "markdown",
   "metadata": {},
   "source": [
    "### **Array Assignments & the NumPy library:**\n",
    "An array is an ordered sequence of homogeneous elements. *Note:* Python does not have built in support for arrays so we use the very powerful library called NumPy (Numeric Python). A description from the NumPy site:<br>\n",
    "![](in_doc_images/Numpy_description.png)\n",
    "<br>\n",
    "Additionally, if you want to perform calculations on a list, Python does not have this built-in capability, and NumPy provides a seemlessly integrated system for this.\n",
    "<br>\n",
    "**Ex:** For instance if you wanted to multiply each individual element in a list by 3 and you weren't using NumPy, you would instead create 3 repeated instances of the original elements in the list, not increase their value by 3:"
   ]
  },
  {
   "cell_type": "code",
   "execution_count": null,
   "metadata": {},
   "outputs": [],
   "source": [
    "my_list = ([1,2,3])\n",
    "print(my_list)"
   ]
  },
  {
   "cell_type": "code",
   "execution_count": null,
   "metadata": {},
   "outputs": [],
   "source": [
    "my_list*3"
   ]
  },
  {
   "cell_type": "markdown",
   "metadata": {},
   "source": [
    "NumPy solves this execution error as seen below:"
   ]
  },
  {
   "cell_type": "code",
   "execution_count": null,
   "metadata": {},
   "outputs": [],
   "source": [
    "import numpy as np\n",
    "my_array = np.array([1,2,3])\n",
    "print(my_array)\n",
    "my_array*3 "
   ]
  },
  {
   "cell_type": "markdown",
   "metadata": {},
   "source": [
    "As seen above, you can import any library **as** a sequence of shorter leters. This is used to increase typing efficiency. While it may seem trivial, say you are typing numpy.array 20 times in one session. If you import numpy as np, you can increase development time by 60 letters. <br>\n",
    "When importing library_full_name **as** shorter_name, it is important to assign the shortened name something descriptive and not another data type (such as int) or function name (such as print).<br>"
   ]
  },
  {
   "cell_type": "markdown",
   "metadata": {},
   "source": [
    "#### **Range function** \n",
    "A very useful function for creating a long list of numbers is the **range function**. The range function can take just one argument *stop*:<br>\n",
    "**range(stop)**<br>\n",
    "ex:"
   ]
  },
  {
   "cell_type": "code",
   "execution_count": null,
   "metadata": {},
   "outputs": [],
   "source": [
    "L1 = np.array([range(10)])\n",
    "print(L1)"
   ]
  },
  {
   "cell_type": "markdown",
   "metadata": {},
   "source": [
    "range can also take three inputs to specify start, stop and step.<br>\n",
    "**range(start, stop, step)**<br>"
   ]
  },
  {
   "cell_type": "markdown",
   "metadata": {},
   "source": [
    "#### **Q8:** Create a NumPy array called np_A_1 using the range function with even numbers from 2 to 10 (inclusive). Then divide it by 2 and print the result:"
   ]
  },
  {
   "cell_type": "code",
   "execution_count": null,
   "metadata": {},
   "outputs": [],
   "source": [
    "#your code here"
   ]
  },
  {
   "cell_type": "markdown",
   "metadata": {},
   "source": [
    "#### **Numpy Zeros function**\n",
    "To create an empty array, the Numpy Zeros function returns a new array of given shape and type, filled with zeros.\n",
    "**\n",
    "This function is very efficient and as mentioned earlier helps reduce execution time through intialization. "
   ]
  },
  {
   "cell_type": "markdown",
   "metadata": {},
   "source": [
    "### **Indexing lists and arrays**"
   ]
  },
  {
   "cell_type": "markdown",
   "metadata": {},
   "source": [
    "Indexing is used to access specific elements in a list or array. This enables faster access to an element vs stepping through all entries preceding that element. \n",
    "\n",
    "**index:** address/location in the list<br>\n",
    "To access a specfic element use the following syntax:<br>\n",
    "**list_name[index]**<br>\n",
    "\n",
    "** In Python, indexing starts at 0 ** <br>\n",
    "So the first element in a list or array has an index of 0.<br>"
   ]
  },
  {
   "cell_type": "code",
   "execution_count": null,
   "metadata": {},
   "outputs": [],
   "source": [
    "L1 = [1, 2, 3, 4]\n",
    "print(f\"The elements of L1 are: {L1}\")\n",
    "# to index to an element use the following syntax:\n",
    "el1 = L1[0]\n",
    "print(f\"The 1st element of L1 is {el1}\")\n",
    "print(f\"The 0th index   of L1 is {el1}\" )"
   ]
  },
  {
   "cell_type": "markdown",
   "metadata": {},
   "source": [
    "i.e. <br>\n",
    "L1:&nbsp;&nbsp;&nbsp;&nbsp;   [1, 2, 3, 4]<br>\n",
    "index: 0&nbsp;&nbsp;1&nbsp;&nbsp;2&nbsp;&nbsp;3"
   ]
  },
  {
   "cell_type": "markdown",
   "metadata": {},
   "source": [
    "If you type list_name[-1] Python returns the last element in the list, and the 2nd to last element has index [-2]<br>"
   ]
  },
  {
   "cell_type": "code",
   "execution_count": null,
   "metadata": {},
   "outputs": [],
   "source": [
    "print(f\"The last element is: L1[-1] = {L1[-1]}\")\n",
    "print(f\"The 2nd to last  is: L1[-2] = {L1[-2]}\")"
   ]
  },
  {
   "cell_type": "markdown",
   "metadata": {},
   "source": [
    "#### **Q9**: Print the 3rd index of L1. <br> Append to L1 the rest of the integers to 8 (inclusive) and then print the new version of L1:"
   ]
  },
  {
   "cell_type": "code",
   "execution_count": null,
   "metadata": {},
   "outputs": [],
   "source": [
    "#your code here:"
   ]
  },
  {
   "cell_type": "markdown",
   "metadata": {},
   "source": [
    "### **Slicing lists and arrays**\n",
    "Slicing copies specific values out of a list by *including* the starting index but **excluding** the stopping index: <br>\n",
    "list_name[start:stop]<br>\n",
    "ex:"
   ]
  },
  {
   "cell_type": "code",
   "execution_count": null,
   "metadata": {},
   "outputs": [],
   "source": [
    "L_1 = [1,2,3,4]\n",
    "print(f\"L_1: {L_1}\")\n",
    "L_1_s = L_1[1:3]\n",
    "print(L_1_s)"
   ]
  },
  {
   "cell_type": "markdown",
   "metadata": {},
   "source": [
    "Here we can see that the slice started at the 1st index (2) and stopped ***before*** the 3rd index (4) therefore including just 2 and 3 in the slice. It is a common mistake to not include the last index so be sure to go ***one indice past*** the desired element to include it in your slice!"
   ]
  },
  {
   "cell_type": "markdown",
   "metadata": {},
   "source": [
    "#### **Q10:** Using the range function, Create an array named A_2 with values of 1 to 20. <br> Then slice the values from 3 to 13 (inclusive) into a new array called A_2_s and print the new array:"
   ]
  },
  {
   "cell_type": "code",
   "execution_count": null,
   "metadata": {},
   "outputs": [],
   "source": [
    "#your code here"
   ]
  },
  {
   "cell_type": "markdown",
   "metadata": {},
   "source": [
    "***"
   ]
  },
  {
   "cell_type": "markdown",
   "metadata": {},
   "source": [
    "## **Dictionaries**\n",
    "AKA Map, or Associative Array but in Python it is know as a Dictionary. Dictionaries are used when you have key - value pairs of data, where each input is mapped to an output. In Python dictionaries, inputs are called **keys** and outputs are called **values**. You may use any type of data types for both keys and values as seen in the address book example below. *Put the value in quotes if it's a string or is a number with a leading zero.* <br>\n",
    "\n",
    "**Dictionary structure:**\n",
    "object = {\"key_name\":value, \"2nd_key_name\":2nd_value}\n",
    "**Ex:** Address Book (Python dictionary) example : <br>"
   ]
  },
  {
   "cell_type": "code",
   "execution_count": null,
   "metadata": {},
   "outputs": [],
   "source": [
    "# Address Book\n",
    "# building = \"Votey Hall\"\n",
    "# number   = 33\n",
    "# street   = \"Colchester Ave\"\n",
    "# city     = \"Burlington\"\n",
    "# state    = \"VT\"\n",
    "# zip      = 05405\n",
    "# coord    = (44.475769, -73.196318)\n",
    "ad_book = {\"building\": \"Votey Hall\", \"number\":33, \n",
    "           \"street\":\"Colcester Ave\", \"city\":\"Burlington\", \n",
    "           \"state\":\"VT\", \"zip\":\"05405\", \n",
    "           \"coord\":(44.479492, -73.198130)}\n",
    "#(nextline justified to show full line w/o scrolling)"
   ]
  },
  {
   "cell_type": "markdown",
   "metadata": {},
   "source": [
    "You access data in a dictionary using brackets. The following syntax is used: <br>\n",
    "**dictionary['key']** <br>"
   ]
  },
  {
   "cell_type": "markdown",
   "metadata": {},
   "source": [
    "You can also use the dict constructor to create dictionaries. When using the regular {} dictionary assigning syntax you need to put quotes around the key_name but when using the dict constructor you don't.<br>\n",
    "**Ex:** A different dictionary containing street addresses using the dict constructor: <br>"
   ]
  },
  {
   "cell_type": "code",
   "execution_count": null,
   "metadata": {},
   "outputs": [],
   "source": [
    "# Address Book 2\n",
    "# building = \"Davis Center\"\n",
    "# number   = 590\n",
    "# street   = \"Main St\"\n",
    "# city     = \"Burlington\"\n",
    "# state    = \"VT\"\n",
    "# zip      = 05401\n",
    "# coord    = (44.475769, -73.196318)\n",
    "ad_book_2 = dict(building=\"Davis Center\", number=590,\n",
    "                 street=\"Main St\", city=\"Burlington\",\n",
    "                 state=\"VT\", zip=\"05401\")\n",
    "#(nextline justified to show full line w/o scrolling)\n",
    "print(ad_book_2)"
   ]
  },
  {
   "cell_type": "markdown",
   "metadata": {},
   "source": [
    "Notice state, zipcode and coordinates are missing from the Davis Center address entry. <br><br>\n",
    "We can add additional data by using brackets. The key_name goes inside brackets and the equals sign is used to assign the value:<br>\n",
    "**dictionary_name[\"key_name\"] = value** <br>"
   ]
  },
  {
   "cell_type": "code",
   "execution_count": null,
   "metadata": {},
   "outputs": [],
   "source": [
    "ad_book_2[\"state\"] = \"VT\"\n",
    "ad_book_2[\"zip\"] = \"05401\"\n",
    "ad_book_2[\"coord\"] = (44.475769, -73.196318)"
   ]
  },
  {
   "cell_type": "markdown",
   "metadata": {},
   "source": [
    "Now let's print the dictionary to verify all of the data is entered:"
   ]
  },
  {
   "cell_type": "code",
   "execution_count": null,
   "metadata": {},
   "outputs": [],
   "source": [
    "print(ad_book_2)"
   ]
  },
  {
   "cell_type": "markdown",
   "metadata": {},
   "source": [
    "And voila all of the required data is in the dictionary! Some of the data was entered by first using the dict constructor, and the remaining entries were appended using the square bracket [ ] system"
   ]
  },
  {
   "cell_type": "markdown",
   "metadata": {},
   "source": [
    "#### **Q11:** Now make your own dictionary of the North Beach Park address called \"NBP_a\" using the dict() constructor with the same data structure as shown above *but omit the coordinates*. <br> Then add the coordinates using the above method. <br> Finally access the city value using its key."
   ]
  },
  {
   "cell_type": "code",
   "execution_count": null,
   "metadata": {},
   "outputs": [],
   "source": [
    "#your code here"
   ]
  },
  {
   "cell_type": "markdown",
   "metadata": {},
   "source": [
    "#### **Q11.2:** Then add the coordinates using the square bracket method as described above."
   ]
  },
  {
   "cell_type": "code",
   "execution_count": null,
   "metadata": {},
   "outputs": [],
   "source": [
    "#your code here"
   ]
  },
  {
   "cell_type": "markdown",
   "metadata": {},
   "source": [
    "#### **Q11.3:** Finally verify the coordinates were correctly added by accessing the coord value using its key."
   ]
  },
  {
   "cell_type": "code",
   "execution_count": null,
   "metadata": {},
   "outputs": [],
   "source": [
    "#your code here"
   ]
  },
  {
   "cell_type": "markdown",
   "metadata": {},
   "source": [
    "***"
   ]
  },
  {
   "cell_type": "markdown",
   "metadata": {},
   "source": [
    "## Taking user **input**\n",
    "Taking user input means having the user of your code type characters on the keyboard which are handled by the input() function. By default, all input is stored as a string. This can be changed by casting the input as a different class.<br>\n",
    "Example of taking user input:"
   ]
  },
  {
   "cell_type": "code",
   "execution_count": null,
   "metadata": {},
   "outputs": [],
   "source": [
    "age = input(\"Enter your age: \")\n",
    "print(f\"Congrats, you've made it to {age} years old!\")"
   ]
  },
  {
   "cell_type": "markdown",
   "metadata": {},
   "source": [
    "As mentioned above, you must cast input to a different class if something other than string is desired:"
   ]
  },
  {
   "cell_type": "code",
   "execution_count": null,
   "metadata": {},
   "outputs": [],
   "source": [
    "age = float(input(\"Enter your age: \"))\n",
    "half_age = age / 2;\n",
    "print(f\"Your age divided by 2 is: {half_age}\")"
   ]
  },
  {
   "cell_type": "markdown",
   "metadata": {},
   "source": [
    "***"
   ]
  },
  {
   "cell_type": "markdown",
   "metadata": {},
   "source": [
    "## **Conditionals**\n",
    "Conditionals in coding are statements which enable you to have code executed if specific parameters are fullfilled. In simplest terms these conditional statements make decisions based on the status of parameters. \n",
    "<br>\n",
    "### Booleans\n",
    "Booleans are a way of storing true or false values. In Python, _bool_ is the logical class/type for storing true or false values.\n",
    "Computers work in 1s and 0s, True or False, on or off. Booleans are often used as \"flags\" that indicate if specific conditions exist. You *must* **capitalize** **T**rue or **F**alse when entering them as boolean states.\n",
    "<br>\n",
    "To compare variables and receive a Boolean output, the operators for equality/inequality comparison are similar to normal arithmetic: \n",
    "<br>\n",
    "\n",
    "![](in_doc_images/Python_Inequality_cmds.png)\n",
    "Python - Basic Operators. (2019). Retrieved from https://www.tutorialspoint.com/python/python_basic_operators.htm"
   ]
  },
  {
   "cell_type": "markdown",
   "metadata": {},
   "source": [
    "#### Simple way of Checking if a value is in a list:\n",
    "You may use simple boolean logic to check if a value is in a list without the more sophisticated conditional statements such as if, if-else, elif, for or while loops by using the following code:"
   ]
  },
  {
   "cell_type": "code",
   "execution_count": null,
   "metadata": {},
   "outputs": [],
   "source": [
    "counties = [\"Washington\",\"Chittenden\",\"Lamoile\"]\n",
    "\"Chittenden\" in counties"
   ]
  },
  {
   "cell_type": "code",
   "execution_count": null,
   "metadata": {},
   "outputs": [],
   "source": [
    "\"Bama\" in counties"
   ]
  },
  {
   "cell_type": "markdown",
   "metadata": {},
   "source": [
    "### **\"if\"** statement\n",
    "To check *if* one condition is true, use an **if** statement An **if** statement will execute code only *if* the statement is true. Use **if** statements when you have a true or false condition. \n",
    "<br>\n",
    "The general data structure is: <br>\n",
    "![](in_doc_images/if_statement_structure.png)\n",
    "<br>\n",
    "A simple example of an if statement is: "
   ]
  },
  {
   "cell_type": "code",
   "execution_count": null,
   "metadata": {},
   "outputs": [],
   "source": [
    "age = 20\n",
    "if age >= 18:\n",
    "    print(\"You can definitely get your license!\")"
   ]
  },
  {
   "cell_type": "markdown",
   "metadata": {},
   "source": [
    "#### **Q12:**Write an if statement that takes user input for their GPA and determines if they made the Dean's list and congratulates the student if applicable. (UVM's Dean's list: not less than 3.00 GPA who stood in the top 20 percent of each class of their college/school during the preceding semester.\")"
   ]
  },
  {
   "cell_type": "code",
   "execution_count": null,
   "metadata": {},
   "outputs": [],
   "source": [
    "#your code here"
   ]
  },
  {
   "cell_type": "markdown",
   "metadata": {},
   "source": [
    "### **\"if-else\"** statements\n",
    "The next level up in functionality is an if-else statement. These are used if you have more than one condition to check. <br>\n",
    "The general data structure is:<br>\n",
    "![](in_doc_images/if-else_statement_structure.png)<br>\n",
    "A simple example of an if-else statement is:"
   ]
  },
  {
   "cell_type": "code",
   "execution_count": null,
   "metadata": {},
   "outputs": [],
   "source": [
    "age = 13\n",
    "if age >= 18:\n",
    "    print(\"You can definitely get your license!\")\n",
    "else:\n",
    "    print(\"Sorry junior, mom's driving.\")"
   ]
  },
  {
   "cell_type": "markdown",
   "metadata": {},
   "source": [
    "#### Multiple conditions in one line:\n",
    "You may also require for multiple conditions for a statement to evaluate as true in one line of a conditional expression.<br>\n",
    "The following conditions can be used in Python:<br>\n",
    "**and<br>\n",
    "or<br>\n",
    "not<br>\n",
    "is<br>\n",
    "in<br>**\n",
    "Ex: Inclusive:"
   ]
  },
  {
   "cell_type": "code",
   "execution_count": null,
   "metadata": {},
   "outputs": [],
   "source": [
    "x = int(input(\"Enter a number: \"))\n",
    "if x > 1 and x < 10:\n",
    "    print(\"x is between 1 and 10.\")\n",
    "else:\n",
    "    print(\"x is not between 1 and 10\")"
   ]
  },
  {
   "cell_type": "markdown",
   "metadata": {},
   "source": [
    "Ex: Exclusive"
   ]
  },
  {
   "cell_type": "code",
   "execution_count": null,
   "metadata": {},
   "outputs": [],
   "source": [
    "x = int(input(\"Enter a number less than 1 or greater than 10: \"))\n",
    "if x < 1 or x > 10:\n",
    "    print(\"x is less than 1 or greater than 10.\")\n",
    "else:\n",
    "    print(\"x is not less than 1 or greater than 10\")"
   ]
  },
  {
   "cell_type": "markdown",
   "metadata": {},
   "source": [
    "Ex: x **not** in list:<br>\n",
    "Enter a number between 1 and 4 inclusive and then run the cell again and enter a number not in that range to test the conditional. "
   ]
  },
  {
   "cell_type": "code",
   "execution_count": null,
   "metadata": {},
   "outputs": [],
   "source": [
    "x = int(input(\"Enter a number between 1 and 4 inclusive: \"))\n",
    "L1 = (1,2,3,4)\n",
    "if x not in L1:\n",
    "    print(\"x not in L1!\")\n",
    "else:\n",
    "    print(\"x is in L1!\")"
   ]
  },
  {
   "cell_type": "markdown",
   "metadata": {},
   "source": [
    "#### **Q13:** Add to Q12, an else statement with a GPA difference calculator that prints to 2 decimal places and an incouraging statement if the student did not qualify for the Dean's List:"
   ]
  },
  {
   "cell_type": "code",
   "execution_count": null,
   "metadata": {},
   "outputs": [],
   "source": [
    "#your code here"
   ]
  },
  {
   "cell_type": "markdown",
   "metadata": {},
   "source": [
    "### **\"if-elif-else\"** statements:\n",
    "if-elif-else statements are used if you have more than 2 conditions to check and will evaluate as soon as one of the statements is true. These statements can theoretically handle a (nearly) infinite number of conditions.<br>\n",
    "General data structure is:\n",
    "![](in_doc_images/if-elif-else_statement_structure.png)<br>\n",
    "A simple example of an if-elif-else statement is:"
   ]
  },
  {
   "cell_type": "code",
   "execution_count": null,
   "metadata": {},
   "outputs": [],
   "source": [
    "waist = 34\n",
    "if waist < 24:\n",
    "    size = \"M\"\n",
    "elif waist < 36:\n",
    "    size = \"L\"\n",
    "else:\n",
    "    size = \"XL\"\n",
    "print(\"Your pant size is \" + str(size) + \".\")"
   ]
  },
  {
   "cell_type": "markdown",
   "metadata": {},
   "source": [
    "#### **Q14:** Create an exam letter grade calculator based upon the usual delineation: A >= 90, B >= 80, C >= 70, D >= 60, F < 60. It must take user input for the student's grade and print the corresponding letter grade. It must also produce an error message for entries greater than 100 and less than 0, say \"Error! Enter a number between 0 and 100.\""
   ]
  },
  {
   "cell_type": "code",
   "execution_count": null,
   "metadata": {},
   "outputs": [],
   "source": [
    "#your code here:"
   ]
  },
  {
   "cell_type": "markdown",
   "metadata": {},
   "source": [
    "### **\"for\"** loop"
   ]
  },
  {
   "cell_type": "markdown",
   "metadata": {},
   "source": [
    "A __for__ loop enables a block of code to be executed a specific number of times.  A simple __for__ loop has the following general data structure: "
   ]
  },
  {
   "cell_type": "code",
   "execution_count": null,
   "metadata": {},
   "outputs": [],
   "source": [
    "L1 = [1,2,3,4,5]\n",
    "for i in L1:\n",
    "    print(f\"This is iteration number {i}\")"
   ]
  },
  {
   "cell_type": "markdown",
   "metadata": {},
   "source": [
    "The range function has been introduced before and is very useful when specifying a range for iteration. As described before it returns a sequence of numbers, starting from 0 by default, and increments by 1 (by default), and ends at a specified number. <br>\n",
    "**range(stop_number)**"
   ]
  },
  {
   "cell_type": "code",
   "execution_count": null,
   "metadata": {},
   "outputs": [],
   "source": [
    "for i in range(10):\n",
    "    print(f\"This is iteration number {i}\")"
   ]
  },
  {
   "cell_type": "markdown",
   "metadata": {},
   "source": [
    "range can also take three inputs to specify start, stop and step.<br>\n",
    "**range(start, stop, step)**<br>"
   ]
  },
  {
   "cell_type": "code",
   "execution_count": null,
   "metadata": {},
   "outputs": [],
   "source": [
    "for i in range(10, 100, 10):\n",
    "    print(f\"This is iteration number {i}\")"
   ]
  },
  {
   "cell_type": "markdown",
   "metadata": {},
   "source": [
    "We see here that 100 was not included, just like the slice function, you must go one past the final value in Python to include it. Now including 100:"
   ]
  },
  {
   "cell_type": "code",
   "execution_count": null,
   "metadata": {},
   "outputs": [],
   "source": [
    "for i in range(10,110,10):\n",
    "    print(f\"This is iteration number {i}\")"
   ]
  },
  {
   "cell_type": "markdown",
   "metadata": {},
   "source": [
    "#### **zeros function**\n",
    "When creating an array with a for loop, it is much more efficient to iniatialize an array with the numpy zeros function and replace the zeros with elements via indexing.<br>\n",
    "![](in_doc_images/np.zeros.png)\n",
    "(From docs.scipy.org)<br>\n",
    "You likely only need to enter the first 2 attributes: shape and data type. By default numpy.zeros "
   ]
  },
  {
   "cell_type": "markdown",
   "metadata": {},
   "source": [
    "#### **Q15:** Develop a for loop that fills a zeros-initialized array with the first 10 perfect squares and prints the array at each iteration:"
   ]
  },
  {
   "cell_type": "code",
   "execution_count": null,
   "metadata": {},
   "outputs": [],
   "source": [
    "#your code here"
   ]
  },
  {
   "cell_type": "markdown",
   "metadata": {},
   "source": [
    "### **While** loop\n",
    "While loops execute a statement(s) **while** a condition is true. <br>\n",
    "While loops are very powerful as you can nest other conditionals and actions inside of them and have them run and literally optomize a system *for you*! Trust me, knowing how to write good while loops will set you leagues ahead of your peers come Junior year when Dr. Dubief will teach you the amazing world of Heat Transfer!<br>\n",
    "<br>\n",
    "General while loop data structure: \n",
    "![](in_doc_images/while_statement_structure.png)<br>\n",
    "It can not be over emphasized how important the last line of code is in the above data structure and in the example below. If you do not update your counter, what do you think will happen to your loop?<br>\n",
    "The answer is your code will break and you will have to restart your kernel and likely clear all outputs, i.e. your while loop will go on *forever!*<br>"
   ]
  },
  {
   "cell_type": "code",
   "execution_count": null,
   "metadata": {},
   "outputs": [],
   "source": [
    "i = 1\n",
    "while i < 5:\n",
    "    print(f\"The value of i for this iteration is: {i}\")\n",
    "    i +=1"
   ]
  },
  {
   "cell_type": "markdown",
   "metadata": {},
   "source": [
    "#### **Q16: Develop code that solves the previous problem using a while loop.** (Hint: if in Q15 you struggled to produce the 10th perfect square (100), think about your index number when filling the array.)"
   ]
  },
  {
   "cell_type": "code",
   "execution_count": null,
   "metadata": {},
   "outputs": [],
   "source": [
    "#your code here"
   ]
  },
  {
   "cell_type": "markdown",
   "metadata": {},
   "source": [
    "***"
   ]
  },
  {
   "cell_type": "markdown",
   "metadata": {},
   "source": [
    "## **Functions:**\n",
    "A function is a block of code that can be \"called\" by its name, takes input(s), performs an action/actions on the input(s) and yields a result based upon the input(s). <br>\n",
    "Functions are at the heart of the beauty of programming as they significantly increase efficiency: <br>\n",
    "1. They enable us to reuse code<br>\n",
    "2. They enable us to create our code as many sub-steps which can be functions - break a big problem into smaller chunks, decreasing difficulty for you<br>\n",
    "3. They enable us to use the same variable name in different functions by creating \"local variables\": function_1 & function_2 can both use a variable called \"cost\" and have it store different data<br>\n",
    "4. They enable us to test a.k.a. debug smaller chunks of code through isolation<br>\n",
    "<br>\n",
    "Now lets learn some terminology & how a function works:<br>"
   ]
  },
  {
   "cell_type": "markdown",
   "metadata": {},
   "source": [
    "### **Defining a function:**\n",
    "Type def followed by a space, the function name and inside two closed parenthesis list the *arguments* (inputs) to the function separated by commas. Right after the parenthesis insert a colon as seen below:<br>\n",
    "\n",
    "**def function_name(arg_1,arg_2):**\n",
    "<br>\n",
    "<br>\n",
    "When you \"call\" a function you type the name of the function with the required arguments inside closed parenthesis directly proceding the function name but with no colon as you are not defining the function, you are calling it:<br><br>"
   ]
  },
  {
   "cell_type": "markdown",
   "metadata": {},
   "source": [
    "### **Calling a function:**\n",
    "**function_name(arg_1,arg_2)**\n",
    "<br>\n",
    "It is good practice to write a **\"doc string\"** which is a line of code enclosed by 3 quotes <br>\"\"\" *descriptive text* \"\"\"<br> that describes what the function does and any necessary info on how to use it. This is the text that will be displayed when the user is in need of help: help(function_name) , and is especially useful when code is being used by someone other than the original developer. \n",
    "<br>\n",
    "<br>\n",
    "**Ex:** Now we will define a function for the volume of a sphere. To do this we will use Pi and will subsequently need to import the math module. <br>\n",
    "Note as mentioned in the Simple Mathematical Processes module, exponents are calculated with double asterisks i.e. r^3 in Python is calculated as r\\**3. <br>"
   ]
  },
  {
   "cell_type": "code",
   "execution_count": null,
   "metadata": {},
   "outputs": [],
   "source": [
    "import math #importing the math module\n",
    "def v_sphere(r): #defining the function name v_sphere and its argument r (radius)\n",
    "    \"\"\"Takes argument input of radius r, and returns the volume of a sphere with aforementioned radius.\"\"\" #doc string\n",
    "    r = float(input(\"Enter radius of sphere: \"))\n",
    "    v_sphere = (4/3)*math.pi*r**3#this line does the calculation\n",
    "    return v_sphere #return statement effectively prints just the result of the function"
   ]
  },
  {
   "cell_type": "code",
   "execution_count": null,
   "metadata": {},
   "outputs": [],
   "source": [
    "v_sphere(1) #to use the function, type the function name with an argument and press enter\n"
   ]
  },
  {
   "cell_type": "markdown",
   "metadata": {},
   "source": [
    "Now let's see if our docstring works correctly by using the help function with argument of v_sphere:<br>"
   ]
  },
  {
   "cell_type": "code",
   "execution_count": null,
   "metadata": {},
   "outputs": [],
   "source": [
    "help(v_sphere)"
   ]
  },
  {
   "cell_type": "markdown",
   "metadata": {},
   "source": [
    "It works correctly! v_sphere is recognized as a funciton, the input of r is displayed, our docstring is shown. <br>"
   ]
  },
  {
   "cell_type": "markdown",
   "metadata": {},
   "source": [
    "#### **Q17:** Define your own function that takes input of radius r, and height h, and calculates the area of a right circular cone to two decimal places (only accept positive input). The formula for the area of a right circular cone is: A = Pi•r•(r+sqrt(h^2 + r^2)). Hint you will need to import a module and follow PEMDAS carefully. Good luck!"
   ]
  },
  {
   "cell_type": "code",
   "execution_count": null,
   "metadata": {},
   "outputs": [],
   "source": [
    "#your function here: "
   ]
  },
  {
   "cell_type": "markdown",
   "metadata": {},
   "source": [
    "#### **Q18:** Correctly call the function you wrote in question 17 and show that it handles erroneous entries and correctly calculates entries  within the appropriate bounds."
   ]
  },
  {
   "cell_type": "code",
   "execution_count": null,
   "metadata": {},
   "outputs": [],
   "source": [
    "#your code here:"
   ]
  },
  {
   "cell_type": "markdown",
   "metadata": {},
   "source": [
    "***"
   ]
  },
  {
   "cell_type": "markdown",
   "metadata": {},
   "source": [
    "### **Writing, Reading and Opening Files**\n"
   ]
  },
  {
   "cell_type": "markdown",
   "metadata": {},
   "source": [
    "So far in this course, the programs you have developed require the user to re-enter data each time the notebook is opened and ran because data stored in variables is stored in Random Access Memory (RAM) and RAM clears when the program (notebook) stops running or the kernel & outputs are cleared. <br>\n",
    "<br>\n",
    "Files solve this problem of memory erasure i.e. volatile memory by storing the data on the computer's disk and therefore will remain even after the program stops running or the power is removed from the device. <br>\n",
    "<br>\n",
    "To open a file in Python the open function is used. The open function creates a file object and maps it to that file on the disk. <br>\n",
    "<br>\n",
    "general format for opening file: <br>\n",
    "**file_variable = open('filename.file_type', mode)**<br>\n",
    "There are the most common file modes in Python:<br>\n",
    "![](in_doc_images/Py_file_modes.png)\n",
    "(From Starting Out With Python - 3rd Edition - Tony Gaddis. 2015 by Pearson Education Limited.)"
   ]
  },
  {
   "cell_type": "markdown",
   "metadata": {},
   "source": [
    "<br>\n",
    "*WARNING!:* When using the 'w' mode to write to a file, make sure that the file is empty as you will erase and overwrite its contents. "
   ]
  },
  {
   "cell_type": "code",
   "execution_count": null,
   "metadata": {},
   "outputs": [],
   "source": [
    "Useful_websites = open('Useful_websites.txt','r')\n",
    "print(Useful_websites)"
   ]
  },
  {
   "cell_type": "code",
   "execution_count": null,
   "metadata": {},
   "outputs": [],
   "source": [
    "infile = open('Useful_websites.txt','r')"
   ]
  },
  {
   "cell_type": "code",
   "execution_count": null,
   "metadata": {},
   "outputs": [],
   "source": [
    "# Read the file's contents. \n",
    "file_contents = infile.read()"
   ]
  },
  {
   "cell_type": "markdown",
   "metadata": {},
   "source": [
    "#### **Q19:** Now create a function that takes user input for file_name and then opens that file in read mode and prints the contents of the file. The present working directory is assumed to be Course-Documents. "
   ]
  },
  {
   "cell_type": "code",
   "execution_count": null,
   "metadata": {},
   "outputs": [],
   "source": [
    "#your code here:"
   ]
  },
  {
   "cell_type": "markdown",
   "metadata": {},
   "source": [
    "## Now we are ready to move on to more complex coding challenges and the anticipated AlphaBot 2 Robot!"
   ]
  },
  {
   "cell_type": "markdown",
   "metadata": {},
   "source": [
    "Notebook created by Ian J. Moore, published July 31, 2019. <br>\n",
    "The University of Vermont Dept. of Mechanical Engineering. "
   ]
  },
  {
   "cell_type": "code",
   "execution_count": null,
   "metadata": {},
   "outputs": [],
   "source": []
  }
 ],
 "metadata": {
  "kernelspec": {
   "display_name": "Python 3",
   "language": "python",
   "name": "python3"
  },
  "language_info": {
   "codemirror_mode": {
    "name": "ipython",
    "version": 3
   },
   "file_extension": ".py",
   "mimetype": "text/x-python",
   "name": "python",
   "nbconvert_exporter": "python",
   "pygments_lexer": "ipython3",
   "version": "3.6.8"
  }
 },
 "nbformat": 4,
 "nbformat_minor": 2
}
