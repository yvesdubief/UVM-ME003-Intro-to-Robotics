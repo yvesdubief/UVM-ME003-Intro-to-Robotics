{
 "cells": [
  {
   "cell_type": "markdown",
   "metadata": {},
   "source": [
    "# ME 003 - Introduction to Python Coding - Robotics - Notebook 3:\n",
    "## Dictionaries, User Input & Conditionals: Q11 - Q16\n",
    "***"
   ]
  },
  {
   "cell_type": "markdown",
   "metadata": {},
   "source": [
    "## **Dictionaries**\n",
    "AKA Map, or Associative Array but in Python it is know as a Dictionary. Dictionaries are used when you have key - value pairs of data, where each input is mapped to an output. In Python dictionaries, inputs are called **keys** and outputs are called **values**. You may use any type of data types for both keys and values as seen in the address book example below. *Put the value in quotes if it's a string or is a number with a leading zero.* <br>\n",
    "\n",
    "**Dictionary structure:**\n",
    "object = {\"key_name\":value, \"2nd_key_name\":2nd_value}\n",
    "**Ex:** Address Book (Python dictionary) example : <br>"
   ]
  },
  {
   "cell_type": "code",
   "execution_count": null,
   "metadata": {},
   "outputs": [],
   "source": [
    "# Address Book\n",
    "# building = \"Votey Hall\"\n",
    "# number   = 33\n",
    "# street   = \"Colchester Ave\"\n",
    "# city     = \"Burlington\"\n",
    "# state    = \"VT\"\n",
    "# zip      = 05405\n",
    "# coord    = (44.475769, -73.196318)\n",
    "ad_book = {\"building\": \"Votey Hall\", \"number\":33, \n",
    "           \"street\":\"Colcester Ave\", \"city\":\"Burlington\", \n",
    "           \"state\":\"VT\", \"zip\":\"05405\", \n",
    "           \"coord\":(44.479492, -73.198130)}\n",
    "#(nextline justified to show full line w/o scrolling)"
   ]
  },
  {
   "cell_type": "markdown",
   "metadata": {},
   "source": [
    "You access data in a dictionary using brackets. The following syntax is used: <br>\n",
    "**dictionary['key']** <br>"
   ]
  },
  {
   "cell_type": "markdown",
   "metadata": {},
   "source": [
    "You can also use the dict constructor to create dictionaries. When using the regular {} dictionary assigning syntax you need to put quotes around the key_name but when using the dict constructor you don't.<br>\n",
    "**Ex:** A different dictionary containing street addresses using the dict constructor: <br>"
   ]
  },
  {
   "cell_type": "code",
   "execution_count": null,
   "metadata": {},
   "outputs": [],
   "source": [
    "# Address Book 2\n",
    "# building = \"Davis Center\"\n",
    "# number   = 590\n",
    "# street   = \"Main St\"\n",
    "# city     = \"Burlington\"\n",
    "# state    = \"VT\"\n",
    "# zip      = 05401\n",
    "# coord    = (44.475769, -73.196318)\n",
    "ad_book_2 = dict(building=\"Davis Center\", number=590,\n",
    "                 street=\"Main St\", city=\"Burlington\",\n",
    "                 state=\"VT\", zip=\"05401\")\n",
    "#(nextline justified to show full line w/o scrolling)\n",
    "print(ad_book_2)"
   ]
  },
  {
   "cell_type": "markdown",
   "metadata": {},
   "source": [
    "Notice state, zipcode and coordinates are missing from the Davis Center address entry. <br><br>\n",
    "We can add additional data by using brackets. The key_name goes inside brackets and the equals sign is used to assign the value:<br>\n",
    "**dictionary_name[\"key_name\"] = value** <br>"
   ]
  },
  {
   "cell_type": "code",
   "execution_count": null,
   "metadata": {},
   "outputs": [],
   "source": [
    "ad_book_2[\"state\"] = \"VT\"\n",
    "ad_book_2[\"zip\"] = \"05401\"\n",
    "ad_book_2[\"coord\"] = (44.475769, -73.196318)"
   ]
  },
  {
   "cell_type": "markdown",
   "metadata": {},
   "source": [
    "Now let's print the dictionary to verify all of the data is entered:"
   ]
  },
  {
   "cell_type": "code",
   "execution_count": null,
   "metadata": {},
   "outputs": [],
   "source": [
    "print(ad_book_2)"
   ]
  },
  {
   "cell_type": "markdown",
   "metadata": {},
   "source": [
    "And voila all of the required data is in the dictionary! Some of the data was entered by first using the dict constructor, and the remaining entries were appended using the square bracket [ ] system"
   ]
  },
  {
   "cell_type": "markdown",
   "metadata": {},
   "source": [
    "#### **Q11:** Now make your own dictionary of the North Beach Park address called \"NBP_a\" using the dict() constructor with the same data structure as shown above *but omit the coordinates*. <br> Then add the coordinates using the above method. <br> Finally access the city value using its key."
   ]
  },
  {
   "cell_type": "code",
   "execution_count": null,
   "metadata": {},
   "outputs": [],
   "source": [
    "#your code here"
   ]
  },
  {
   "cell_type": "markdown",
   "metadata": {},
   "source": [
    "#### **Q11.2:** Then add the coordinates using the square bracket method as described above."
   ]
  },
  {
   "cell_type": "code",
   "execution_count": null,
   "metadata": {},
   "outputs": [],
   "source": [
    "#your code here"
   ]
  },
  {
   "cell_type": "markdown",
   "metadata": {},
   "source": [
    "#### **Q11.3:** Finally verify the coordinates were correctly added by accessing the coord value using its key."
   ]
  },
  {
   "cell_type": "code",
   "execution_count": null,
   "metadata": {},
   "outputs": [],
   "source": [
    "#your code here"
   ]
  },
  {
   "cell_type": "markdown",
   "metadata": {},
   "source": [
    "***"
   ]
  },
  {
   "cell_type": "markdown",
   "metadata": {},
   "source": [
    "## Taking user **input**\n",
    "Taking user input means having the user of your code type characters on the keyboard which are handled by the input() function. By default, all input is stored as a string. This can be changed by casting the input as a different class.<br>\n",
    "Example of taking user input:"
   ]
  },
  {
   "cell_type": "code",
   "execution_count": null,
   "metadata": {},
   "outputs": [],
   "source": [
    "age = input(\"Enter your age: \")\n",
    "print(f\"Congrats, you've made it to {age} years old!\")"
   ]
  },
  {
   "cell_type": "markdown",
   "metadata": {},
   "source": [
    "As mentioned above, you must cast input to a different class if something other than string is desired:"
   ]
  },
  {
   "cell_type": "code",
   "execution_count": null,
   "metadata": {},
   "outputs": [],
   "source": [
    "age = float(input(\"Enter your age: \"))\n",
    "half_age = age / 2;\n",
    "print(f\"Your age divided by 2 is: {half_age}\")"
   ]
  },
  {
   "cell_type": "markdown",
   "metadata": {},
   "source": [
    "***"
   ]
  },
  {
   "cell_type": "markdown",
   "metadata": {},
   "source": [
    "## **Conditionals**\n",
    "Conditionals in coding are statements which enable you to have code executed if specific parameters are fullfilled. In simplest terms these conditional statements make decisions based on the status of parameters. \n",
    "<br>\n",
    "### Booleans\n",
    "Booleans are a way of storing true or false values. In Python, _bool_ is the logical class/type for storing true or false values.\n",
    "Computers work in 1s and 0s, True or False, on or off. Booleans are often used as \"flags\" that indicate if specific conditions exist. You *must* **capitalize** **T**rue or **F**alse when entering them as boolean states.\n",
    "<br>\n",
    "To compare variables and receive a Boolean output, the operators for equality/inequality comparison are similar to normal arithmetic: \n",
    "<br>\n",
    "\n",
    "![](in_doc_images/Python_Inequality_cmds.png)\n",
    "Python - Basic Operators. (2019). Retrieved from https://www.tutorialspoint.com/python/python_basic_operators.htm"
   ]
  },
  {
   "cell_type": "markdown",
   "metadata": {},
   "source": [
    "#### Simple way of Checking if a value is in a list:\n",
    "You may use simple boolean logic to check if a value is in a list without the more sophisticated conditional statements such as if, if-else, elif, for or while loops by using the following code:"
   ]
  },
  {
   "cell_type": "code",
   "execution_count": null,
   "metadata": {},
   "outputs": [],
   "source": [
    "counties = [\"Washington\",\"Chittenden\",\"Lamoile\"]\n",
    "\"Chittenden\" in counties"
   ]
  },
  {
   "cell_type": "code",
   "execution_count": null,
   "metadata": {},
   "outputs": [],
   "source": [
    "\"Bama\" in counties"
   ]
  },
  {
   "cell_type": "markdown",
   "metadata": {},
   "source": [
    "### **\"if\"** statement\n",
    "To check *if* one condition is true, use an **if** statement An **if** statement will execute code only *if* the statement is true. Use **if** statements when you have a true or false condition. \n",
    "<br>\n",
    "The general data structure is: <br>\n",
    "![](in_doc_images/if_statement_structure.png)\n",
    "<br>\n",
    "A simple example of an if statement is: "
   ]
  },
  {
   "cell_type": "code",
   "execution_count": null,
   "metadata": {},
   "outputs": [],
   "source": [
    "age = 20\n",
    "if age >= 18:\n",
    "    print(\"You can definitely get your license!\")"
   ]
  },
  {
   "cell_type": "markdown",
   "metadata": {},
   "source": [
    "#### **Q12:**Write an if statement that takes user input for their GPA and determines if they made the Dean's list and congratulates the student if applicable. (UVM's Dean's list: not less than 3.00 GPA who stood in the top 20 percent of each class of their college/school during the preceding semester.\")"
   ]
  },
  {
   "cell_type": "code",
   "execution_count": null,
   "metadata": {},
   "outputs": [],
   "source": [
    "#your code here"
   ]
  },
  {
   "cell_type": "markdown",
   "metadata": {},
   "source": [
    "### **\"if-else\"** statements\n",
    "The next level up in functionality is an if-else statement. These are used if you have more than one condition to check. <br>\n",
    "The general data structure is:<br>\n",
    "![](in_doc_images/if-else_statement_structure.png)<br>\n",
    "A simple example of an if-else statement is:"
   ]
  },
  {
   "cell_type": "code",
   "execution_count": null,
   "metadata": {},
   "outputs": [],
   "source": [
    "age = 13\n",
    "if age >= 18:\n",
    "    print(\"You can definitely get your license!\")\n",
    "else:\n",
    "    print(\"Sorry junior, mom's driving.\")"
   ]
  },
  {
   "cell_type": "markdown",
   "metadata": {},
   "source": [
    "#### Multiple conditions in one line:\n",
    "You may also require for multiple conditions for a statement to evaluate as true in one line of a conditional expression.<br>\n",
    "The following conditions can be used in Python:<br>\n",
    "**and<br>\n",
    "or<br>\n",
    "not<br>\n",
    "is<br>\n",
    "in<br>**\n",
    "Ex: Inclusive:"
   ]
  },
  {
   "cell_type": "code",
   "execution_count": null,
   "metadata": {},
   "outputs": [],
   "source": [
    "x = int(input(\"Enter a number: \"))\n",
    "if x > 1 and x < 10:\n",
    "    print(\"x is between 1 and 10.\")\n",
    "else:\n",
    "    print(\"x is not between 1 and 10\")"
   ]
  },
  {
   "cell_type": "markdown",
   "metadata": {},
   "source": [
    "Ex: Exclusive"
   ]
  },
  {
   "cell_type": "code",
   "execution_count": null,
   "metadata": {},
   "outputs": [],
   "source": [
    "x = int(input(\"Enter a number less than 1 or greater than 10: \"))\n",
    "if x < 1 or x > 10:\n",
    "    print(\"x is less than 1 or greater than 10.\")\n",
    "else:\n",
    "    print(\"x is not less than 1 or greater than 10\")"
   ]
  },
  {
   "cell_type": "markdown",
   "metadata": {},
   "source": [
    "Ex: x **not** in list:<br>\n",
    "Enter a number between 1 and 4 inclusive and then run the cell again and enter a number not in that range to test the conditional. "
   ]
  },
  {
   "cell_type": "code",
   "execution_count": null,
   "metadata": {},
   "outputs": [],
   "source": [
    "x = int(input(\"Enter a number between 1 and 4 inclusive: \"))\n",
    "L1 = (1,2,3,4)\n",
    "if x not in L1:\n",
    "    print(\"x not in L1!\")\n",
    "else:\n",
    "    print(\"x is in L1!\")"
   ]
  },
  {
   "cell_type": "markdown",
   "metadata": {},
   "source": [
    "#### **Q13:** Add to Q12, an else statement with a GPA difference calculator that prints to 2 decimal places and an incouraging statement if the student did not qualify for the Dean's List:"
   ]
  },
  {
   "cell_type": "code",
   "execution_count": null,
   "metadata": {},
   "outputs": [],
   "source": [
    "#your code here"
   ]
  },
  {
   "cell_type": "markdown",
   "metadata": {},
   "source": [
    "### **\"if-elif-else\"** statements:\n",
    "if-elif-else statements are used if you have more than 2 conditions to check and will evaluate as soon as one of the statements is true. These statements can theoretically handle a (nearly) infinite number of conditions.<br>\n",
    "General data structure is:\n",
    "![](in_doc_images/if-elif-else_statement_structure.png)<br>\n",
    "A simple example of an if-elif-else statement is:"
   ]
  },
  {
   "cell_type": "code",
   "execution_count": null,
   "metadata": {},
   "outputs": [],
   "source": [
    "waist = 34\n",
    "if waist < 24:\n",
    "    size = \"M\"\n",
    "elif waist < 36:\n",
    "    size = \"L\"\n",
    "else:\n",
    "    size = \"XL\"\n",
    "print(\"Your pant size is \" + str(size) + \".\")"
   ]
  },
  {
   "cell_type": "markdown",
   "metadata": {},
   "source": [
    "#### **Q14:** Create an exam letter grade calculator based upon the usual delineation: A >= 90, B >= 80, C >= 70, D >= 60, F < 60. It must take user input for the student's grade and print the corresponding letter grade. It must also produce an error message for entries greater than 100 and less than 0, say \"Error! Enter a number between 0 and 100.\""
   ]
  },
  {
   "cell_type": "code",
   "execution_count": null,
   "metadata": {},
   "outputs": [],
   "source": [
    "#your code here:"
   ]
  },
  {
   "cell_type": "markdown",
   "metadata": {},
   "source": [
    "### **\"for\"** loop"
   ]
  },
  {
   "cell_type": "markdown",
   "metadata": {},
   "source": [
    "A __for__ loop enables a block of code to be executed a specific number of times.  A simple __for__ loop has the following general data structure: "
   ]
  },
  {
   "cell_type": "code",
   "execution_count": null,
   "metadata": {},
   "outputs": [],
   "source": [
    "L1 = [1,2,3,4,5]\n",
    "for i in L1:\n",
    "    print(f\"This is iteration number {i}\")"
   ]
  },
  {
   "cell_type": "markdown",
   "metadata": {},
   "source": [
    "The range function has been introduced before and is very useful when specifying a range for iteration. As described before it returns a sequence of numbers, starting from 0 by default, and increments by 1 (by default), and ends at a specified number. <br>\n",
    "**range(stop_number)**"
   ]
  },
  {
   "cell_type": "code",
   "execution_count": null,
   "metadata": {},
   "outputs": [],
   "source": [
    "for i in range(10):\n",
    "    print(f\"This is iteration number {i}\")"
   ]
  },
  {
   "cell_type": "markdown",
   "metadata": {},
   "source": [
    "range can also take three inputs to specify start, stop and step.<br>\n",
    "**range(start, stop, step)**<br>"
   ]
  },
  {
   "cell_type": "code",
   "execution_count": null,
   "metadata": {},
   "outputs": [],
   "source": [
    "for i in range(10, 100, 10):\n",
    "    print(f\"This is iteration number {i}\")"
   ]
  },
  {
   "cell_type": "markdown",
   "metadata": {},
   "source": [
    "We see here that 100 was not included, just like the slice function, you must go one past the final value in Python to include it. Now including 100:"
   ]
  },
  {
   "cell_type": "code",
   "execution_count": null,
   "metadata": {},
   "outputs": [],
   "source": [
    "for i in range(10,110,10):\n",
    "    print(f\"This is iteration number {i}\")"
   ]
  },
  {
   "cell_type": "markdown",
   "metadata": {},
   "source": [
    "#### **zeros function**\n",
    "When creating an array with a for loop, it is much more efficient to iniatialize an array with the numpy zeros function and replace the zeros with elements via indexing.<br>\n",
    "![](in_doc_images/np.zeros.png)\n",
    "(From docs.scipy.org)<br>\n",
    "You likely only need to enter the first 2 attributes: shape and data type. By default numpy.zeros "
   ]
  },
  {
   "cell_type": "markdown",
   "metadata": {},
   "source": [
    "#### **Q15:** Develop a for loop that fills a zeros-initialized array with the first 10 perfect squares and prints the array at each iteration:"
   ]
  },
  {
   "cell_type": "code",
   "execution_count": null,
   "metadata": {},
   "outputs": [],
   "source": [
    "#your code here"
   ]
  },
  {
   "cell_type": "markdown",
   "metadata": {},
   "source": [
    "### **While** loop\n",
    "While loops execute a statement(s) **while** a condition is true. <br>\n",
    "While loops are very powerful as you can nest other conditionals and actions inside of them and have them run and literally optomize a system *for you*! Trust me, knowing how to write good while loops will set you leagues ahead of your peers come Junior year when Dr. Dubief will teach you the amazing world of Heat Transfer!<br>\n",
    "<br>\n",
    "General while loop data structure: \n",
    "![](in_doc_images/while_statement_structure.png)<br>\n",
    "It can not be over emphasized how important the last line of code is in the above data structure and in the example below. If you do not update your counter, what do you think will happen to your loop?<br>\n",
    "The answer is your code will break and you will have to restart your kernel and likely clear all outputs, i.e. your while loop will go on *forever!*<br>"
   ]
  },
  {
   "cell_type": "code",
   "execution_count": null,
   "metadata": {},
   "outputs": [],
   "source": [
    "i = 1\n",
    "while i < 5:\n",
    "    print(f\"The value of i for this iteration is: {i}\")\n",
    "    i +=1"
   ]
  },
  {
   "cell_type": "markdown",
   "metadata": {},
   "source": [
    "#### **Q16: Develop code that solves the previous problem using a while loop.** (Hint: if in Q15 you struggled to produce the 10th perfect square (100), think about your index number when filling the array.)"
   ]
  },
  {
   "cell_type": "code",
   "execution_count": null,
   "metadata": {},
   "outputs": [],
   "source": [
    "#your code here"
   ]
  }
 ],
 "metadata": {
  "kernelspec": {
   "display_name": "Python 3",
   "language": "python",
   "name": "python3"
  },
  "language_info": {
   "codemirror_mode": {
    "name": "ipython",
    "version": 3
   },
   "file_extension": ".py",
   "mimetype": "text/x-python",
   "name": "python",
   "nbconvert_exporter": "python",
   "pygments_lexer": "ipython3",
   "version": "3.6.8"
  }
 },
 "nbformat": 4,
 "nbformat_minor": 2
}
