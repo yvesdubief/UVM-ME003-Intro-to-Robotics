{
 "cells": [
  {
   "cell_type": "code",
   "execution_count": 12,
   "metadata": {},
   "outputs": [],
   "source": [
    "\"\"\"Header cell, contains modules and functions to make the whole notebook experience better\"\"\"\n",
    "%matplotlib inline \n",
    "# plots graphs within the notebook\n",
    "\n",
    "from IPython.display import display,Image, Latex\n",
    "from sympy.interactive import printing\n",
    "printing.init_printing(use_latex='mathjax')\n",
    "from IPython.display import clear_output\n",
    "\n",
    "import time\n",
    "\n",
    "from IPython.display import display,Image, Latex\n",
    "\n",
    "from IPython.display import clear_output\n",
    "\n",
    "\n",
    "import matplotlib.pyplot as plt\n",
    "import numpy as np\n",
    "import math\n",
    "import scipy.constants as sc\n",
    "\n",
    "\n",
    "import sympy as sym\n",
    "\n",
    "    \n",
    "font = {'family' : 'serif',\n",
    "        #'color'  : 'black',\n",
    "        'weight' : 'normal',\n",
    "        'size'   : 12,\n",
    "        }\n",
    "fontlabel = {'family' : 'serif',\n",
    "        #'color'  : 'black',\n",
    "        'weight' : 'normal',\n",
    "        'size'   : 12,\n",
    "        }\n",
    "\n",
    "from matplotlib.ticker import FormatStrFormatter\n",
    "plt.rc('font', **font)\n",
    "\n",
    "class PDF(object):\n",
    "  def __init__(self, pdf, size=(200,200)):\n",
    "    self.pdf = pdf\n",
    "    self.size = size\n",
    "\n",
    "  def _repr_html_(self):\n",
    "    return '<iframe src={0} width={1[0]} height={1[1]}></iframe>'.format(self.pdf, self.size)\n",
    "\n",
    "  def _repr_latex_(self):\n",
    "    return r'\\includegraphics[width=1.0\\textwidth]{{{0}}}'.format(self.pdf)\n",
    "\n",
    "class ListTable(list):\n",
    "    \"\"\" Overridden list class which takes a 2-dimensional list of \n",
    "        the form [[1,2,3],[4,5,6]], and renders an HTML Table in \n",
    "        IPython Notebook. \"\"\"\n",
    "    \n",
    "    def _repr_html_(self):\n",
    "        html = [\"<table>\"]\n",
    "        for row in self:\n",
    "            html.append(\"<tr>\")\n",
    "            \n",
    "            for col in row:\n",
    "                html.append(\"<td>{0}</td>\".format(col))\n",
    "            \n",
    "            html.append(\"</tr>\")\n",
    "        html.append(\"</table>\")\n",
    "        return ''.join(html)\n",
    "    "
   ]
  },
  {
   "cell_type": "code",
   "execution_count": 13,
   "metadata": {},
   "outputs": [
    {
     "data": {
      "text/html": [
       "<iframe src=bot-sketch.pdf width=550 height=400></iframe>"
      ],
      "text/latex": [
       "\\includegraphics[width=1.0\\textwidth]{bot-sketch.pdf}"
      ],
      "text/plain": [
       "<__main__.PDF at 0x10d8da6a0>"
      ]
     },
     "execution_count": 13,
     "metadata": {},
     "output_type": "execute_result"
    }
   ],
   "source": [
    "PDF('bot-sketch.pdf',size = (550,400))"
   ]
  },
  {
   "cell_type": "markdown",
   "metadata": {},
   "source": [
    "# Differential Drive Robot - 1\n",
    "\n",
    "Alphabot 2 is a differential drive robot: Two independent motors drive the left and right wheels and the differential speed between the two wheels control the speed and direction of the robot. The following code is copied from http://enesbot.me/kinematic-model-of-a-differential-drive-robot.html\n",
    "\n",
    "## Objective\n",
    "This notebook focuses on the control of a simulated differential drive robot for prescribed simple tasks. \n",
    "\n",
    "## Theoretical Background\n",
    "\n",
    "The robot parameters are:\n",
    "<ul>\n",
    "    <li> Wheel radius: $r$. </li>\n",
    "    <li> Length between wheels: $L$ </li>\n",
    "    <li> Angular velocity of the left and right wheels: $\\omega_L$, $\\omega_R$, respectively.</li>\n",
    "    <li> Angle from horizontal: $\\alpha$.</li>\n",
    "    <li> Position vector of the robot: $(x,y)$.</li>\n",
    "    <li> Velocity vector of the robot: $V=(\\dot{x},\\dot{y})$.</li>\n",
    "</ul>\n",
    "Hereafter $\\dot{a}$ refers to the time derivative of variable $a$:\n",
    "\n",
    "$$\n",
    "\\dot{a}=\\frac{da}{dt}\n",
    "$$\n",
    "\n",
    "The velocities of the wheels are therefore defined as:\n",
    "\n",
    "$$\n",
    "V_L=\\omega_Lr\\text{ and }V_R=\\omega_Rr.\n",
    "$$\n",
    "\n",
    "The velocity of the robot, taken at the center of the wheels, is simply:\n",
    "\n",
    "$$\n",
    "\\vec{V}=\\frac{V_R+V_L}{2}(\\cos(\\alpha)\\vec{e}_x+\\sin(\\alpha\\vec{e}_y),\n",
    "$$\n",
    "\n",
    "yielding the following equations of motions:\n",
    "\n",
    "$$\n",
    "\\dot{x}=r\\frac{\\omega_R+\\omega_L}{2}\\cos{\\alpha}\n",
    "$$\n",
    "\n",
    "$$\n",
    "\\dot{y}=r\\frac{\\omega_R+\\omega_L}{2}\\sin{\\alpha}\n",
    "$$\n",
    "\n",
    "and\n",
    "\n",
    "$$\n",
    "\\dot{\\alpha}=\\frac{r}{L}(\\omega_R-\\omega_L)\n",
    "$$\n",
    "\n",
    "Numerically, these solutions of these equations requires their <b>discretization</b>. Remember that the derivative $da/dt$ of a variable $a=f(t)$ is the slope $s$ of the local tangent. Over a small enough time interval $\\Delta t$, any continuous function $f$ can be approximated by a linear function based on the slope $a(t+\\Delta t$)=a(t)+s(t)\\Delta t$. The derivative is then estimated as:\n",
    "\n",
    "$$\n",
    "\\frac{da}{dt}\\approx\\frac{\\Delta a}{\\Delta t}\n",
    "$$\n",
    "\n",
    "where $\\Delta a=a(t+\\Delta t$)-a(t)$. The discretized equations of motion may be recast as an integration of the trajectory of the robot:\n",
    "\n",
    "$$\n",
    "x(t+\\Delta t) = x(t) +\\Delta t\\left(r\\frac{\\omega_R+\\omega_L}{2}\\cos{\\alpha}\\right),\n",
    "$$\n",
    "\n",
    "$$\n",
    "y(t+\\Delta t) = y(t) +\\Delta t\\left(r\\frac{\\omega_R+\\omega_L}{2}\\sin{\\alpha}\\right),\n",
    "$$\n",
    "\n",
    "$$\n",
    "\\alpha(t+\\Delta t) = \\alpha(t) +\\Delta t\\left(r\\frac{\\omega_R-\\omega_L}{L}\\right).\n",
    "$$\n",
    "\n",
    "As long as, the <b>initial conditions</b> are prescribed at $t=0$, the motion of the robot is predictable providing that $\\Delta t$ is not too large, as we shall see later. The present discretization is the simplest one, and also the most rudimentary. Even though the above equations carry fairly large numerical errors, no robot is perfect and these numerical errors will not be discussed here.\n",
    "\n",
    "## Code description\n",
    "\n",
    "The code below defines a class, named Robot, which includes the robot dimensions, position variables ($x,y,\\alpha$), the time step $\\Delta t$, the left/right angular velocities and various functions necessary to integrate the robot motion. First execute the cell below.\n"
   ]
  },
  {
   "cell_type": "code",
   "execution_count": 14,
   "metadata": {},
   "outputs": [],
   "source": [
    "import matplotlib.pyplot as plt\n",
    "import numpy as np\n",
    "import math\n",
    "import scipy.constants as sc\n",
    "\n",
    "\n",
    "import sympy as sym\n",
    "\n",
    "\n",
    "from math import sin, cos\n",
    "\n",
    "class Robot(object):\n",
    "    \"\"\"Defines basic mobile robot properties\"\"\"\n",
    "    def __init__(self):\n",
    "        self.pos_x  = 0.0\n",
    "        self.pos_y  = 0.0\n",
    "        self.angle  = 0.0\n",
    "        self.plot   = False\n",
    "        self._delta = 0.01\n",
    "        self.step_plot = int(5)\n",
    "        self.mag_plot = 1.\n",
    "\n",
    "    # Movement\n",
    "    def step(self):\n",
    "        \"\"\" updates the x,y and angle \"\"\"\n",
    "        self.deltax()\n",
    "        self.deltay()\n",
    "        self.deltaa()\n",
    "\n",
    "    def move(self, seconds):\n",
    "        \"\"\" Moves the robot for an 's' amount of seconds\"\"\"\n",
    "        for i in range(int(seconds/self._delta)):\n",
    "            self.step()\n",
    "            if i % self.step_plot == 0 and self.plot: # plot path every 3 steps\n",
    "                self.plot_xya()\n",
    "\n",
    "    # Printing-and-plotting:\n",
    "    def print_xya(self):\n",
    "        \"\"\" prints the x,y position and angle \"\"\"\n",
    "        print (\"x = \" + str(self.pos_x) +\" \"+ \"y = \" + str(self.pos_y))\n",
    "        print (\"a = \" + str(self.angle))\n",
    "\n",
    "    def plot_robot(self):\n",
    "        \"\"\" plots a representation of the robot \"\"\"\n",
    "        plt.arrow(self.pos_x, self.pos_y, 0.001\n",
    "                  * cos(self.angle), 0.001 * sin(self.angle),\n",
    "                  head_width=self.mag_plot*self.length, head_length=self.mag_plot*self.length,\n",
    "                  fc='k', ec='k')\n",
    "\n",
    "    def plot_xya(self):\n",
    "        \"\"\" plots a dot in the position of the robot \"\"\"\n",
    "        plt.scatter(self.pos_x, self.pos_y, c='r', edgecolors='r')\n",
    "\n",
    "\n",
    "class DDRobot(Robot):\n",
    "    \"\"\"Defines a differential drive robot\"\"\"\n",
    "\n",
    "    def __init__(self):\n",
    "        Robot.__init__(self)\n",
    "        self.radius = 0.1\n",
    "        self.length = 0.4\n",
    "\n",
    "        self.rt_spd_left = 0.0\n",
    "        self.rt_spd_right = 0.0\n",
    "\n",
    "    def deltax(self):\n",
    "        \"\"\" update x depending on l and r angular speeds \"\"\"\n",
    "        self.pos_x += self._delta * (self.radius*0.5) \\\n",
    "        * (self.rt_spd_right + self.rt_spd_left)*cos(self.angle)\n",
    "\n",
    "    def deltay(self):\n",
    "        \"\"\" update y depending on l and r angular speeds \"\"\"\n",
    "        self.pos_y += self._delta * (self.radius*0.5) \\\n",
    "        * (self.rt_spd_right + self.rt_spd_left)*sin(self.angle)\n",
    "\n",
    "    def deltaa(self):\n",
    "        \"\"\" update z depending on l and r angular speeds \"\"\"\n",
    "        self.angle += self._delta * (self.radius/self.length) \\\n",
    "        * (self.rt_spd_right - self.rt_spd_left)\n",
    "# function to convert degrees to radians\n",
    "def D2R(a):\n",
    "    return math.pi*a/180\n",
    "def R2D(a):\n",
    "    return 180*a/math.pi\n",
    "# mybot = DDRobot()            # robot called 'enesbot'\n",
    "\n",
    "# mybot.angle = 3.1416/4        # 45 degrees\n",
    "# mybot.plot = True             # plot the robot!\n",
    "# mybot.plot_robot()\n",
    "\n",
    "# mybot.rt_spd_left = 10\n",
    "# mybot.rt_spd_right = 10       # straight line\n",
    "# mybot.move(2)                 # move for 2 seconds\n",
    "\n",
    "# mybot.rt_spd_left = 12.5664\n",
    "# mybot.rt_spd_right = 18.8496  # (2m diameter circle)\n",
    "# mybot.move(1)                 # move for 1 second\n",
    "\n",
    "# mybot.rt_spd_left = 18.8496\n",
    "# mybot.rt_spd_right = 12.5664  # (2m diameter circle)\n",
    "# mybot.move(2.5)               # move for 2.5 second\n",
    "\n",
    "# mybot.rt_spd_left = 12.5664\n",
    "# mybot.rt_spd_right = 18.8496  # (2m diameter circle)\n",
    "# mybot.move(3.5)               # move for 2.5 second\n",
    "\n",
    "# mybot.plot_robot()\n",
    "\n",
    "# plt.xlim([-1, 6])               # axis limits\n",
    "# plt.ylim([-1, 6])\n",
    "\n",
    "# plt.show()"
   ]
  },
  {
   "cell_type": "markdown",
   "metadata": {},
   "source": [
    "## Quick Tutorial\n",
    "\n",
    "Now you can create your first robot."
   ]
  },
  {
   "cell_type": "code",
   "execution_count": 15,
   "metadata": {},
   "outputs": [],
   "source": [
    "mybot = DDRobot()"
   ]
  },
  {
   "cell_type": "markdown",
   "metadata": {},
   "source": [
    "For simplicity, assume that all units are based on the metric system. Your new robot, <FONT FACE=\"courier\" style=\"color:blue\">mybot</FONT>, is by default located at $(x=0,y=0)$, its angle from the horizontal axis $x$ is $0$ and the wheel radius and length between wheel are $r=0.1$m and $L=0.4$m (see class <FONT FACE=\"courier\" style=\"color:blue\">DDRobot</FONT>). The default time step is $\\Delta t=0.01$s. All these variables and more can be easily customized to your problem:"
   ]
  },
  {
   "cell_type": "code",
   "execution_count": 16,
   "metadata": {},
   "outputs": [],
   "source": [
    "mybot.pos_x = 0 #x\n",
    "mybot.pos_y = 0 #y\n",
    "mybot.angle = D2R(45) #alpha\n",
    "mybot.length =0.4 #L\n",
    "mybot.radius = 0.1 #r\n",
    "mybot.rt_spd_left = 10 # omega_L\n",
    "mybot.rt_spd_right = 10 # omega_R\n"
   ]
  },
  {
   "cell_type": "markdown",
   "metadata": {},
   "source": [
    "Now that our initial conditions and rotational speed is set, let's move our robot in a straight line and plot its trajectory."
   ]
  },
  {
   "cell_type": "code",
   "execution_count": 17,
   "metadata": {},
   "outputs": [
    {
     "data": {
      "image/png": "[encoded data removed]",
      "text/plain": [
       "<matplotlib.figure.Figure at 0x10d8e4860>"
      ]
     },
     "metadata": {},
     "output_type": "display_data"
    }
   ],
   "source": [
    "mybot.plot = True #True if you want to plot the robot's trajectory\n",
    "mybot.plot_robot() #draw an arrow for the location of the robot at t=0\n",
    "\n",
    "mybot.move(10) #move the robot for 10s\n",
    "mybot.plot_robot() #draw the new location\n",
    "\n",
    "plt.xlim(-1,11)\n",
    "plt.ylim(-1,11)\n",
    "plt.xlabel(r\"$x$\")\n",
    "plt.ylabel(r\"$y$\")\n",
    "plt.show()"
   ]
  },
  {
   "cell_type": "markdown",
   "metadata": {},
   "source": [
    "You may change the size of the arrow and the spacing of the dots making the trajectory using the following variables:"
   ]
  },
  {
   "cell_type": "code",
   "execution_count": 18,
   "metadata": {},
   "outputs": [
    {
     "data": {
      "image/png": "[encoded data removed]",
      "text/plain": [
       "<matplotlib.figure.Figure at 0x112fc12e8>"
      ]
     },
     "metadata": {},
     "output_type": "display_data"
    }
   ],
   "source": [
    "mybot.mag_plot = 2 #coefficient of magnification of the arrow\n",
    "mybot.step_plot = 100 # plot location every 100 iterations\n",
    "\n",
    "mybot.pos_x = 0 #x\n",
    "mybot.pos_y = 0 #y\n",
    "mybot.angle = D2R(45) #alpha\n",
    "mybot.length =0.4 #L\n",
    "mybot.radius = 0.1 #r\n",
    "mybot.rt_spd_left = 10 # omega_L\n",
    "mybot.rt_spd_right = 10 # omega_R\n",
    "\n",
    "\n",
    "mybot.plot = True #True if you want to plot the robot's trajectory\n",
    "mybot.plot_robot() #draw an arrow for the location of the robot at t=0\n",
    "\n",
    "mybot.move(10) #move the robot for 10s\n",
    "mybot.plot_robot() #draw the new location\n",
    "\n",
    "plt.xlim(-1,11)\n",
    "plt.ylim(-1,11)\n",
    "plt.xlabel(r\"$x$\")\n",
    "plt.ylabel(r\"$y$\")\n",
    "plt.show()"
   ]
  },
  {
   "cell_type": "markdown",
   "metadata": {},
   "source": [
    "You may print the location of your robot using:"
   ]
  },
  {
   "cell_type": "code",
   "execution_count": 19,
   "metadata": {},
   "outputs": [
    {
     "name": "stdout",
     "output_type": "stream",
     "text": [
      "x = 7.071067811865343 y = 7.071067811865343\n",
      "a = 0.7853981633974483\n"
     ]
    }
   ],
   "source": [
    "mybot.print_xya()"
   ]
  },
  {
   "cell_type": "markdown",
   "metadata": {},
   "source": [
    "which you can compare to the theoretical location of the robot. Since the robot's wheel radius is $0.1$m, the rotational speed is $\\omega=10$ (1/s), therefore the robot speed is $1$m/s. Over $10$s of travel time, starting at an angle of $45^\\circ$, the location of the robot should be $x=10\\cos(\\pi/4)$ and $y=10\\sin(\\pi/4)$."
   ]
  },
  {
   "cell_type": "code",
   "execution_count": 20,
   "metadata": {},
   "outputs": [
    {
     "name": "stdout",
     "output_type": "stream",
     "text": [
      "absolute error x: 1.3e-13 m\n",
      "absolute error y: 1.3e-13 m\n",
      "absolute error alpha: 0.0e+00 rad\n"
     ]
    }
   ],
   "source": [
    "print('absolute error x: %1.1e m' %(abs(mybot.pos_x - 10*math.cos(math.pi/4))))\n",
    "print('absolute error y: %1.1e m' %(abs(mybot.pos_y - 10*math.sin(math.pi/4))))\n",
    "print('absolute error alpha: %1.1e rad' %(abs(mybot.angle - math.pi/4)))"
   ]
  },
  {
   "cell_type": "markdown",
   "metadata": {},
   "source": [
    "To turn, the left and right angular velocities must be different, as shown below"
   ]
  },
  {
   "cell_type": "code",
   "execution_count": 21,
   "metadata": {},
   "outputs": [
    {
     "data": {
      "image/png": "[encoded data removed]",
      "text/plain": [
       "<matplotlib.figure.Figure at 0x112f2b358>"
      ]
     },
     "metadata": {},
     "output_type": "display_data"
    }
   ],
   "source": [
    "\n",
    "mybot.mag_plot = 2 #coefficient of magnification of the arrow\n",
    "mybot.step_plot = 10 # plot location every 100 iterations\n",
    "\n",
    "mybot.pos_x = 0 #x\n",
    "mybot.pos_y = 0 #y\n",
    "mybot.angle = D2R(45) #alpha\n",
    "mybot.length =0.4 #L\n",
    "mybot.radius = 0.1 #r\n",
    "\n",
    "\n",
    "mybot.plot = True #True if you want to plot the robot's trajectory\n",
    "mybot.plot_robot() #draw an arrow for the location of the robot at t=0\n",
    "\n",
    "# move straight for 10m\n",
    "mybot.rt_spd_left = 10 # omega_L\n",
    "mybot.rt_spd_right = 10 # omega_R\n",
    "mybot.move(10) #move the robot for 10s\n",
    "\n",
    "# 2m radius turn\n",
    "mybot.rt_spd_left = 18.8496\n",
    "mybot.rt_spd_right = 12.5664\n",
    "mybot.move(2.5) \n",
    "\n",
    "mybot.plot_robot() #draw the new location\n",
    "\n",
    "plt.xlim(-1,11)\n",
    "plt.ylim(-1,11)\n",
    "plt.xlabel(r\"$x$\")\n",
    "plt.ylabel(r\"$y$\")\n",
    "plt.show()"
   ]
  },
  {
   "cell_type": "markdown",
   "metadata": {},
   "source": [
    "## Assignment\n",
    "\n",
    "### 1 Iterative turn\n",
    "In this first assignment the robot must start at $(0,0)$, drive horizontally to $(10,0)$, then vertically to $(10,10)$, horizontally to $0,10$ and finally vertically to $(0,0)$. Write a code using a for loop to move your robot. Within the for loop, turn your robot using a while loop. Use the same robot dimensions as above and an absolute angular velocity $\\omega = 10$."
   ]
  },
  {
   "cell_type": "code",
   "execution_count": 22,
   "metadata": {},
   "outputs": [
    {
     "data": {
      "image/png": "[encoded data removed]",
      "text/plain": [
       "<matplotlib.figure.Figure at 0x11323d080>"
      ]
     },
     "metadata": {},
     "output_type": "display_data"
    }
   ],
   "source": [
    "mybot = DDRobot()            # robot called 'enesbot'\n",
    "mybot.mag_plot = 2 #coefficient of magnification of the arrow\n",
    "mybot.step_plot = 50 # plot location every 100 iterations\n",
    "\n",
    "mybot.pos_x = 0 #x\n",
    "mybot.pos_y = 0 #y\n",
    "mybot.angle = 0 #alpha\n",
    "mybot.length =0.4 #L\n",
    "mybot.radius = 0.1 #r\n",
    "omega = 10\n",
    "rot_time_increment = 0.01 #time increment for rotation\n",
    "rotation_angle = D2R(90)\n",
    "\n",
    "mybot.plot = True #True if you want to plot the robot's trajectory\n",
    "mybot.plot_robot() #draw an arrow for the location of the robot at t=0\n",
    "\n",
    "for i in range(4):\n",
    "    \n",
    "    # move straight for 10m\n",
    "    mybot.rt_spd_left = omega # omega_L\n",
    "    mybot.rt_spd_right = omega # omega_R\n",
    "    mybot.move(10) #move the robot for 10s\n",
    "    # turn 90 degrees to the left\n",
    "    mybot.rt_spd_left = -omega # omega_L\n",
    "    mybot.rt_spd_right = omega # omega_R\n",
    "    alpha_0 = mybot.angle\n",
    "    while (mybot.angle - alpha_0) < rotation_angle:\n",
    "        mybot.move(rot_time_increment)\n",
    "        \n",
    "    mybot.plot_robot() #draw the new location\n",
    "\n",
    "plt.xlim(-1,11)\n",
    "plt.ylim(-1,11)\n",
    "plt.xlabel(r\"$x$\")\n",
    "plt.ylabel(r\"$y$\")\n",
    "plt.show()\n",
    "\n"
   ]
  },
  {
   "cell_type": "markdown",
   "metadata": {},
   "source": [
    "As you can see, the robot does not return to its origin. Quantify the error."
   ]
  },
  {
   "cell_type": "code",
   "execution_count": 23,
   "metadata": {},
   "outputs": [
    {
     "name": "stdout",
     "output_type": "stream",
     "text": [
      "absolute error x: 8.1e-01 m\n"
     ]
    }
   ],
   "source": [
    "print('absolute error x: %1.1e m' %(math.sqrt(mybot.pos_x**2 +mybot.pos_y**2)))"
   ]
  },
  {
   "cell_type": "markdown",
   "metadata": {},
   "source": [
    "### 2 Exact rotation\n",
    "\n",
    "Derive and implement an equation to determine the exact time needed for the robot to achieve a rotation of a given angle around its center. Quantify the error"
   ]
  },
  {
   "cell_type": "markdown",
   "metadata": {},
   "source": [
    "Integrating the angular velocity equation:\n",
    "\n",
    "$$\n",
    "\\dot{\\alpha}=\\frac{d\\alpha}{dt}=\\frac{r}{L}(\\omega_R-\\omega_L)\n",
    "$$\n",
    "\n",
    "from $0$ to a time $T$ yields\n",
    "\n",
    "$$\n",
    "\\int_0^T\\frac{d\\alpha}{dt}dt=\\int_0^T\\frac{r}{L}(\\omega_R-\\omega_L)dt\n",
    "$$\n",
    "\n",
    "Since the left hand side function is constant with respect to time, the result is simply:\n",
    "\n",
    "$$\n",
    "\\alpha(T) - \\alpha(0) =Tr\\frac{\\omega_R-\\omega_L}{L}\n",
    "$$\n",
    "\n",
    "Therefore the time to execute a rotation of angle $\\alpha_o=\\alpha(T) - \\alpha(0)$ is\n",
    "\n",
    "$$\n",
    "T = \\frac{\\alpha_oL}{r(\\omega_R-\\omega_L)}\n",
    "$$\n",
    "Note: Vary the time step used to move the robot to see the effect on the error. You should see that error decreases at your reduce the time step from myplot._delta=0.1 to 0.0001"
   ]
  },
  {
   "cell_type": "code",
   "execution_count": 39,
   "metadata": {},
   "outputs": [
    {
     "name": "stdout",
     "output_type": "stream",
     "text": [
      "angle at position 0: 88.81\n",
      "angle at position 1: 177.62\n",
      "angle at position 2: 266.43\n",
      "angle at position 3: 355.23\n"
     ]
    },
    {
     "data": {
      "image/png": "[encoded data removed]",
      "text/plain": [
       "<matplotlib.figure.Figure at 0x113416e80>"
      ]
     },
     "metadata": {},
     "output_type": "display_data"
    },
    {
     "name": "stdout",
     "output_type": "stream",
     "text": [
      "absolute error x: 5.9e-01 m\n"
     ]
    }
   ],
   "source": [
    "mybot = DDRobot()            # robot called 'enesbot'\n",
    "mybot.mag_plot = 2 #coefficient of magnification of the arrow\n",
    "\n",
    "mybot._delta = 0.1 #time step of integration\n",
    "mybot.step_plot = 2*int(1/mybot._delta) # plot location every n iterations\n",
    "mybot.pos_x = 0 #x\n",
    "mybot.pos_y = 0 #y\n",
    "mybot.angle = 0 #alpha\n",
    "mybot.length =0.4 #L\n",
    "mybot.radius = 0.1 #r\n",
    "omega = 10\n",
    "rotation_angle = D2R(90)\n",
    "\n",
    "mybot.plot = True #True if you want to plot the robot's trajectory\n",
    "mybot.plot_robot() #draw an arrow for the location of the robot at t=0\n",
    "\n",
    "for i in range(4):\n",
    "    \n",
    "    # move straight for 10m\n",
    "    mybot.rt_spd_left = omega # omega_L\n",
    "    mybot.rt_spd_right = omega # omega_R\n",
    "    mybot.move(10) #move the robot for 10s\n",
    "    # turn 90 degrees to the left\n",
    "    mybot.rt_spd_left = -omega/10 # omega_L\n",
    "    mybot.rt_spd_right = omega/10 # omega_R\n",
    "    t_rotation = rotation_angle*mybot.length/(mybot.radius*(mybot.rt_spd_right-mybot.rt_spd_left)) \n",
    "    mybot.move(t_rotation)\n",
    "        \n",
    "    mybot.plot_robot() #draw the new location\n",
    "    print(\"angle at position %i: %0.2f\"%(i,R2D(mybot.angle)))\n",
    "\n",
    "plt.xlim(-1,11)\n",
    "plt.ylim(-1,11)\n",
    "plt.xlabel(r\"$x$\")\n",
    "plt.ylabel(r\"$y$\")\n",
    "plt.show()\n",
    "print('absolute error x: %1.1e m' %(math.sqrt(mybot.pos_x**2 +mybot.pos_y**2)))"
   ]
  },
  {
   "cell_type": "code",
   "execution_count": 38,
   "metadata": {},
   "outputs": [
    {
     "name": "stdout",
     "output_type": "stream",
     "text": [
      "absolute error x: 5.9e-01 m\n"
     ]
    }
   ],
   "source": []
  },
  {
   "cell_type": "markdown",
   "metadata": {},
   "source": [
    "### 3 Circular motion\n",
    "\n",
    "Derive and implement an equation to determine the paramters (angular velocities and motion time) needed for the robot to achieve an arc of a given radius and angle (from origin to end)."
   ]
  },
  {
   "cell_type": "markdown",
   "metadata": {},
   "source": [
    "To describe an arc, one wheel must rotate faster than the other. The solid body rotation of the robot center on a circle of radius $R$ dictates that the velocity at the center of the robot $V$ is proportional to $R$:\n",
    "\n",
    "$$\n",
    "V=\\Omega R\n",
    "$$\n",
    "\n",
    "where $\\omega$ is the rotation speed. Assuming that the robot is turning counter clock-wise, the right and left wheel speeds are \n",
    "\n",
    "$$\n",
    "V_R = \\Omega\\left(R+\\frac{L}{2}\\right)\n",
    "$$\n",
    "$$\n",
    "V_L = \\Omega\\left(R-\\frac{L}{2}\\right)\n",
    "$$\n",
    "\n",
    "Therefore,\n",
    "\n",
    "$$\n",
    "\\omega_R = \\frac{\\Omega}{r}\\left(R+\\frac{L}{2}\\right)\n",
    "$$\n",
    "$$\n",
    "\\omega_L = \\frac{\\Omega}{r}\\left(R-\\frac{L}{2}\\right)\n",
    "$$\n",
    "The duration to rotate by $\\alpha_o$ is the same as above. The code below describes an arc of radius $10$, and angle $60^\\circ$."
   ]
  },
  {
   "cell_type": "code",
   "execution_count": 60,
   "metadata": {},
   "outputs": [
    {
     "name": "stdout",
     "output_type": "stream",
     "text": [
      "arc angle 3: 59.99\n"
     ]
    },
    {
     "data": {
      "image/png": "[encoded data removed]",
      "text/plain": [
       "<matplotlib.figure.Figure at 0x11750b278>"
      ]
     },
     "metadata": {},
     "output_type": "display_data"
    }
   ],
   "source": [
    "Omega = 10\n",
    "R = 10\n",
    "alpha_o = D2R(60)\n",
    "mybot = DDRobot()            # robot called 'enesbot'\n",
    "mybot.mag_plot = 2 #coefficient of magnification of the arrow\n",
    "\n",
    "mybot._delta = 0.0001 #time step of integration\n",
    "mybot.step_plot = 50 # plot location every n iterations\n",
    "mybot.pos_x = 10 #x\n",
    "mybot.pos_y = 0 #y\n",
    "mybot.angle = D2R(90) #alpha\n",
    "mybot.length =0.4 #L\n",
    "mybot.radius = 0.1 #r\n",
    "rotation_direction = 1 #1 for counter clockwise -1 for clockwise\n",
    "omega_R = Omega/mybot.radius*(R+rotation_direction*mybot.length/2)\n",
    "omega_L = Omega/mybot.radius*(R-rotation_direction*mybot.length/2)\n",
    "t_rotation = alpha_o*mybot.length/(mybot.radius*(omega_R-omega_L))\n",
    "mybot.plot = True #True if you want to plot the robot's trajectory\n",
    "mybot.plot_robot() #draw an arrow for the location of the robot at t=0\n",
    "mybot.rt_spd_left = omega_L\n",
    "mybot.rt_spd_right = omega_R\n",
    "mybot.move(t_rotation)\n",
    "\n",
    "mybot.plot_robot() #draw the new location\n",
    "print(\"arc angle %i: %0.2f\"%(i,R2D(mybot.angle-D2R(90))))\n",
    "\n",
    "plt.xlim(-1,11)\n",
    "plt.ylim(-1,11)\n",
    "plt.xlabel(r\"$x$\")\n",
    "plt.ylabel(r\"$y$\")\n",
    "plt.show()\n"
   ]
  },
  {
   "cell_type": "code",
   "execution_count": null,
   "metadata": {},
   "outputs": [],
   "source": []
  }
 ],
 "metadata": {
  "kernelspec": {
   "display_name": "Python 3",
   "language": "python",
   "name": "python3"
  },
  "language_info": {
   "codemirror_mode": {
    "name": "ipython",
    "version": 3
   },
   "file_extension": ".py",
   "mimetype": "text/x-python",
   "name": "python",
   "nbconvert_exporter": "python",
   "pygments_lexer": "ipython3",
   "version": "3.6.3"
  }
 },
 "nbformat": 4,
 "nbformat_minor": 2
}
