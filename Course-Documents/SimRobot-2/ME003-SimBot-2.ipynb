{
 "cells": [
  {
   "cell_type": "code",
   "execution_count": 1,
   "metadata": {},
   "outputs": [],
   "source": [
    "\"\"\"Header cell, contains modules and functions to make the whole notebook experience better\"\"\"\n",
    "%matplotlib inline \n",
    "# plots graphs within the notebook\n",
    "\n",
    "from IPython.display import display,Image, Latex\n",
    "from sympy.interactive import printing\n",
    "printing.init_printing(use_latex='mathjax')\n",
    "from IPython.display import clear_output\n",
    "\n",
    "import time\n",
    "\n",
    "from IPython.display import display,Image, Latex\n",
    "\n",
    "from IPython.display import clear_output\n",
    "\n",
    "\n",
    "import matplotlib.pyplot as plt\n",
    "import numpy as np\n",
    "import math\n",
    "import scipy.constants as sc\n",
    "\n",
    "\n",
    "import sympy as sym\n",
    "\n",
    "    \n",
    "font = {'family' : 'serif',\n",
    "        #'color'  : 'black',\n",
    "        'weight' : 'normal',\n",
    "        'size'   : 12,\n",
    "        }\n",
    "fontlabel = {'family' : 'serif',\n",
    "        #'color'  : 'black',\n",
    "        'weight' : 'normal',\n",
    "        'size'   : 12,\n",
    "        }\n",
    "\n",
    "from matplotlib.ticker import FormatStrFormatter\n",
    "plt.rc('font', **font)\n",
    "\n",
    "class PDF(object):\n",
    "  def __init__(self, pdf, size=(200,200)):\n",
    "    self.pdf = pdf\n",
    "    self.size = size\n",
    "\n",
    "  def _repr_html_(self):\n",
    "    return '<iframe src={0} width={1[0]} height={1[1]}></iframe>'.format(self.pdf, self.size)\n",
    "\n",
    "  def _repr_latex_(self):\n",
    "    return r'\\includegraphics[width=1.0\\textwidth]{{{0}}}'.format(self.pdf)\n",
    "\n",
    "class ListTable(list):\n",
    "    \"\"\" Overridden list class which takes a 2-dimensional list of \n",
    "        the form [[1,2,3],[4,5,6]], and renders an HTML Table in \n",
    "        IPython Notebook. \"\"\"\n",
    "    \n",
    "    def _repr_html_(self):\n",
    "        html = [\"<table>\"]\n",
    "        for row in self:\n",
    "            html.append(\"<tr>\")\n",
    "            \n",
    "            for col in row:\n",
    "                html.append(\"<td>{0}</td>\".format(col))\n",
    "            \n",
    "            html.append(\"</tr>\")\n",
    "        html.append(\"</table>\")\n",
    "        return ''.join(html)\n",
    "    "
   ]
  },
  {
   "cell_type": "code",
   "execution_count": 2,
   "metadata": {},
   "outputs": [],
   "source": [
    "import matplotlib.pyplot as plt\n",
    "import numpy as np\n",
    "import math\n",
    "import scipy.constants as sc\n",
    "\n",
    "\n",
    "import sympy as sym\n",
    "\n",
    "\n",
    "from math import sin, cos\n",
    "\n",
    "class Robot(object):\n",
    "    \"\"\"Defines basic mobile robot properties\"\"\"\n",
    "    def __init__(self):\n",
    "        self.pos_x  = 0.0\n",
    "        self.pos_y  = 0.0\n",
    "        self.angle  = 0.0\n",
    "        self.plot   = False\n",
    "        self._delta = 0.01\n",
    "        self.step_plot = int(5)\n",
    "        self.mag_plot = 1.\n",
    "\n",
    "    # Movement\n",
    "    def step(self):\n",
    "        \"\"\" updates the x,y and angle \"\"\"\n",
    "        self.deltax()\n",
    "        self.deltay()\n",
    "        self.deltaa()\n",
    "\n",
    "    def move(self, seconds):\n",
    "        \"\"\" Moves the robot for an 's' amount of seconds\"\"\"\n",
    "        for i in range(int(seconds/self._delta)):\n",
    "            self.step()\n",
    "            if i % self.step_plot == 0 and self.plot: # plot path every 3 steps\n",
    "                self.plot_xya()\n",
    "\n",
    "    # Printing-and-plotting:\n",
    "    def print_xya(self):\n",
    "        \"\"\" prints the x,y position and angle \"\"\"\n",
    "        print (\"x = \" + str(self.pos_x) +\" \"+ \"y = \" + str(self.pos_y))\n",
    "        print (\"a = \" + str(self.angle))\n",
    "\n",
    "    def plot_robot(self):\n",
    "        \"\"\" plots a representation of the robot \"\"\"\n",
    "        plt.arrow(self.pos_x, self.pos_y, 0.001\n",
    "                  * cos(self.angle), 0.001 * sin(self.angle),\n",
    "                  head_width=self.mag_plot*self.length, head_length=self.mag_plot*self.length,\n",
    "                  fc='k', ec='k')\n",
    "\n",
    "    def plot_xya(self):\n",
    "        \"\"\" plots a dot in the position of the robot \"\"\"\n",
    "        plt.scatter(self.pos_x, self.pos_y, c='r', edgecolors='r')\n",
    "\n",
    "\n",
    "class DDRobot(Robot):\n",
    "    \"\"\"Defines a differential drive robot\"\"\"\n",
    "\n",
    "    def __init__(self):\n",
    "        Robot.__init__(self)\n",
    "        self.radius = 0.1\n",
    "        self.length = 0.4\n",
    "\n",
    "        self.rt_spd_left = 0.0\n",
    "        self.rt_spd_right = 0.0\n",
    "\n",
    "    def deltax(self):\n",
    "        \"\"\" update x depending on l and r angular speeds \"\"\"\n",
    "        self.pos_x += self._delta * (self.radius*0.5) \\\n",
    "        * (self.rt_spd_right + self.rt_spd_left)*cos(self.angle)\n",
    "\n",
    "    def deltay(self):\n",
    "        \"\"\" update y depending on l and r angular speeds \"\"\"\n",
    "        self.pos_y += self._delta * (self.radius*0.5) \\\n",
    "        * (self.rt_spd_right + self.rt_spd_left)*sin(self.angle)\n",
    "\n",
    "    def deltaa(self):\n",
    "        \"\"\" update z depending on l and r angular speeds \"\"\"\n",
    "        self.angle += self._delta * (self.radius/self.length) \\\n",
    "        * (self.rt_spd_right - self.rt_spd_left)\n",
    "# function to convert degrees to radians\n",
    "def D2R(a):\n",
    "    return math.pi*a/180\n",
    "def R2D(a):\n",
    "    return 180*a/math.pi\n",
    "# mybot = DDRobot()            # robot called 'enesbot'\n",
    "\n",
    "# mybot.angle = 3.1416/4        # 45 degrees\n",
    "# mybot.plot = True             # plot the robot!\n",
    "# mybot.plot_robot()\n",
    "\n",
    "# mybot.rt_spd_left = 10\n",
    "# mybot.rt_spd_right = 10       # straight line\n",
    "# mybot.move(2)                 # move for 2 seconds\n",
    "\n",
    "# mybot.rt_spd_left = 12.5664\n",
    "# mybot.rt_spd_right = 18.8496  # (2m diameter circle)\n",
    "# mybot.move(1)                 # move for 1 second\n",
    "\n",
    "# mybot.rt_spd_left = 18.8496\n",
    "# mybot.rt_spd_right = 12.5664  # (2m diameter circle)\n",
    "# mybot.move(2.5)               # move for 2.5 second\n",
    "\n",
    "# mybot.rt_spd_left = 12.5664\n",
    "# mybot.rt_spd_right = 18.8496  # (2m diameter circle)\n",
    "# mybot.move(3.5)               # move for 2.5 second\n",
    "\n",
    "# mybot.plot_robot()\n",
    "\n",
    "# plt.xlim([-1, 6])               # axis limits\n",
    "# plt.ylim([-1, 6])\n",
    "\n",
    "# plt.show()"
   ]
  },
  {
   "cell_type": "code",
   "execution_count": 3,
   "metadata": {},
   "outputs": [
    {
     "data": {
      "text/html": [
       "<iframe src=bot-sketch.pdf width=550 height=400></iframe>"
      ],
      "text/latex": [
       "\\includegraphics[width=1.0\\textwidth]{bot-sketch.pdf}"
      ],
      "text/plain": [
       "<__main__.PDF at 0x109815470>"
      ]
     },
     "execution_count": 3,
     "metadata": {},
     "output_type": "execute_result"
    }
   ],
   "source": [
    "PDF('bot-sketch.pdf',size = (550,400))"
   ]
  },
  {
   "cell_type": "markdown",
   "metadata": {},
   "source": [
    "# Differential Drive Robot - 2: Calibration\n",
    "\n",
    "Alphabot 2 is a differential drive robot: Two independent motors drive the left and right wheels and the differential speed between the two wheels control the speed and direction of the robot. The following code is copied from http://enesbot.me/kinematic-model-of-a-differential-drive-robot.html\n",
    "\n",
    "## Objective\n",
    "The objective is to investigate methods of calibration of the robot. \n",
    "\n",
    "## Quick Theoretical Background\n",
    "\n",
    "The robot parameters are:\n",
    "<ul>\n",
    "    <li> Wheel radius: $r$. </li>\n",
    "    <li> Length between wheels: $L$ </li>\n",
    "    <li> Angular velocity of the left and right wheels: $\\omega_L$, $\\omega_R$, respectively.</li>\n",
    "    <li> Angle from horizontal: $\\alpha$.</li>\n",
    "    <li> Position vector of the robot: $(x,y)$.</li>\n",
    "    <li> Velocity vector of the robot: $V=(\\dot{x},\\dot{y})$.</li>\n",
    "</ul>\n",
    "Hereafter $\\dot{a}$ refers to the time derivative of variable $a$:\n",
    "\n",
    "$$\n",
    "\\dot{a}=\\frac{da}{dt}\n",
    "$$\n",
    "\n",
    "The velocities of the wheels are therefore defined as:\n",
    "\n",
    "$$\n",
    "V_L=\\omega_Lr\\text{ and }V_R=\\omega_Rr.\n",
    "$$\n",
    "\n",
    "The velocity of the robot, taken at the center of the wheels, is simply:\n",
    "\n",
    "$$\n",
    "\\vec{V}=\\frac{V_R+V_L}{2}(\\cos(\\alpha)\\vec{e}_x+\\sin(\\alpha\\vec{e}_y),\n",
    "$$\n",
    "\n",
    "yielding the following equations of motions:\n",
    "\n",
    "$$\n",
    "\\dot{x}=r\\frac{\\omega_R+\\omega_L}{2}\\cos{\\alpha}\n",
    "$$\n",
    "\n",
    "$$\n",
    "\\dot{y}=r\\frac{\\omega_R+\\omega_L}{2}\\sin{\\alpha}\n",
    "$$\n",
    "\n",
    "and\n",
    "\n",
    "$$\n",
    "\\dot{\\alpha}=\\frac{r}{L}(\\omega_R-\\omega_L)\n",
    "$$\n",
    "\n",
    "In the previous assignment, an equation was derived to determine the time $T$ needed to turn the robot an angle $\\alpha_o$ at given rotation speed $\\omega_L$ and $\\omega_R$ and robot dimensions $r$ and $L$. This equation started by intergrating the robot angle equation above:\n",
    "\n",
    "$$\n",
    "\\dot{\\alpha}=\\frac{d\\alpha}{dt}=\\frac{r}{L}(\\omega_R-\\omega_L)\n",
    "$$\n",
    "\n",
    "from $0$ to a time $T$ yields\n",
    "\n",
    "$$\n",
    "\\int_0^T\\frac{d\\alpha}{dt}dt=\\int_0^T\\frac{r}{L}(\\omega_R-\\omega_L)dt\n",
    "$$\n",
    "\n",
    "Since the left hand side function is constant with respect to time, the result is simply:\n",
    "\n",
    "$$\n",
    "\\alpha(T) - \\alpha(0) =Tr\\frac{\\omega_R-\\omega_L}{L}\n",
    "$$\n",
    "\n",
    "Therefore the time to execute a rotation of angle $\\alpha_o=\\alpha(T) - \\alpha(0)$ is\n",
    "\n",
    "$$\n",
    "T = \\frac{\\alpha_oL}{r(\\omega_R-\\omega_L)}.\\;\\;\\;\\mathrm{Eq. 1}\n",
    "$$\n",
    "\n",
    "\n",
    "## Position of the Problem\n",
    "In a perfect world if your code sets the same rotation speed for both wheels, the robot travels on a straight line. In the present case of independent motors, this outcome is very unlikely. Actually one should not expect the robot to drive straight. Below is a model of drift. Here the drift has two components: a constant drift (it could be a signal offset issue), and complex mechanical friction modeled by a quadratic function of the rotation speed. You will assume that you don't know the equation of the drift.\n",
    "\n",
    "## Goal\n",
    "You will derive a calibration curve using polynomial fit and test your calibration on a specific motion.\n"
   ]
  },
  {
   "cell_type": "markdown",
   "metadata": {},
   "source": [
    "## Example of drift\n",
    "\n",
    "Below is a code showing the trajectory of a robot for a series of 5 runs at different rotation speeds $\\omega=1, 2.5, 5, 7.5, 10$. The robot starts from the same initial conditions, $x=0,y=0,\\alpha=0$, has no drift (perfect robot) and moves for 10 s for all runs."
   ]
  },
  {
   "cell_type": "code",
   "execution_count": 4,
   "metadata": {},
   "outputs": [
    {
     "data": {
      "image/png": "[encoded data removed]",
      "text/plain": [
       "<matplotlib.figure.Figure at 0x10ca5f828>"
      ]
     },
     "metadata": {},
     "output_type": "display_data"
    }
   ],
   "source": [
    "T = 10\n",
    "omega = np.array([1, 2.5, 5, 7.5, 10])\n",
    "end_angle = np.zeros(5)\n",
    "omega_R = omega \n",
    "omega_L = omega\n",
    "mybot = DDRobot()\n",
    "mybot.mag_plot = 2 #coefficient of magnification of the arrow\n",
    "mybot.step_plot = 100 # plot location every 100 iterations\n",
    "\n",
    "for i in range(5):\n",
    "    mybot.pos_x = 0 #x\n",
    "    mybot.pos_y = 0 #y\n",
    "    mybot.angle = D2R(0) #alpha\n",
    "    mybot.length =0.4 #L\n",
    "    mybot.radius = 0.1 #r\n",
    "    mybot.rt_spd_left = omega_L[i]\n",
    "    mybot.rt_spd_right = omega_R[i]\n",
    "\n",
    "\n",
    "    mybot.plot = True #True if you want to plot the robot's trajectory\n",
    "    mybot.plot_robot() #draw an arrow for the location of the robot at t=0\n",
    "\n",
    "    mybot.move(T) #move the robot for 10s\n",
    "    mybot.plot_robot() #draw the new location\n",
    "    end_angle[i] = mybot.angle\n",
    "\n",
    "plt.xlim(-5,11)\n",
    "plt.ylim(-5,11)\n",
    "plt.xlabel(r\"$x$\")\n",
    "plt.ylabel(r\"$y$\")\n",
    "plt.show()"
   ]
  },
  {
   "cell_type": "markdown",
   "metadata": {},
   "source": [
    "Now we introduce a constant random drift $\\delta$ and see its effect on the different trajectories. The function numpy.random.rand returns a random number between 0 and 1."
   ]
  },
  {
   "cell_type": "code",
   "execution_count": 6,
   "metadata": {},
   "outputs": [
    {
     "data": {
      "image/png": "[encoded data removed]",
      "text/plain": [
       "<matplotlib.figure.Figure at 0x1097e1a90>"
      ]
     },
     "metadata": {},
     "output_type": "display_data"
    }
   ],
   "source": [
    "delta = np.random.rand(1)\n",
    "T = 10\n",
    "omega = np.array([1, 2.5, 5, 7.5, 10])\n",
    "end_angle = np.zeros(5)\n",
    "omega_R = omega + delta[0]\n",
    "omega_L = omega\n",
    "mybot = DDRobot()\n",
    "mybot.mag_plot = 2 #coefficient of magnification of the arrow\n",
    "mybot.step_plot = 100 # plot location every 100 iterations\n",
    "\n",
    "for i in range(5):\n",
    "    mybot.pos_x = 0 #x\n",
    "    mybot.pos_y = 0 #y\n",
    "    mybot.angle = D2R(0) #alpha\n",
    "    mybot.length =0.4 #L\n",
    "    mybot.radius = 0.1 #r\n",
    "    mybot.rt_spd_left = omega_L[i]\n",
    "    mybot.rt_spd_right = omega_R[i]\n",
    "\n",
    "\n",
    "    mybot.plot = True #True if you want to plot the robot's trajectory\n",
    "    mybot.plot_robot() #draw an arrow for the location of the robot at t=0\n",
    "\n",
    "    mybot.move(T) #move the robot for 10s\n",
    "    mybot.plot_robot() #draw the new location\n",
    "    end_angle[i] = mybot.angle\n",
    "\n",
    "plt.xlim(-5,11)\n",
    "plt.ylim(-5,11)\n",
    "plt.xlabel(r\"$x$\")\n",
    "plt.ylabel(r\"$y$\")\n",
    "plt.show()"
   ]
  },
  {
   "cell_type": "markdown",
   "metadata": {},
   "source": [
    "The plot below shows the angle at the end of each run. Based on Eq. 1 above, does this plot make sense?"
   ]
  },
  {
   "cell_type": "code",
   "execution_count": 7,
   "metadata": {},
   "outputs": [
    {
     "data": {
      "image/png": "[encoded data removed]",
      "text/plain": [
       "<matplotlib.figure.Figure at 0x112736ac8>"
      ]
     },
     "metadata": {},
     "output_type": "display_data"
    }
   ],
   "source": [
    "plt.plot(omega,R2D(end_angle),'o-',label=\"experiment\")\n",
    "plt.xlabel(r\"$\\omega$\")\n",
    "plt.ylabel(r\"$\\alpha\\;(^\\circ)$ \")\n",
    "plt.legend(loc=3, bbox_to_anchor=[0, 1.], ncol=2, shadow=False, fancybox=True)\n",
    "plt.show()"
   ]
  },
  {
   "cell_type": "markdown",
   "metadata": {},
   "source": [
    "The correction is straightforward. For each run, the rotation speed of the right wheel must be corrected by $-\\delta$."
   ]
  },
  {
   "cell_type": "code",
   "execution_count": 8,
   "metadata": {},
   "outputs": [
    {
     "data": {
      "image/png": "[encoded data removed]",
      "text/plain": [
       "<matplotlib.figure.Figure at 0x112913e10>"
      ]
     },
     "metadata": {},
     "output_type": "display_data"
    }
   ],
   "source": [
    "\n",
    "T = 10\n",
    "omega = np.array([1, 2.5, 5, 7.5, 10])\n",
    "end_angle = np.zeros(5)\n",
    "mybot = DDRobot()\n",
    "mybot.mag_plot = 2 #coefficient of magnification of the arrow\n",
    "mybot.step_plot = 100 # plot location every 100 iterations\n",
    "\n",
    "for i in range(5):\n",
    "    mybot.pos_x = 0 #x\n",
    "    mybot.pos_y = 0 #y\n",
    "    mybot.angle = D2R(0) #alpha\n",
    "    mybot.rt_spd_left = omega_L[i]\n",
    "    mybot.rt_spd_right = omega_R[i] - delta[0]\n",
    "\n",
    "\n",
    "    mybot.plot = True #True if you want to plot the robot's trajectory\n",
    "    mybot.plot_robot() #draw an arrow for the location of the robot at t=0\n",
    "\n",
    "    mybot.move(T) #move the robot for 10s\n",
    "    mybot.plot_robot() #draw the new location\n",
    "    end_angle[i] = mybot.angle\n",
    "\n",
    "plt.xlim(-5,11)\n",
    "plt.ylim(-5,11)\n",
    "plt.xlabel(r\"$x$\")\n",
    "plt.ylabel(r\"$y$\")\n",
    "plt.show()"
   ]
  },
  {
   "cell_type": "markdown",
   "metadata": {},
   "source": [
    "## Proposed calibration\n",
    "\n",
    "You will assume that the drift $\\delta$ is caused by the right motor and additive:\n",
    "\n",
    "$$\n",
    "\\omega_L = \\omega,\\;\\omega_R = \\omega+\\delta(\\omega).\n",
    "$$\n",
    "\n",
    "If $\\delta(\\omega)$ is positive, the robot, when programmed to go straight, the robot will actually turn left.\n",
    "\n",
    "The proposed calibration consists of programming the robot for a series of straight runs for various $\\omega$ and constant $T$, $r$ and $L$. Once the robot stops, the deviation from the straight motion is measured by the angle of the robot at time $T$. This angle is a function of $\\omega$, $\\alpha(\\omega)$ if the drift is a function of the rotation speed. Use Eq. 1 above to determine the drift $\\delta(\\omega)$ as a function of $\\alpha(\\omega)$, $L$, $T$ and $r$."
   ]
  },
  {
   "cell_type": "code",
   "execution_count": 9,
   "metadata": {},
   "outputs": [
    {
     "name": "stdout",
     "output_type": "stream",
     "text": [
      "[0.03285105 0.15091591]\n"
     ]
    }
   ],
   "source": [
    "\"\"\" random quadratic drift equation. Note that every time \n",
    "you run this cell, the trajectories will change\"\"\"\n",
    "a = np.random.random(2)# random drift amplitude\n",
    "print(a)\n",
    "def drift(omega):\n",
    "    f = a[0] + a[1] * (omega/5)**2\n",
    "    return f"
   ]
  },
  {
   "cell_type": "markdown",
   "metadata": {},
   "source": [
    "### Uncalibrated robot"
   ]
  },
  {
   "cell_type": "code",
   "execution_count": 10,
   "metadata": {},
   "outputs": [
    {
     "data": {
      "image/png": "[encoded data removed]",
      "text/plain": [
       "<matplotlib.figure.Figure at 0x11270a7b8>"
      ]
     },
     "metadata": {},
     "output_type": "display_data"
    }
   ],
   "source": [
    "T = 10\n",
    "omega = np.array([1, 2.5, 5, 7.5, 10])\n",
    "end_angle = np.zeros(5)\n",
    "omega_R = omega + drift(omega)\n",
    "omega_L = omega\n",
    "mybot = DDRobot()\n",
    "mybot.mag_plot = 2 #coefficient of magnification of the arrow\n",
    "mybot.step_plot = 100 # plot location every 100 iterations\n",
    "\n",
    "for i in range(5):\n",
    "    mybot.pos_x = 0 #x\n",
    "    mybot.pos_y = 0 #y\n",
    "    mybot.angle = D2R(0) #alpha\n",
    "    mybot.length =0.4 #L\n",
    "    mybot.radius = 0.1 #r\n",
    "    mybot.rt_spd_left = omega_L[i]\n",
    "    mybot.rt_spd_right = omega_R[i]\n",
    "\n",
    "\n",
    "    mybot.plot = True #True if you want to plot the robot's trajectory\n",
    "    mybot.plot_robot() #draw an arrow for the location of the robot at t=0\n",
    "\n",
    "    mybot.move(T) #move the robot for 10s\n",
    "    mybot.plot_robot() #draw the new location\n",
    "    end_angle[i] = mybot.angle\n",
    "\n",
    "plt.xlim(-5,11)\n",
    "plt.ylim(-5,11)\n",
    "plt.xlabel(r\"$x$\")\n",
    "plt.ylabel(r\"$y$\")\n",
    "plt.show()"
   ]
  },
  {
   "cell_type": "markdown",
   "metadata": {},
   "source": [
    "Note in the code above, the angle at the end of the motion is stored in the array end_angle. As shown below, the drift appears to follow a parabola."
   ]
  },
  {
   "cell_type": "code",
   "execution_count": 11,
   "metadata": {},
   "outputs": [
    {
     "data": {
      "image/png": "[encoded data removed]",
      "text/plain": [
       "<matplotlib.figure.Figure at 0x11270cbe0>"
      ]
     },
     "metadata": {},
     "output_type": "display_data"
    }
   ],
   "source": [
    "plt.plot(omega,R2D(end_angle),'o',label=\"experiment\")\n",
    "plt.xlabel(r\"$\\omega$\")\n",
    "plt.ylabel(r\"$\\alpha$\")\n",
    "plt.legend(loc=3, bbox_to_anchor=[0, 1.], ncol=2, shadow=False, fancybox=True)\n",
    "plt.show()"
   ]
  },
  {
   "cell_type": "markdown",
   "metadata": {},
   "source": [
    "Let's now fit a quadratic polynomial to these points. The creation of a polynomial in python is shown below using numpy polyfit function. p2_coef are the coefficients $p_i$ of the polynomial $p(x)=p_0x^2+p_1x+p_2$ (see https://docs.scipy.org/doc/numpy-1.14.0/reference/generated/numpy.polyfit.html)."
   ]
  },
  {
   "cell_type": "code",
   "execution_count": 12,
   "metadata": {},
   "outputs": [
    {
     "name": "stdout",
     "output_type": "stream",
     "text": [
      "[ 1.50915907e-02 -4.78006585e-15  8.21276361e-02]\n"
     ]
    }
   ],
   "source": [
    "p2_coef = np.polyfit(omega,end_angle,2)\n",
    "print(p2_coef)"
   ]
  },
  {
   "cell_type": "markdown",
   "metadata": {},
   "source": [
    "To generate a function, use the numpy function poly1d:"
   ]
  },
  {
   "cell_type": "code",
   "execution_count": 13,
   "metadata": {},
   "outputs": [
    {
     "data": {
      "text/plain": [
       "poly1d([ 1.50915907e-02, -4.78006585e-15,  8.21276361e-02])"
      ]
     },
     "execution_count": 13,
     "metadata": {},
     "output_type": "execute_result"
    }
   ],
   "source": [
    "p2 = np.poly1d(p2_coef)\n",
    "p2 = np.poly1d(np.polyfit(omega,end_angle,2)) #equivalent compact form\n",
    "p2"
   ]
  },
  {
   "cell_type": "markdown",
   "metadata": {},
   "source": [
    "You can now generate a fit over a range of your choice, here $0\\leq\\omega\\leq10$"
   ]
  },
  {
   "cell_type": "code",
   "execution_count": 14,
   "metadata": {},
   "outputs": [
    {
     "data": {
      "image/png": "[encoded data removed]",
      "text/plain": [
       "<matplotlib.figure.Figure at 0x11273ec88>"
      ]
     },
     "metadata": {},
     "output_type": "display_data"
    }
   ],
   "source": [
    "N = 51\n",
    "om = np.linspace(0,10,N)\n",
    "\n",
    "plt.plot(omega,R2D(end_angle),'o',label=\"experiment\")\n",
    "plt.plot(om,R2D(p2(om)),label='fit')\n",
    "plt.xlabel(r\"$\\omega$\")\n",
    "plt.ylabel(r\"$\\alpha$\")\n",
    "plt.legend(loc=3, bbox_to_anchor=[0, 1.], ncol=2, shadow=False, fancybox=True)\n",
    "plt.show()"
   ]
  },
  {
   "cell_type": "markdown",
   "metadata": {},
   "source": [
    "\n",
    "In Eq. 1, introduce the drift at $\\delta$, i.e. $\\omega_L=\\omega$ and $\\omega_R=\\omega+\\delta$, and derive a correction for the drift at as a function of $\\alpha(\\omega)$, which here is the array end_angle or the polynomial p2. Using the knowledge of the drift for all 5 rotation speed in the array omega, create a polynomial to compute the drift for $\\omega\\in[0,10]$ and introduce this polynomial into the code below to correct for the drift.\n",
    "\n"
   ]
  },
  {
   "cell_type": "code",
   "execution_count": 28,
   "metadata": {},
   "outputs": [
    {
     "name": "stdout",
     "output_type": "stream",
     "text": [
      "[ 0.34574835  0.9517579   4.88811036  5.34589337  7.02843155]\n",
      "[ 2.          1.33333333  1.          2.          1.33333333]\n",
      "[  0.69149669   1.26901054   4.88811036  10.69178675   9.37124206]\n",
      "107.370677846\n"
     ]
    }
   ],
   "source": [
    "delta = mybot.length/(mybot.radius*T)*end_angle\n",
    "print(end_angle)\n",
    "print(mybot.length/(mybot.radius*T))\n",
    "print(delta)\n",
    "print(R2D(p2(2)))"
   ]
  },
  {
   "cell_type": "code",
   "execution_count": 24,
   "metadata": {},
   "outputs": [
    {
     "data": {
      "image/png": "[encoded data removed]",
      "text/plain": [
       "<matplotlib.figure.Figure at 0x117500198>"
      ]
     },
     "metadata": {},
     "output_type": "display_data"
    }
   ],
   "source": [
    "omega = np.array([1, 2.5, 5, 7.5, 10])\n",
    "end_angle = np.zeros(5)\n",
    "omega_L = omega \n",
    "omega_R = omega + drift(omega) # DO NOT MODIFY\n",
    "mybot = DDRobot()\n",
    "mybot.mag_plot = 2 #coefficient of magnification of the arrow\n",
    "mybot.step_plot = 100 # plot location every 100 iterations\n",
    "\n",
    "for i in range(5):\n",
    "    mybot.pos_x = 0 #x\n",
    "    mybot.pos_y = 0 #y\n",
    "    mybot.angle = D2R(0) #alpha\n",
    "    mybot.length =0.4 #L\n",
    "    mybot.radius = 0.1 #r\n",
    "    mybot.rt_spd_left = omega_L[i]\n",
    "    mybot.rt_spd_right = omega_R[i] - delta[i] #write your correction here\n",
    "\n",
    "\n",
    "    mybot.plot = True #True if you want to plot the robot's trajectory\n",
    "    mybot.plot_robot() #draw an arrow for the location of the robot at t=0\n",
    "\n",
    "    mybot.move(10) #move the robot for 10s\n",
    "    mybot.plot_robot() #draw the new location\n",
    "    end_angle[i] = mybot.angle\n",
    "\n",
    "plt.xlim(-1,11)\n",
    "plt.ylim(-1,11)\n",
    "plt.xlabel(r\"$x$\")\n",
    "plt.ylabel(r\"$y$\")\n",
    "plt.show()"
   ]
  },
  {
   "cell_type": "markdown",
   "metadata": {},
   "source": [
    "Now apply your correction to the following example. In this example the robot experiences 5 step motions of different durations and speed. The robot is supposed to move in a straight line. Print the angle of the robot at the end of each step. Does your correction work? What would it take the correction to work for positive AND negative rotation speed?"
   ]
  },
  {
   "cell_type": "markdown",
   "metadata": {},
   "source": [
    "Write your answers here."
   ]
  },
  {
   "cell_type": "code",
   "execution_count": 26,
   "metadata": {},
   "outputs": [
    {
     "data": {
      "image/png": "[encoded data removed]",
      "text/plain": [
       "<matplotlib.figure.Figure at 0x111f9ea20>"
      ]
     },
     "metadata": {},
     "output_type": "display_data"
    }
   ],
   "source": [
    "omega = np.array([1.5, 2.4, 10, 3 , 7])\n",
    "T = np.array([2, 3, 4, 2, 3])\n",
    "end_angle = np.zeros(5)\n",
    "omega_L = omega \n",
    "omega_R = omega + drift(omega)\n",
    "mybot = DDRobot()\n",
    "mybot.mag_plot = 2 #coefficient of magnification of the arrow\n",
    "mybot.step_plot = 100 # plot location every 100 iterations\n",
    "mybot.pos_x = 0 #x\n",
    "mybot.pos_y = 0 #y\n",
    "mybot.angle = D2R(0) #alpha\n",
    "mybot.length =0.4 #L\n",
    "mybot.radius = 0.1 #r\n",
    "for i in range(5):\n",
    "    \n",
    "    mybot.rt_spd_left = omega_L[i]\n",
    "    mybot.rt_spd_right = omega_R[i] # write your correction here\n",
    "\n",
    "    mybot.plot = True #True if you want to plot the robot's trajectory\n",
    "    mybot.plot_robot() #draw an arrow for the location of the robot at t=0\n",
    "\n",
    "    mybot.move(T[i]) #move the robot for 10s\n",
    "    mybot.plot_robot() #draw the new location\n",
    "    end_angle[i] = mybot.angle\n",
    "\n",
    "plt.xlim(-5,11)\n",
    "plt.ylim(-5,11)\n",
    "plt.xlabel(r\"$x$\")\n",
    "plt.ylabel(r\"$y$\")\n",
    "plt.show()"
   ]
  },
  {
   "cell_type": "code",
   "execution_count": null,
   "metadata": {
    "collapsed": true
   },
   "outputs": [],
   "source": [
    "print(R2D(end_angle))"
   ]
  },
  {
   "cell_type": "markdown",
   "metadata": {},
   "source": [
    "Create a complex motion (with rotations and speed variations). Show the result with and without correction. At minimum the motion should include one rotation and two different wheel rotation speed. See example below "
   ]
  },
  {
   "cell_type": "code",
   "execution_count": null,
   "metadata": {
    "collapsed": true
   },
   "outputs": [],
   "source": [
    "Nmoves = 2 # make sure to increase this number if you increase the number of moves\n",
    "omega = np.array([6, 9])\n",
    "T = np.array([12,8])\n",
    "rotation_angle = np.array([90, 90])\n",
    "rotation_angle = D2R(rotation_angle)\n",
    "end_angle = np.zeros(Nmoves) \n",
    "omega_L = omega \n",
    "omega_R = omega + drift(omega)\n",
    "t_rotation = rotation_angle*mybot.length/(mybot.radius*(omega_R+omega_L))\n",
    "mybot = DDRobot()\n",
    "mybot.mag_plot = 2 #coefficient of magnification of the arrow\n",
    "mybot.step_plot = 100 # plot location every 100 iterations\n",
    "mybot.pos_x = 0 #x\n",
    "mybot.pos_y = 0 #y\n",
    "mybot.angle = D2R(0) #alpha\n",
    "mybot.length =0.4 #L\n",
    "mybot.radius = 0.1 #r\n",
    "mybot.plot = True #True if you want to plot the robot's trajectory\n",
    "mybot.plot_robot() #draw an arrow for the location of the robot at t=0\n",
    "for i in range(Nmoves):\n",
    "    \n",
    "    mybot.rt_spd_left = omega_L[i]\n",
    "    mybot.rt_spd_right = omega_R[i] # write your correction here\n",
    "\n",
    "    mybot.move(T[i]) #move the robot\n",
    "    # rotation \n",
    "    mybot.rt_spd_left = -omega_L[i]\n",
    "    mybot.rt_spd_right = omega_R[i] # write your correction here\n",
    "    mybot.move(t_rotation[i]) #move the robot\n",
    "    mybot.plot_robot() #draw the new location\n",
    "    end_angle[i] = mybot.angle\n",
    "\n",
    "plt.xlim(-5,11)\n",
    "plt.ylim(-5,11)\n",
    "plt.xlabel(r\"$x$\")\n",
    "plt.ylabel(r\"$y$\")\n",
    "plt.show()"
   ]
  },
  {
   "cell_type": "code",
   "execution_count": null,
   "metadata": {
    "collapsed": true
   },
   "outputs": [],
   "source": []
  }
 ],
 "metadata": {
  "kernelspec": {
   "display_name": "Python 3",
   "language": "python",
   "name": "python3"
  },
  "language_info": {
   "codemirror_mode": {
    "name": "ipython",
    "version": 3
   },
   "file_extension": ".py",
   "mimetype": "text/x-python",
   "name": "python",
   "nbconvert_exporter": "python",
   "pygments_lexer": "ipython3",
   "version": "3.6.6"
  }
 },
 "nbformat": 4,
 "nbformat_minor": 2
}
