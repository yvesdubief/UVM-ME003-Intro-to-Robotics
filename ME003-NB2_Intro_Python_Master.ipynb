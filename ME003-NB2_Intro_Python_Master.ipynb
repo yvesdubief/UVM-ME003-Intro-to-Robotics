{
 "cells": [
  {
   "cell_type": "markdown",
   "metadata": {},
   "source": [
    "# ME 003 - Introduction to Python Coding - Robotics - Notebook 2: \n",
    "## Simple Math & List Assignments: Q4.2 - Q10\n",
    "***"
   ]
  },
  {
   "cell_type": "markdown",
   "metadata": {},
   "source": [
    "## **Simple mathematical processes:** \n"
   ]
  },
  {
   "cell_type": "markdown",
   "metadata": {},
   "source": [
    "Python is a powerful data analysis tool and much of data analysis for engineers involves numbers. Therefore being able to effectively use math in Python is critical to your success in Python.<br>\n",
    "We will now walk through some simple mathematical processes in the following cells:<br>\n",
    "First off I will import the **math** libary/module as it stores many methods useful for mathematics in Python. "
   ]
  },
  {
   "cell_type": "code",
   "execution_count": null,
   "metadata": {},
   "outputs": [],
   "source": [
    "import math "
   ]
  },
  {
   "cell_type": "code",
   "execution_count": null,
   "metadata": {},
   "outputs": [],
   "source": [
    "a = 1\n",
    "b = 2\n",
    "c = 1+2 \n",
    "print(f\"c = {c}\")\n",
    "ab = a*b \n",
    "print(f\"ab = {ab}\")\n",
    "#raising to exponent: \n",
    "d = b**2\n",
    "print(f\"exp = {exp}\")\n",
    "square = int(math.sqrt(d))\n",
    "print(f\"The square root of 4 = {square}\")"
   ]
  },
  {
   "cell_type": "markdown",
   "metadata": {},
   "source": [
    "![](in_doc_images/python_math_operators.png)\n",
    "From Starting Out With Python - 3rd Edition - Tony Gaddis. 2015 by Pearson Education Limited."
   ]
  },
  {
   "cell_type": "markdown",
   "metadata": {},
   "source": [
    "#### **Q4.2:** Calculate the square root of 15129 using the math library and return the answer in a print statement \"The square root of 15129 is:\" "
   ]
  },
  {
   "cell_type": "code",
   "execution_count": null,
   "metadata": {},
   "outputs": [],
   "source": [
    "#your code here"
   ]
  },
  {
   "cell_type": "markdown",
   "metadata": {},
   "source": [
    "As you were monotonously taught and tested in High School, you care about significant digits. Now you actually do. Here's how to suppress output of a calculation in a print statement using the *f-string/template-string* format to a specified decimal place:<br>\n",
    "**print(f\"Text {variable:.nf}\")**, where n is the number of decimal places desired. <br>\n",
    "Ex:"
   ]
  },
  {
   "cell_type": "code",
   "execution_count": null,
   "metadata": {},
   "outputs": [],
   "source": [
    "long = 100/23\n",
    "print(f\"This is an unrounded unsuppressed output: {long}\")"
   ]
  },
  {
   "cell_type": "markdown",
   "metadata": {},
   "source": [
    "Ex: Below n = 2 and therefore rounds at 2 decimal places:"
   ]
  },
  {
   "cell_type": "code",
   "execution_count": null,
   "metadata": {},
   "outputs": [],
   "source": [
    "supp = 100/23\n",
    "print(f\"This is beautifully rounded, suppressed output: {supp:.2f}\")"
   ]
  },
  {
   "cell_type": "markdown",
   "metadata": {},
   "source": [
    "#### **Q5:** Calculate the area of a circle with radius r = 3 and suppress the output at 3 decimal places:"
   ]
  },
  {
   "cell_type": "code",
   "execution_count": null,
   "metadata": {},
   "outputs": [],
   "source": [
    "#your code here"
   ]
  },
  {
   "cell_type": "markdown",
   "metadata": {},
   "source": [
    "***"
   ]
  },
  {
   "cell_type": "markdown",
   "metadata": {},
   "source": [
    "## **List Assignments:**\n",
    "A list (in Python) is an ordered sequence of heterogeneous elements. A list is analagous to a container for storing multiple data types/ classes in the same list in Python. Lists are mutable meaning you can alter them after creation. Each entry in the list is reffered to as an element and can be accessed by a technique called indexing. *Lists are not Arrays*\n",
    "There are two ways to create a list: <br>"
   ]
  },
  {
   "cell_type": "code",
   "execution_count": null,
   "metadata": {},
   "outputs": [],
   "source": [
    "L1 = list([1, 2, 3, 4])\n",
    "print(f\"L1: {L1}\")"
   ]
  },
  {
   "cell_type": "code",
   "execution_count": null,
   "metadata": {},
   "outputs": [],
   "source": [
    "L2 = [5, 6, 7, 8]\n",
    "print(f\"L2: {L2}\")"
   ]
  },
  {
   "cell_type": "markdown",
   "metadata": {},
   "source": [
    "Lists may also contain objects of different classes such as bool(), float(), string(), int(), and *even* other lists:<br>"
   ]
  },
  {
   "cell_type": "code",
   "execution_count": null,
   "metadata": {},
   "outputs": [],
   "source": [
    "diff_list = [True, 420.87, \"Strings\", 69, [\"even other lists\", 24]]\n",
    "print(f\"diff_list: {diff_list}\")"
   ]
  },
  {
   "cell_type": "markdown",
   "metadata": {},
   "source": [
    "#### **Q6**: Create a list called calendar with the 24 elements being the name of each month of the year followed directly by the number of that specific month. Then print \"The months of the year are: (calendar list variable)\""
   ]
  },
  {
   "cell_type": "code",
   "execution_count": null,
   "metadata": {},
   "outputs": [],
   "source": [
    "#your code here"
   ]
  },
  {
   "cell_type": "markdown",
   "metadata": {},
   "source": [
    "#### **Concatenation** \n",
    "Lists may also be combined (called concatenation) and order does matter when concatenating:"
   ]
  },
  {
   "cell_type": "code",
   "execution_count": null,
   "metadata": {},
   "outputs": [],
   "source": [
    "letters = [1,2,3]\n",
    "print(f\"letters: {letters}\")\n",
    "numbers = ['a','b','c']\n",
    "print(f\"numbers: {numbers}\") \n",
    "print(letters + numbers)\n",
    "print(numbers + letters)"
   ]
  },
  {
   "cell_type": "markdown",
   "metadata": {},
   "source": [
    "Each list remains unchanged when concatenated with another list:"
   ]
  },
  {
   "cell_type": "code",
   "execution_count": null,
   "metadata": {},
   "outputs": [],
   "source": [
    "print(f\"letters: {letters}\")\n",
    "print(f\"numbers: {numbers}\")"
   ]
  },
  {
   "cell_type": "markdown",
   "metadata": {},
   "source": [
    "#### **Q7:** Now make a list called \"me\" with elements of your name, birth year (yyyy) and college graduation year. Print the \"me\" list.<br>Then make a list called \"UVM\" with elements of the name of this university, the date of UVM's establishment (yyyy) and number of students in your class at UVM. Print the \"UVM\" list.<br> Then print the two lists concatenated. <br>Then print each list separately to confirm they were unchanged."
   ]
  },
  {
   "cell_type": "code",
   "execution_count": null,
   "metadata": {},
   "outputs": [],
   "source": [
    "#your code here"
   ]
  },
  {
   "cell_type": "markdown",
   "metadata": {},
   "source": [
    "#### **.append** method\n",
    "A useful method for lists is the **.append** method which allows you to add values to the end of the list:"
   ]
  },
  {
   "cell_type": "code",
   "execution_count": null,
   "metadata": {},
   "outputs": [],
   "source": [
    "L2 = [5, 6, 7, 8]\n",
    "print(f\"L2: {L2}\")\n",
    "L2.append(9)\n",
    "print(f\"L2: {L2}\")"
   ]
  },
  {
   "cell_type": "markdown",
   "metadata": {},
   "source": [
    "While the .append method is convenient, it has significantly slower execution time than initializing an empty array and filling it with a \"for loop\". This system will be explained after a few blocks. <br><br>\n",
    "There are many other builtin methods to be used with lists. To see all of them pass a list to the directory function **dir(list_name)**.<br> \n",
    "#### **Ex: type the following into the cell below:** <br>\n",
    "**dir(L2)**<br>"
   ]
  },
  {
   "cell_type": "code",
   "execution_count": null,
   "metadata": {},
   "outputs": [],
   "source": [
    "#type here"
   ]
  },
  {
   "cell_type": "markdown",
   "metadata": {},
   "source": [
    "To learn how to use a method, pass it to the help function as described earlier in this notebook:<br>\n",
    "**help(list_name.method)** <br>\n",
    "ex: **help(L2.copy)**<br>"
   ]
  },
  {
   "cell_type": "code",
   "execution_count": null,
   "metadata": {},
   "outputs": [],
   "source": [
    "help(L2.copy)"
   ]
  },
  {
   "cell_type": "markdown",
   "metadata": {},
   "source": [
    "### **Array Assignments & the NumPy library:**\n",
    "An array is an ordered sequence of homogeneous elements. *Note:* Python does not have built in support for arrays so we use the very powerful library called NumPy (Numeric Python). A description from the NumPy site:<br>\n",
    "![](in_doc_images/Numpy_description.png)\n",
    "<br>\n",
    "Additionally, if you want to perform calculations on a list, Python does not have this built-in capability, and NumPy provides a seemlessly integrated system for this.\n",
    "<br>\n",
    "**Ex:** For instance if you wanted to multiply each individual element in a list by 3 and you weren't using NumPy, you would instead create 3 repeated instances of the original elements in the list, not increase their value by 3:"
   ]
  },
  {
   "cell_type": "code",
   "execution_count": null,
   "metadata": {},
   "outputs": [],
   "source": [
    "my_list = ([1,2,3])\n",
    "print(my_list)"
   ]
  },
  {
   "cell_type": "code",
   "execution_count": null,
   "metadata": {},
   "outputs": [],
   "source": [
    "my_list*3"
   ]
  },
  {
   "cell_type": "markdown",
   "metadata": {},
   "source": [
    "NumPy solves this execution error as seen below:"
   ]
  },
  {
   "cell_type": "code",
   "execution_count": null,
   "metadata": {},
   "outputs": [],
   "source": [
    "import numpy as np\n",
    "my_array = np.array([1,2,3])\n",
    "print(my_array)\n",
    "my_array*3 "
   ]
  },
  {
   "cell_type": "markdown",
   "metadata": {},
   "source": [
    "As seen above, you can import any library **as** a sequence of shorter leters. This is used to increase typing efficiency. While it may seem trivial, say you are typing numpy.array 20 times in one session. If you import numpy as np, you can increase development time by 60 letters. <br>\n",
    "When importing library_full_name **as** shorter_name, it is important to assign the shortened name something descriptive and not another data type (such as int) or function name (such as print).<br>"
   ]
  },
  {
   "cell_type": "markdown",
   "metadata": {},
   "source": [
    "#### **Range function** \n",
    "A very useful function for creating a long list of numbers is the **range function**. The range function can take just one argument *stop*:<br>\n",
    "**range(stop)**<br>\n",
    "ex:"
   ]
  },
  {
   "cell_type": "code",
   "execution_count": 3,
   "metadata": {},
   "outputs": [
    {
     "name": "stdout",
     "output_type": "stream",
     "text": [
      "[[0 1 2 3 4 5 6 7 8 9]]\n"
     ]
    }
   ],
   "source": [
    "import numpy as np\n",
    "L1 = np.array([range(10)])\n",
    "print(L1)"
   ]
  },
  {
   "cell_type": "markdown",
   "metadata": {},
   "source": [
    "range can also take three inputs to specify start, stop and step.<br>\n",
    "**range(start, stop, step)**<br>"
   ]
  },
  {
   "cell_type": "markdown",
   "metadata": {},
   "source": [
    "#### **Q8:** Create a NumPy array called np_A_1 using the range function with even numbers from 2 to 10 (inclusive). Then divide it by 2 and print the result:"
   ]
  },
  {
   "cell_type": "code",
   "execution_count": null,
   "metadata": {},
   "outputs": [],
   "source": [
    "#your code here"
   ]
  },
  {
   "cell_type": "markdown",
   "metadata": {},
   "source": [
    "#### **Numpy Zeros function**\n",
    "To create an empty array, the Numpy Zeros function returns a new array of given shape and type, filled with zeros.\n",
    "**\n",
    "This function is very efficient and as mentioned earlier helps reduce execution time through intialization. "
   ]
  },
  {
   "cell_type": "markdown",
   "metadata": {},
   "source": [
    "### **Indexing lists and arrays**"
   ]
  },
  {
   "cell_type": "markdown",
   "metadata": {},
   "source": [
    "Indexing is used to access specific elements in a list or array. This enables faster access to an element vs stepping through all entries preceding that element. \n",
    "\n",
    "**index:** address/location in the list<br>\n",
    "To access a specfic element use the following syntax:<br>\n",
    "**list_name[index]**<br>\n",
    "\n",
    "** In Python, indexing starts at 0 ** <br>\n",
    "So the first element in a list or array has an index of 0.<br>"
   ]
  },
  {
   "cell_type": "code",
   "execution_count": null,
   "metadata": {},
   "outputs": [],
   "source": [
    "L1 = [1, 2, 3, 4]\n",
    "print(f\"The elements of L1 are: {L1}\")\n",
    "# to index to an element use the following syntax:\n",
    "el1 = L1[0]\n",
    "print(f\"The 1st element of L1 is {el1}\")\n",
    "print(f\"The 0th index   of L1 is {el1}\" )"
   ]
  },
  {
   "cell_type": "markdown",
   "metadata": {},
   "source": [
    "i.e. <br>\n",
    "L1:&nbsp;&nbsp;&nbsp;&nbsp;   [1, 2, 3, 4]<br>\n",
    "index: 0&nbsp;&nbsp;1&nbsp;&nbsp;2&nbsp;&nbsp;3"
   ]
  },
  {
   "cell_type": "markdown",
   "metadata": {},
   "source": [
    "If you type list_name[-1] Python returns the last element in the list, and the 2nd to last element has index [-2]<br>"
   ]
  },
  {
   "cell_type": "code",
   "execution_count": null,
   "metadata": {},
   "outputs": [],
   "source": [
    "print(f\"The last element is: L1[-1] = {L1[-1]}\")\n",
    "print(f\"The 2nd to last  is: L1[-2] = {L1[-2]}\")"
   ]
  },
  {
   "cell_type": "markdown",
   "metadata": {},
   "source": [
    "#### **Q9**: Print the 3rd index of L1. <br> Append to L1 the rest of the integers to 8 (inclusive) and then print the new version of L1:"
   ]
  },
  {
   "cell_type": "code",
   "execution_count": null,
   "metadata": {},
   "outputs": [],
   "source": [
    "#your code here:"
   ]
  },
  {
   "cell_type": "markdown",
   "metadata": {},
   "source": [
    "### **Slicing lists and arrays**\n",
    "Slicing copies specific values out of a list by *including* the starting index but **excluding** the stopping index: <br>\n",
    "list_name[start:stop]<br>\n",
    "ex:"
   ]
  },
  {
   "cell_type": "code",
   "execution_count": null,
   "metadata": {},
   "outputs": [],
   "source": [
    "L_1 = [1,2,3,4]\n",
    "print(f\"L_1: {L_1}\")\n",
    "L_1_s = L_1[1:3]\n",
    "print(L_1_s)"
   ]
  },
  {
   "cell_type": "markdown",
   "metadata": {},
   "source": [
    "Here we can see that the slice started at the 1st index (2) and stopped ***before*** the 3rd index (4) therefore including just 2 and 3 in the slice. It is a common mistake to not include the last index so be sure to go ***one indice past*** the desired element to include it in your slice!"
   ]
  },
  {
   "cell_type": "markdown",
   "metadata": {},
   "source": [
    "#### **Q10:** Using the range function, Create an array named A_2 with values of 1 to 20. <br> Then slice the values from 3 to 13 (inclusive) into a new array called A_2_s and print the new array:"
   ]
  },
  {
   "cell_type": "code",
   "execution_count": null,
   "metadata": {},
   "outputs": [],
   "source": [
    "#your code here"
   ]
  }
 ],
 "metadata": {
  "kernelspec": {
   "display_name": "Python 3",
   "language": "python",
   "name": "python3"
  },
  "language_info": {
   "codemirror_mode": {
    "name": "ipython",
    "version": 3
   },
   "file_extension": ".py",
   "mimetype": "text/x-python",
   "name": "python",
   "nbconvert_exporter": "python",
   "pygments_lexer": "ipython3",
   "version": "3.6.8"
  }
 },
 "nbformat": 4,
 "nbformat_minor": 2
}
